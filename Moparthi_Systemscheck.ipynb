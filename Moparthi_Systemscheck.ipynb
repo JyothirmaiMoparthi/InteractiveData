{
 "cells": [
  {
   "cell_type": "markdown",
   "id": "6978c5a1-9a04-4214-8c9c-0d1649cd75e9",
   "metadata": {},
   "source": [
    "# Systems Check\n",
    "## Jyothirmai\n",
    "### 8/20/2024"
   ]
  },
  {
   "cell_type": "markdown",
   "id": "e080389e-e3dd-4b45-8aaf-cc490f9db11a",
   "metadata": {},
   "source": [
    "### *From Interactive Data we can gain:* \r\n",
    "\r\n",
    "1. **Practical Skills Development**: Gain hands-on experience with interactive data     tools and software to dynamically analyze and visualize data.\r\n",
    "\r\n",
    "2. **Real-Time Data Exploration**: Learn methods for exploring data interactively, enabling more *adaptable* and *responsive* analysis as data changes.\r\n",
    "\r\n",
    "3. **Advanced Visualization Techniques**: Master creating interactive visualizations to reveal patterns and insights clearly, and *effectively* engage your audience.\r\n",
    "\r\n",
    "4. **Effective Insight Communication**: Enhance your ability to present complex data insights in a clear and *impactful* manner for various audiences.\r\n",
    "\r\n",
    "5. **Problem-Solving Expertise**: Build skills to tackle real-world data challenges and make *well-informed decisions* through interactive data analysis."
   ]
  },
  {
   "cell_type": "markdown",
   "id": "9ae3bc03-36d9-49e3-a3f7-927a075b1c3a",
   "metadata": {},
   "source": [
    "![](imageData.jpg)"
   ]
  },
  {
   "cell_type": "code",
   "execution_count": 1,
   "id": "06c04bde-42bd-4d3c-b203-5db1c8c27b34",
   "metadata": {},
   "outputs": [],
   "source": [
    "x=3"
   ]
  },
  {
   "cell_type": "code",
   "execution_count": 2,
   "id": "0c417210-2008-4e0f-95c0-38c6f75c5c68",
   "metadata": {},
   "outputs": [
    {
     "data": {
      "text/plain": [
       "3"
      ]
     },
     "execution_count": 2,
     "metadata": {},
     "output_type": "execute_result"
    }
   ],
   "source": [
    "x"
   ]
  },
  {
   "cell_type": "code",
   "execution_count": 3,
   "id": "1f6def9f-0906-435c-a27e-6535fe18af34",
   "metadata": {},
   "outputs": [
    {
     "data": {
      "text/plain": [
       "[3, 4, 5, 6]"
      ]
     },
     "execution_count": 3,
     "metadata": {},
     "output_type": "execute_result"
    }
   ],
   "source": [
    "my_list = [3,4,5,6]\n",
    "my_list"
   ]
  },
  {
   "cell_type": "code",
   "execution_count": 4,
   "id": "a226c2d5-dee2-4341-8992-04863c62bddb",
   "metadata": {},
   "outputs": [],
   "source": [
    "my_list = ['now', 'see', 'this']"
   ]
  },
  {
   "cell_type": "code",
   "execution_count": 5,
   "id": "2dd72a8a-8306-4918-875d-de75dc0b852e",
   "metadata": {},
   "outputs": [
    {
     "data": {
      "text/plain": [
       "'now'"
      ]
     },
     "execution_count": 5,
     "metadata": {},
     "output_type": "execute_result"
    }
   ],
   "source": [
    "my_list[0]"
   ]
  },
  {
   "cell_type": "markdown",
   "id": "407b9bf6-7afe-402a-ad1a-3e2dd300554f",
   "metadata": {},
   "source": [
    "## *Variable assignment*"
   ]
  },
  {
   "cell_type": "code",
   "execution_count": 6,
   "id": "1d361844-13f4-4340-b9cf-60b50231231e",
   "metadata": {},
   "outputs": [
    {
     "data": {
      "text/plain": [
       "'Jyothirmai'"
      ]
     },
     "execution_count": 6,
     "metadata": {},
     "output_type": "execute_result"
    }
   ],
   "source": [
    "name = \"Jyothirmai\"\n",
    "name"
   ]
  },
  {
   "cell_type": "code",
   "execution_count": 7,
   "id": "0cd5cbcf-15c1-43df-8f9a-2e1ea3201b15",
   "metadata": {},
   "outputs": [
    {
     "data": {
      "text/plain": [
       "'jyothirmai'"
      ]
     },
     "execution_count": 7,
     "metadata": {},
     "output_type": "execute_result"
    }
   ],
   "source": [
    "name = 'jyothirmai'\n",
    "name"
   ]
  },
  {
   "cell_type": "markdown",
   "id": "47af91b4-6a19-4c4e-b577-202074df2540",
   "metadata": {},
   "source": [
    "### *Function with **print** and **return** statement*"
   ]
  },
  {
   "cell_type": "code",
   "execution_count": 8,
   "id": "76249de5-019f-48d4-b826-4172db6638a6",
   "metadata": {},
   "outputs": [],
   "source": [
    "def display_name(x):\n",
    "    print(x)"
   ]
  },
  {
   "cell_type": "code",
   "execution_count": 9,
   "id": "534b6c81-bec2-457e-9296-e45287d3bc05",
   "metadata": {},
   "outputs": [
    {
     "name": "stdout",
     "output_type": "stream",
     "text": [
      "jyothirmai\n"
     ]
    }
   ],
   "source": [
    "display_name(name)"
   ]
  },
  {
   "cell_type": "code",
   "execution_count": 10,
   "id": "e63f2cc4-78c9-4724-980b-b3a0de056254",
   "metadata": {},
   "outputs": [],
   "source": [
    "def change_name(x):\n",
    "    sentence = x + ' is Beautiful'\n",
    "    return sentence"
   ]
  },
  {
   "cell_type": "code",
   "execution_count": 11,
   "id": "8f8000e8-d762-4147-8c8b-b7d318816510",
   "metadata": {},
   "outputs": [
    {
     "data": {
      "text/plain": [
       "'jyothirmai is Beautiful'"
      ]
     },
     "execution_count": 11,
     "metadata": {},
     "output_type": "execute_result"
    }
   ],
   "source": [
    "NewSentence = change_name('jyothirmai')\n",
    "NewSentence"
   ]
  },
  {
   "cell_type": "markdown",
   "id": "17d46a34-2b15-4699-81bc-f3bc4feb1980",
   "metadata": {},
   "source": [
    "## For Loop\n",
    "### Squaring of numbers from 1 to 4"
   ]
  },
  {
   "cell_type": "code",
   "execution_count": 12,
   "id": "4e7965f3-93a2-4714-b678-198c1fee946c",
   "metadata": {},
   "outputs": [
    {
     "name": "stdout",
     "output_type": "stream",
     "text": [
      "1\n",
      "4\n",
      "9\n",
      "16\n"
     ]
    }
   ],
   "source": [
    "for i in range(1,5):\n",
    "    print(i*i)"
   ]
  },
  {
   "cell_type": "markdown",
   "id": "052a0ee3-47ab-4de9-985b-f2896b4f646d",
   "metadata": {},
   "source": [
    "### I have used simple **for loop** to iterate through the sequence of numbers from 1 to 4. For each number in this sequence, it squares of that number by itself and prints the result."
   ]
  },
  {
   "cell_type": "code",
   "execution_count": null,
   "id": "61ab64ea-64b2-45fa-a2ca-a2aab8198410",
   "metadata": {},
   "outputs": [],
   "source": []
  }
 ],
 "metadata": {
  "kernelspec": {
   "display_name": "Python 3 (ipykernel)",
   "language": "python",
   "name": "python3"
  },
  "language_info": {
   "codemirror_mode": {
    "name": "ipython",
    "version": 3
   },
   "file_extension": ".py",
   "mimetype": "text/x-python",
   "name": "python",
   "nbconvert_exporter": "python",
   "pygments_lexer": "ipython3",
   "version": "3.12.4"
  }
 },
 "nbformat": 4,
 "nbformat_minor": 5
}
