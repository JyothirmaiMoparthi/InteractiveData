{
 "cells": [
  {
   "cell_type": "markdown",
   "id": "6978c5a1-9a04-4214-8c9c-0d1649cd75e9",
   "metadata": {},
   "source": [
    "# Systems Check\n",
    "## Jyothirmai\n",
    "### 8/20/2024"
   ]
  },
  {
   "cell_type": "code",
   "execution_count": 1,
   "id": "06c04bde-42bd-4d3c-b203-5db1c8c27b34",
   "metadata": {},
   "outputs": [],
   "source": [
    "x=3"
   ]
  },
  {
   "cell_type": "code",
   "execution_count": 2,
   "id": "0c417210-2008-4e0f-95c0-38c6f75c5c68",
   "metadata": {},
   "outputs": [
    {
     "data": {
      "text/plain": [
       "3"
      ]
     },
     "execution_count": 2,
     "metadata": {},
     "output_type": "execute_result"
    }
   ],
   "source": [
    "x"
   ]
  },
  {
   "cell_type": "code",
   "execution_count": 3,
   "id": "1f6def9f-0906-435c-a27e-6535fe18af34",
   "metadata": {},
   "outputs": [
    {
     "data": {
      "text/plain": [
       "[3, 4, 5, 6]"
      ]
     },
     "execution_count": 3,
     "metadata": {},
     "output_type": "execute_result"
    }
   ],
   "source": [
    "my_list = [3,4,5,6]\n",
    "my_list"
   ]
  },
  {
   "cell_type": "code",
   "execution_count": 4,
   "id": "a226c2d5-dee2-4341-8992-04863c62bddb",
   "metadata": {},
   "outputs": [],
   "source": [
    "my_list = ['now', 'see', 'this']"
   ]
  },
  {
   "cell_type": "code",
   "execution_count": 5,
   "id": "2dd72a8a-8306-4918-875d-de75dc0b852e",
   "metadata": {},
   "outputs": [
    {
     "data": {
      "text/plain": [
       "'now'"
      ]
     },
     "execution_count": 5,
     "metadata": {},
     "output_type": "execute_result"
    }
   ],
   "source": [
    "my_list[0]"
   ]
  },
  {
   "cell_type": "code",
   "execution_count": 6,
   "id": "1d361844-13f4-4340-b9cf-60b50231231e",
   "metadata": {},
   "outputs": [
    {
     "data": {
      "text/plain": [
       "'Jyothirmai'"
      ]
     },
     "execution_count": 6,
     "metadata": {},
     "output_type": "execute_result"
    }
   ],
   "source": [
    "my_name = \"Jyothirmai\"\n",
    "my_name"
   ]
  },
  {
   "cell_type": "code",
   "execution_count": 7,
   "id": "0cd5cbcf-15c1-43df-8f9a-2e1ea3201b15",
   "metadata": {},
   "outputs": [
    {
     "data": {
      "text/plain": [
       "'jyothirmai'"
      ]
     },
     "execution_count": 7,
     "metadata": {},
     "output_type": "execute_result"
    }
   ],
   "source": [
    "my_name = 'jyothirmai'\n",
    "my_name"
   ]
  },
  {
   "cell_type": "code",
   "execution_count": 8,
   "id": "76249de5-019f-48d4-b826-4172db6638a6",
   "metadata": {},
   "outputs": [],
   "source": [
    "def display_name(x):\n",
    "    print(x)\n",
    "\n"
   ]
  },
  {
   "cell_type": "code",
   "execution_count": 9,
   "id": "534b6c81-bec2-457e-9296-e45287d3bc05",
   "metadata": {},
   "outputs": [
    {
     "name": "stdout",
     "output_type": "stream",
     "text": [
      "jyothirmai\n"
     ]
    }
   ],
   "source": [
    "display_name(my_name)"
   ]
  },
  {
   "cell_type": "code",
   "execution_count": 10,
   "id": "e63f2cc4-78c9-4724-980b-b3a0de056254",
   "metadata": {},
   "outputs": [],
   "source": [
    "def change_name(x):\n",
    "    new_name = x + 'new'\n",
    "    return new_name"
   ]
  },
  {
   "cell_type": "code",
   "execution_count": 11,
   "id": "8f8000e8-d762-4147-8c8b-b7d318816510",
   "metadata": {},
   "outputs": [
    {
     "data": {
      "text/plain": [
       "'jyothirmainew'"
      ]
     },
     "execution_count": 11,
     "metadata": {},
     "output_type": "execute_result"
    }
   ],
   "source": [
    "changed_name = change_name('jyothirmai')\n",
    "changed_name"
   ]
  },
  {
   "cell_type": "code",
   "execution_count": null,
   "id": "bd795f80-0080-4029-a275-32ca3d909dc5",
   "metadata": {},
   "outputs": [],
   "source": []
  }
 ],
 "metadata": {
  "kernelspec": {
   "display_name": "Python 3 (ipykernel)",
   "language": "python",
   "name": "python3"
  },
  "language_info": {
   "codemirror_mode": {
    "name": "ipython",
    "version": 3
   },
   "file_extension": ".py",
   "mimetype": "text/x-python",
   "name": "python",
   "nbconvert_exporter": "python",
   "pygments_lexer": "ipython3",
   "version": "3.12.4"
  }
 },
 "nbformat": 4,
 "nbformat_minor": 5
}
