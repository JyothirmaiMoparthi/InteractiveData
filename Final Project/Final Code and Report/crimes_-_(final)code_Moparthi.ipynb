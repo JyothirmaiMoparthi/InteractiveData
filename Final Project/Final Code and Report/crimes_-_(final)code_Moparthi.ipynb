{
 "cells": [
  {
   "cell_type": "code",
   "execution_count": 1,
   "metadata": {},
   "outputs": [],
   "source": [
    "import pandas as pd"
   ]
  },
  {
   "cell_type": "code",
   "execution_count": 2,
   "metadata": {},
   "outputs": [],
   "source": [
    "# Load the uploaded crime_data_cleanedset\n",
    "file = 'crime data.csv'\n",
    "crime_data = pd.read_csv(file)"
   ]
  },
  {
   "cell_type": "markdown",
   "metadata": {},
   "source": [
    "\n",
    "\n",
    "### Code Explanation: Removing Unnecessary Columns from `crime_data` DataFrame\n",
    "\n",
    "The following code snippet focuses on cleaning the `crime_data` DataFrame by removing specific columns deemed unnecessary for the current analysis. This process helps streamline the data, making it more efficient for analysis by retaining only the relevant fields.\n",
    "\n",
    "1. **Define the Columns to Removing the specified columns**:  \n",
    "   - `AREA`: Possibly referring to a general area identifier.\n",
    "   - `Part 1-2`, `Crm Cd`, `Crm Cd 1`, `Crm Cd 2`, `Crm Cd 3`, `Crm Cd 4`: Crime codes that may not be relevant to the current focus.\n",
    "   - `Mocodes`: Modus operandi codes that may add unnecessary complexity.\n",
    "   - `Vict Descent`: Information on the victim’s descent, which might not be relevant for the analysis.\n",
    "   - `Premis Cd`: Code representing premises type.\n",
    "   - `Weapon Used Cd`: Code for the type of weapon used.\n",
    "   - `Status`: Status of the case or report.\n",
    "   - `LOCATION` and `Cross Street`: Geographical data not required in the cleaned dataset.\n",
    "   - `LAT`, `LON`: Latitude and longitude coordinates.\n",
    "   - `TIME OCC`: Time of occurrence, potentially adding detail not necessary at this stage.\n",
    "\n",
    "This results in a cleaned version of the `crime_data` DataFrame, with only the necessary columns for further analysis. The cleaned dataset is stored in `crime_data_cleaned` for further use in the project.\n",
    "\n",
    "---"
   ]
  },
  {
   "cell_type": "code",
   "execution_count": 127,
   "metadata": {},
   "outputs": [],
   "source": [
    "# 3. Define the list of columns to remove\n",
    "columns_to_remove = [\n",
    "    'AREA',\n",
    "    'Part 1-2',\n",
    "    'Crm Cd',\n",
    "    'Mocodes',\n",
    "    'Vict Descent',\n",
    "    'Premis Cd',\n",
    "    'Weapon Used Cd',\n",
    "    'Status',\n",
    "    'Crm Cd 1',\n",
    "    'Crm Cd 2',\n",
    "    'Crm Cd 3',\n",
    "    'Crm Cd 4',\n",
    "    'LOCATION',\n",
    "    'Cross Street',\n",
    "    'LAT',\n",
    "    'LON',\n",
    "    'TIME OCC'\n",
    "]\n",
    "\n",
    "# 4. Remove the specified columns\n",
    "# Option 1: Create a new DataFrame without the unwanted columns\n",
    "crime_data_cleaned = crime_data.drop(columns=columns_to_remove, errors='ignore')"
   ]
  },
  {
   "cell_type": "code",
   "execution_count": 128,
   "metadata": {},
   "outputs": [
    {
     "data": {
      "text/html": [
       "<div>\n",
       "<style scoped>\n",
       "    .dataframe tbody tr th:only-of-type {\n",
       "        vertical-align: middle;\n",
       "    }\n",
       "\n",
       "    .dataframe tbody tr th {\n",
       "        vertical-align: top;\n",
       "    }\n",
       "\n",
       "    .dataframe thead th {\n",
       "        text-align: right;\n",
       "    }\n",
       "</style>\n",
       "<table border=\"1\" class=\"dataframe\">\n",
       "  <thead>\n",
       "    <tr style=\"text-align: right;\">\n",
       "      <th></th>\n",
       "      <th>DR_NO</th>\n",
       "      <th>Date Rptd</th>\n",
       "      <th>DATE OCC</th>\n",
       "      <th>AREA NAME</th>\n",
       "      <th>Rpt Dist No</th>\n",
       "      <th>Crm Cd Desc</th>\n",
       "      <th>Vict Age</th>\n",
       "      <th>Vict Sex</th>\n",
       "      <th>Premis Desc</th>\n",
       "      <th>Weapon Desc</th>\n",
       "      <th>Status Desc</th>\n",
       "    </tr>\n",
       "  </thead>\n",
       "  <tbody>\n",
       "    <tr>\n",
       "      <th>0</th>\n",
       "      <td>190326475</td>\n",
       "      <td>03-01-2020 00:00</td>\n",
       "      <td>03-01-2020 00:00</td>\n",
       "      <td>Wilshire</td>\n",
       "      <td>784</td>\n",
       "      <td>VEHICLE - STOLEN</td>\n",
       "      <td>0</td>\n",
       "      <td>M</td>\n",
       "      <td>STREET</td>\n",
       "      <td>NaN</td>\n",
       "      <td>Adult Arrest</td>\n",
       "    </tr>\n",
       "    <tr>\n",
       "      <th>1</th>\n",
       "      <td>200106753</td>\n",
       "      <td>02-09-2020 00:00</td>\n",
       "      <td>02-08-2020 00:00</td>\n",
       "      <td>Central</td>\n",
       "      <td>182</td>\n",
       "      <td>BURGLARY FROM VEHICLE</td>\n",
       "      <td>47</td>\n",
       "      <td>M</td>\n",
       "      <td>BUS STOP/LAYOVER (ALSO QUERY 124)</td>\n",
       "      <td>NaN</td>\n",
       "      <td>Invest Cont</td>\n",
       "    </tr>\n",
       "    <tr>\n",
       "      <th>2</th>\n",
       "      <td>200320258</td>\n",
       "      <td>11-11-2020 00:00</td>\n",
       "      <td>11-04-2020 00:00</td>\n",
       "      <td>Southwest</td>\n",
       "      <td>356</td>\n",
       "      <td>BIKE - STOLEN</td>\n",
       "      <td>19</td>\n",
       "      <td>X</td>\n",
       "      <td>MULTI-UNIT DWELLING (APARTMENT, DUPLEX, ETC)</td>\n",
       "      <td>NaN</td>\n",
       "      <td>Invest Cont</td>\n",
       "    </tr>\n",
       "    <tr>\n",
       "      <th>3</th>\n",
       "      <td>200907217</td>\n",
       "      <td>05-10-2023 00:00</td>\n",
       "      <td>03-10-2020 00:00</td>\n",
       "      <td>Van Nuys</td>\n",
       "      <td>964</td>\n",
       "      <td>SHOPLIFTING-GRAND THEFT ($950.01 &amp; OVER)</td>\n",
       "      <td>19</td>\n",
       "      <td>M</td>\n",
       "      <td>CLOTHING STORE</td>\n",
       "      <td>NaN</td>\n",
       "      <td>Invest Cont</td>\n",
       "    </tr>\n",
       "    <tr>\n",
       "      <th>4</th>\n",
       "      <td>220614831</td>\n",
       "      <td>08/18/2022 12:00:00 AM</td>\n",
       "      <td>08/17/2020 12:00:00 AM</td>\n",
       "      <td>Hollywood</td>\n",
       "      <td>666</td>\n",
       "      <td>THEFT OF IDENTITY</td>\n",
       "      <td>28</td>\n",
       "      <td>M</td>\n",
       "      <td>SIDEWALK</td>\n",
       "      <td>NaN</td>\n",
       "      <td>Invest Cont</td>\n",
       "    </tr>\n",
       "  </tbody>\n",
       "</table>\n",
       "</div>"
      ],
      "text/plain": [
       "       DR_NO               Date Rptd                DATE OCC  AREA NAME  \\\n",
       "0  190326475        03-01-2020 00:00        03-01-2020 00:00   Wilshire   \n",
       "1  200106753        02-09-2020 00:00        02-08-2020 00:00    Central   \n",
       "2  200320258        11-11-2020 00:00        11-04-2020 00:00  Southwest   \n",
       "3  200907217        05-10-2023 00:00        03-10-2020 00:00   Van Nuys   \n",
       "4  220614831  08/18/2022 12:00:00 AM  08/17/2020 12:00:00 AM  Hollywood   \n",
       "\n",
       "   Rpt Dist No                               Crm Cd Desc  Vict Age Vict Sex  \\\n",
       "0          784                          VEHICLE - STOLEN         0        M   \n",
       "1          182                     BURGLARY FROM VEHICLE        47        M   \n",
       "2          356                             BIKE - STOLEN        19        X   \n",
       "3          964  SHOPLIFTING-GRAND THEFT ($950.01 & OVER)        19        M   \n",
       "4          666                         THEFT OF IDENTITY        28        M   \n",
       "\n",
       "                                    Premis Desc Weapon Desc   Status Desc  \n",
       "0                                        STREET         NaN  Adult Arrest  \n",
       "1             BUS STOP/LAYOVER (ALSO QUERY 124)         NaN   Invest Cont  \n",
       "2  MULTI-UNIT DWELLING (APARTMENT, DUPLEX, ETC)         NaN   Invest Cont  \n",
       "3                                CLOTHING STORE         NaN   Invest Cont  \n",
       "4                                      SIDEWALK         NaN   Invest Cont  "
      ]
     },
     "execution_count": 128,
     "metadata": {},
     "output_type": "execute_result"
    }
   ],
   "source": [
    "crime_data_cleaned.head()"
   ]
  },
  {
   "cell_type": "code",
   "execution_count": 129,
   "metadata": {},
   "outputs": [
    {
     "name": "stdout",
     "output_type": "stream",
     "text": [
      "<class 'pandas.core.frame.DataFrame'>\n",
      "RangeIndex: 1071 entries, 0 to 1070\n",
      "Data columns (total 11 columns):\n",
      " #   Column       Non-Null Count  Dtype \n",
      "---  ------       --------------  ----- \n",
      " 0   DR_NO        1071 non-null   int64 \n",
      " 1   Date Rptd    1071 non-null   object\n",
      " 2   DATE OCC     1071 non-null   object\n",
      " 3   AREA NAME    1071 non-null   object\n",
      " 4   Rpt Dist No  1071 non-null   int64 \n",
      " 5   Crm Cd Desc  1071 non-null   object\n",
      " 6   Vict Age     1071 non-null   int64 \n",
      " 7   Vict Sex     1000 non-null   object\n",
      " 8   Premis Desc  1071 non-null   object\n",
      " 9   Weapon Desc  210 non-null    object\n",
      " 10  Status Desc  1071 non-null   object\n",
      "dtypes: int64(3), object(8)\n",
      "memory usage: 92.2+ KB\n"
     ]
    },
    {
     "data": {
      "text/plain": [
       "(1071, 11)"
      ]
     },
     "execution_count": 129,
     "metadata": {},
     "output_type": "execute_result"
    }
   ],
   "source": [
    "# Display a summary of the data to understand its structure\n",
    "crime_data_cleaned.info()\n",
    "crime_data_cleaned.shape"
   ]
  },
  {
   "cell_type": "markdown",
   "metadata": {},
   "source": [
    "### Checking for Missing Values in `crime_data_cleaned`\n",
    "\n",
    "The code `crime_data_cleaned.isnull().sum()` is used to identify missing values in the `crime_data_cleaned` DataFrame by calculating the total number of null values in each column. The output provides a count of missing entries, which can guide us in handling incomplete data effectively.\n",
    "\n",
    "\n",
    "#### Insights\n",
    "\n",
    "- **`Vict Sex` and `Weapon Desc`** columns have missing values:\n",
    "  - `Vict Sex` has 71 missing values.\n",
    "  - `Weapon Desc` has a significant number of missing values (861).\n",
    "  \n",
    "These missing values may need to be addressed depending on the analysis requirements. Possible handling methods include imputation, filling with a default value, or excluding rows with missing values, depending on the impact on the analysis objectives."
   ]
  },
  {
   "cell_type": "code",
   "execution_count": 130,
   "metadata": {},
   "outputs": [
    {
     "data": {
      "text/plain": [
       "DR_NO            0\n",
       "Date Rptd        0\n",
       "DATE OCC         0\n",
       "AREA NAME        0\n",
       "Rpt Dist No      0\n",
       "Crm Cd Desc      0\n",
       "Vict Age         0\n",
       "Vict Sex        71\n",
       "Premis Desc      0\n",
       "Weapon Desc    861\n",
       "Status Desc      0\n",
       "dtype: int64"
      ]
     },
     "execution_count": 130,
     "metadata": {},
     "output_type": "execute_result"
    }
   ],
   "source": [
    "crime_data_cleaned.isnull().sum()"
   ]
  },
  {
   "cell_type": "markdown",
   "metadata": {},
   "source": [
    "### Filling Missing Values in `crime_data_cleaned`\n",
    "\n",
    "To address missing values in key columns, the following code fills the null entries with specific default values. This approach ensures consistency and completeness in the dataset, which is crucial for accurate analysis.\n",
    "\n",
    "1. **Fill Missing Values in `Vict Sex`**:\n",
    "   - `crime_data_cleaned['Vict Sex'].fillna('Unidentified', inplace=True)`\n",
    "   - This line fills missing values in the `Vict Sex` column with the value `'Unidentified'`, which helps retain these records while clearly indicating unidentified gender information.\n",
    "\n",
    "2. **Fill Missing Values in `Weapon Desc`**:\n",
    "   - `crime_data_cleaned['Weapon Desc'].fillna('None', inplace=True)`\n",
    "   - This line replaces missing values in the `Weapon Desc` column with `'None'`, indicating that no weapon was reported or applicable. This prevents the need to drop records with missing weapon descriptions, preserving the dataset's completeness.\n",
    "\n",
    "Using these default values maintains the dataset's structure and makes it ready for further analysis without losing potentially useful information due to missing entries."
   ]
  },
  {
   "cell_type": "code",
   "execution_count": 131,
   "metadata": {},
   "outputs": [],
   "source": [
    "# Fill missing values\n",
    "crime_data_cleaned['Vict Sex'].fillna('Unidentified', inplace=True)\n",
    "crime_data_cleaned['Weapon Desc'].fillna('None', inplace=True)\n",
    "\n"
   ]
  },
  {
   "cell_type": "code",
   "execution_count": 132,
   "metadata": {},
   "outputs": [
    {
     "data": {
      "text/plain": [
       "DR_NO          0\n",
       "Date Rptd      0\n",
       "DATE OCC       0\n",
       "AREA NAME      0\n",
       "Rpt Dist No    0\n",
       "Crm Cd Desc    0\n",
       "Vict Age       0\n",
       "Vict Sex       0\n",
       "Premis Desc    0\n",
       "Weapon Desc    0\n",
       "Status Desc    0\n",
       "dtype: int64"
      ]
     },
     "execution_count": 132,
     "metadata": {},
     "output_type": "execute_result"
    }
   ],
   "source": [
    "crime_data_cleaned.isnull().sum()"
   ]
  },
  {
   "cell_type": "markdown",
   "metadata": {},
   "source": [
    "### Standardizing Dates in the `Date Rptd` Column\n",
    "\n",
    "This code defines a function to clean and standardize dates in the `Date Rptd` column, which might contain different date formats. The function adjusts any inconsistencies, such as different separators (slashes vs. hyphens), removes unnecessary details like \"AM/PM\" or trailing \"00:00,\" and then tries to convert each date into a consistent format.\n",
    "\n",
    "After defining this function, it’s applied to the `Date Rptd` column, creating a new, standardized column called `Date Rptd Standardized`. This ensures all dates are uniform, making them easier to work with in further analysis. Finally, a quick preview displays both the original and standardized dates to confirm successful conversion."
   ]
  },
  {
   "cell_type": "code",
   "execution_count": 133,
   "metadata": {},
   "outputs": [
    {
     "data": {
      "text/html": [
       "<div>\n",
       "<style scoped>\n",
       "    .dataframe tbody tr th:only-of-type {\n",
       "        vertical-align: middle;\n",
       "    }\n",
       "\n",
       "    .dataframe tbody tr th {\n",
       "        vertical-align: top;\n",
       "    }\n",
       "\n",
       "    .dataframe thead th {\n",
       "        text-align: right;\n",
       "    }\n",
       "</style>\n",
       "<table border=\"1\" class=\"dataframe\">\n",
       "  <thead>\n",
       "    <tr style=\"text-align: right;\">\n",
       "      <th></th>\n",
       "      <th>Date Rptd</th>\n",
       "      <th>Date Rptd Standardized</th>\n",
       "    </tr>\n",
       "  </thead>\n",
       "  <tbody>\n",
       "    <tr>\n",
       "      <th>0</th>\n",
       "      <td>03-01-2020 00:00</td>\n",
       "      <td>2020-03-01 00:00:00</td>\n",
       "    </tr>\n",
       "    <tr>\n",
       "      <th>1</th>\n",
       "      <td>02-09-2020 00:00</td>\n",
       "      <td>2020-02-09 00:00:00</td>\n",
       "    </tr>\n",
       "    <tr>\n",
       "      <th>2</th>\n",
       "      <td>11-11-2020 00:00</td>\n",
       "      <td>2020-11-11 00:00:00</td>\n",
       "    </tr>\n",
       "    <tr>\n",
       "      <th>3</th>\n",
       "      <td>05-10-2023 00:00</td>\n",
       "      <td>2023-05-10 00:00:00</td>\n",
       "    </tr>\n",
       "    <tr>\n",
       "      <th>4</th>\n",
       "      <td>08/18/2022 12:00:00 AM</td>\n",
       "      <td>2022-08-18 12:00:00</td>\n",
       "    </tr>\n",
       "  </tbody>\n",
       "</table>\n",
       "</div>"
      ],
      "text/plain": [
       "                Date Rptd Date Rptd Standardized\n",
       "0        03-01-2020 00:00    2020-03-01 00:00:00\n",
       "1        02-09-2020 00:00    2020-02-09 00:00:00\n",
       "2        11-11-2020 00:00    2020-11-11 00:00:00\n",
       "3        05-10-2023 00:00    2023-05-10 00:00:00\n",
       "4  08/18/2022 12:00:00 AM    2022-08-18 12:00:00"
      ]
     },
     "execution_count": 133,
     "metadata": {},
     "output_type": "execute_result"
    }
   ],
   "source": [
    "# Refined function to handle the additional time format and trailing \"00:00\"\n",
    "def standardize_date_refined(date_str):\n",
    "    # Handle different formats\n",
    "    if isinstance(date_str, str):\n",
    "        if '/' in date_str:\n",
    "            date_str = date_str.replace('/', '-')\n",
    "        if ' AM' in date_str or ' PM' in date_str:\n",
    "            date_str = date_str[:-3]  # Remove AM/PM\n",
    "        if date_str.endswith(\" 00:00\"):\n",
    "            date_str = date_str.replace(\" 00:00\", \"\")\n",
    "    \n",
    "    # Try to parse the date\n",
    "    try:\n",
    "        return pd.to_datetime(date_str, format='%Y-%m-%d %H:%M:%S')\n",
    "    except ValueError:\n",
    "        try:\n",
    "            # If time isn't specified, pandas will default to 00:00:00\n",
    "            return pd.to_datetime(date_str, format='%m-%d-%Y')\n",
    "        except ValueError:\n",
    "            try:\n",
    "                # Another attempt with standard pandas parsing if specific format fails\n",
    "                return pd.to_datetime(date_str, errors='coerce')\n",
    "            except ValueError:\n",
    "                print(f\"Failed to parse: {date_str}\")\n",
    "                return None\n",
    "\n",
    "# Apply the refined function to standardize the 'Date Rptd' column\n",
    "crime_data_cleaned['Date Rptd Standardized'] = crime_data['Date Rptd'].apply(standardize_date_refined)\n",
    "\n",
    "# Display a sample of the data to check results\n",
    "crime_data_cleaned[['Date Rptd', 'Date Rptd Standardized']].head()\n"
   ]
  },
  {
   "cell_type": "markdown",
   "metadata": {},
   "source": [
    "### Dropping Original Date Columns After Standardization\n",
    "\n",
    "This code removes the original `Date Rptd` and `DATE OCC` columns from the `crime_data_cleaned` DataFrame after the dates have been standardized and stored in a new column. Dropping these columns helps to streamline the dataset, retaining only the standardized date format for consistency and clarity in analysis.\n",
    "\n",
    "After removing these columns, the `head()` function is used to display the first few rows of the updated DataFrame to confirm the changes."
   ]
  },
  {
   "cell_type": "code",
   "execution_count": 134,
   "metadata": {},
   "outputs": [
    {
     "data": {
      "text/html": [
       "<div>\n",
       "<style scoped>\n",
       "    .dataframe tbody tr th:only-of-type {\n",
       "        vertical-align: middle;\n",
       "    }\n",
       "\n",
       "    .dataframe tbody tr th {\n",
       "        vertical-align: top;\n",
       "    }\n",
       "\n",
       "    .dataframe thead th {\n",
       "        text-align: right;\n",
       "    }\n",
       "</style>\n",
       "<table border=\"1\" class=\"dataframe\">\n",
       "  <thead>\n",
       "    <tr style=\"text-align: right;\">\n",
       "      <th></th>\n",
       "      <th>DR_NO</th>\n",
       "      <th>AREA NAME</th>\n",
       "      <th>Rpt Dist No</th>\n",
       "      <th>Crm Cd Desc</th>\n",
       "      <th>Vict Age</th>\n",
       "      <th>Vict Sex</th>\n",
       "      <th>Premis Desc</th>\n",
       "      <th>Weapon Desc</th>\n",
       "      <th>Status Desc</th>\n",
       "      <th>Date Rptd Standardized</th>\n",
       "    </tr>\n",
       "  </thead>\n",
       "  <tbody>\n",
       "    <tr>\n",
       "      <th>0</th>\n",
       "      <td>190326475</td>\n",
       "      <td>Wilshire</td>\n",
       "      <td>784</td>\n",
       "      <td>VEHICLE - STOLEN</td>\n",
       "      <td>0</td>\n",
       "      <td>M</td>\n",
       "      <td>STREET</td>\n",
       "      <td>None</td>\n",
       "      <td>Adult Arrest</td>\n",
       "      <td>2020-03-01 00:00:00</td>\n",
       "    </tr>\n",
       "    <tr>\n",
       "      <th>1</th>\n",
       "      <td>200106753</td>\n",
       "      <td>Central</td>\n",
       "      <td>182</td>\n",
       "      <td>BURGLARY FROM VEHICLE</td>\n",
       "      <td>47</td>\n",
       "      <td>M</td>\n",
       "      <td>BUS STOP/LAYOVER (ALSO QUERY 124)</td>\n",
       "      <td>None</td>\n",
       "      <td>Invest Cont</td>\n",
       "      <td>2020-02-09 00:00:00</td>\n",
       "    </tr>\n",
       "    <tr>\n",
       "      <th>2</th>\n",
       "      <td>200320258</td>\n",
       "      <td>Southwest</td>\n",
       "      <td>356</td>\n",
       "      <td>BIKE - STOLEN</td>\n",
       "      <td>19</td>\n",
       "      <td>X</td>\n",
       "      <td>MULTI-UNIT DWELLING (APARTMENT, DUPLEX, ETC)</td>\n",
       "      <td>None</td>\n",
       "      <td>Invest Cont</td>\n",
       "      <td>2020-11-11 00:00:00</td>\n",
       "    </tr>\n",
       "    <tr>\n",
       "      <th>3</th>\n",
       "      <td>200907217</td>\n",
       "      <td>Van Nuys</td>\n",
       "      <td>964</td>\n",
       "      <td>SHOPLIFTING-GRAND THEFT ($950.01 &amp; OVER)</td>\n",
       "      <td>19</td>\n",
       "      <td>M</td>\n",
       "      <td>CLOTHING STORE</td>\n",
       "      <td>None</td>\n",
       "      <td>Invest Cont</td>\n",
       "      <td>2023-05-10 00:00:00</td>\n",
       "    </tr>\n",
       "    <tr>\n",
       "      <th>4</th>\n",
       "      <td>220614831</td>\n",
       "      <td>Hollywood</td>\n",
       "      <td>666</td>\n",
       "      <td>THEFT OF IDENTITY</td>\n",
       "      <td>28</td>\n",
       "      <td>M</td>\n",
       "      <td>SIDEWALK</td>\n",
       "      <td>None</td>\n",
       "      <td>Invest Cont</td>\n",
       "      <td>2022-08-18 12:00:00</td>\n",
       "    </tr>\n",
       "  </tbody>\n",
       "</table>\n",
       "</div>"
      ],
      "text/plain": [
       "       DR_NO  AREA NAME  Rpt Dist No  \\\n",
       "0  190326475   Wilshire          784   \n",
       "1  200106753    Central          182   \n",
       "2  200320258  Southwest          356   \n",
       "3  200907217   Van Nuys          964   \n",
       "4  220614831  Hollywood          666   \n",
       "\n",
       "                                Crm Cd Desc  Vict Age Vict Sex  \\\n",
       "0                          VEHICLE - STOLEN         0        M   \n",
       "1                     BURGLARY FROM VEHICLE        47        M   \n",
       "2                             BIKE - STOLEN        19        X   \n",
       "3  SHOPLIFTING-GRAND THEFT ($950.01 & OVER)        19        M   \n",
       "4                         THEFT OF IDENTITY        28        M   \n",
       "\n",
       "                                    Premis Desc Weapon Desc   Status Desc  \\\n",
       "0                                        STREET        None  Adult Arrest   \n",
       "1             BUS STOP/LAYOVER (ALSO QUERY 124)        None   Invest Cont   \n",
       "2  MULTI-UNIT DWELLING (APARTMENT, DUPLEX, ETC)        None   Invest Cont   \n",
       "3                                CLOTHING STORE        None   Invest Cont   \n",
       "4                                      SIDEWALK        None   Invest Cont   \n",
       "\n",
       "  Date Rptd Standardized  \n",
       "0    2020-03-01 00:00:00  \n",
       "1    2020-02-09 00:00:00  \n",
       "2    2020-11-11 00:00:00  \n",
       "3    2023-05-10 00:00:00  \n",
       "4    2022-08-18 12:00:00  "
      ]
     },
     "execution_count": 134,
     "metadata": {},
     "output_type": "execute_result"
    }
   ],
   "source": [
    "# Dropping the original 'Date Rptd' column after standardization\n",
    "crime_data_cleaned.drop(columns=['Date Rptd','DATE OCC'], inplace=True)\n",
    "\n",
    "# Display the updated dataframe to confirm the column has been removed\n",
    "crime_data_cleaned.head()\n"
   ]
  },
  {
   "cell_type": "markdown",
   "metadata": {},
   "source": [
    "### Creating Separate Columns for Month, Day, and Year\n",
    "\n",
    "This code segment refines the standardized date in the `Date Rptd Standardized` column by breaking it down into separate columns for **Month**, **Day**, and **Year**, allowing for more detailed time-based analysis.\n",
    "\n",
    "1. **Ensure Date Format**:  \n",
    "   - The first line ensures that `Date Rptd Standardized` is recognized as a datetime format, allowing for easy extraction of specific date components.\n",
    "\n",
    "2. **Extract Month, Day, and Year**:  \n",
    "   - Using `.dt.month`, `.dt.day`, and `.dt.year`, new columns are created for each part of the date. This breakdown supports more granular time analysis, such as examining trends by specific months or years.\n",
    "\n",
    "3. **Optional Month as Text**:  \n",
    "   - The `Month_Str` column converts the month number into a full month name (e.g., January, February) for easier readability in reports or visualizations. If this text format is used, the numeric `Month` column can optionally be removed for clarity.\n",
    "\n",
    "4. **Drop `Date Rptd Standardized`**:  \n",
    "   - Finally, the `Date Rptd Standardized` column is dropped, leaving only the newly created time-related columns. This keeps the DataFrame clean and focused on the components required for analysis.\n",
    "\n",
    "The updated DataFrame, now including separate columns for month, day, and year, is displayed to confirm successful transformation."
   ]
  },
  {
   "cell_type": "code",
   "execution_count": 135,
   "metadata": {},
   "outputs": [
    {
     "name": "stdout",
     "output_type": "stream",
     "text": [
      "          DR_NO    AREA NAME  Rpt Dist No  \\\n",
      "0     190326475     Wilshire          784   \n",
      "1     200106753      Central          182   \n",
      "2     200320258    Southwest          356   \n",
      "3     200907217     Van Nuys          964   \n",
      "4     220614831    Hollywood          666   \n",
      "...         ...          ...          ...   \n",
      "1066  230915809     Van Nuys          946   \n",
      "1067  221011912  West Valley         1033   \n",
      "1068  211517150  N Hollywood         1513   \n",
      "1069  222008033      Olympic         2016   \n",
      "1070  220808336      West LA          812   \n",
      "\n",
      "                                            Crm Cd Desc  Vict Age Vict Sex  \\\n",
      "0                                      VEHICLE - STOLEN         0        M   \n",
      "1                                 BURGLARY FROM VEHICLE        47        M   \n",
      "2                                         BIKE - STOLEN        19        X   \n",
      "3              SHOPLIFTING-GRAND THEFT ($950.01 & OVER)        19        M   \n",
      "4                                     THEFT OF IDENTITY        28        M   \n",
      "...                                                 ...       ...      ...   \n",
      "1066                                  THEFT OF IDENTITY        55        M   \n",
      "1067                                  THEFT OF IDENTITY        76        M   \n",
      "1068                        BATTERY WITH SEXUAL CONTACT        10        F   \n",
      "1069  CRM AGNST CHLD (13 OR UNDER) (14-15 & SUSP 10 ...        11        F   \n",
      "1070                 THEFT PLAIN - PETTY ($950 & UNDER)        49        F   \n",
      "\n",
      "                                       Premis Desc  \\\n",
      "0                                           STREET   \n",
      "1                BUS STOP/LAYOVER (ALSO QUERY 124)   \n",
      "2     MULTI-UNIT DWELLING (APARTMENT, DUPLEX, ETC)   \n",
      "3                                   CLOTHING STORE   \n",
      "4                                         SIDEWALK   \n",
      "...                                            ...   \n",
      "1066  MULTI-UNIT DWELLING (APARTMENT, DUPLEX, ETC)   \n",
      "1067  MULTI-UNIT DWELLING (APARTMENT, DUPLEX, ETC)   \n",
      "1068                        SINGLE FAMILY DWELLING   \n",
      "1069  MULTI-UNIT DWELLING (APARTMENT, DUPLEX, ETC)   \n",
      "1070                                        STREET   \n",
      "\n",
      "                                         Weapon Desc   Status Desc  \\\n",
      "0                                               None  Adult Arrest   \n",
      "1                                               None   Invest Cont   \n",
      "2                                               None   Invest Cont   \n",
      "3                                               None   Invest Cont   \n",
      "4                                               None   Invest Cont   \n",
      "...                                              ...           ...   \n",
      "1066                                            None   Invest Cont   \n",
      "1067                                            None   Invest Cont   \n",
      "1068  STRONG-ARM (HANDS, FIST, FEET OR BODILY FORCE)  Adult Arrest   \n",
      "1069  STRONG-ARM (HANDS, FIST, FEET OR BODILY FORCE)  Adult Arrest   \n",
      "1070                                            None   Invest Cont   \n",
      "\n",
      "     Date Rptd Standardized  Month  Day  Year Month_Str  \n",
      "0       2020-03-01 00:00:00      3    1  2020     March  \n",
      "1       2020-02-09 00:00:00      2    9  2020  February  \n",
      "2       2020-11-11 00:00:00     11   11  2020  November  \n",
      "3       2023-05-10 00:00:00      5   10  2023       May  \n",
      "4       2022-08-18 12:00:00      8   18  2022    August  \n",
      "...                     ...    ...  ...   ...       ...  \n",
      "1066    2023-10-30 12:00:00     10   30  2023   October  \n",
      "1067    2022-07-22 12:00:00      7   22  2022      July  \n",
      "1068    2021-11-08 00:00:00     11    8  2021  November  \n",
      "1069    2022-04-03 00:00:00      4    3  2022     April  \n",
      "1070    2022-04-18 12:00:00      4   18  2022     April  \n",
      "\n",
      "[1071 rows x 14 columns]\n"
     ]
    }
   ],
   "source": [
    "\n",
    "# Ensure 'Date Rptd_Standardized' is of datetime type\n",
    "crime_data_cleaned['Date Rptd Standardized'] = pd.to_datetime(crime_data_cleaned['Date Rptd Standardized'])\n",
    "\n",
    "# Extract Month, Day, Year into separate columns\n",
    "crime_data_cleaned['Month'] = crime_data_cleaned['Date Rptd Standardized'].dt.month\n",
    "crime_data_cleaned['Day']   = crime_data_cleaned['Date Rptd Standardized'].dt.day\n",
    "crime_data_cleaned['Year']  = crime_data_cleaned['Date Rptd Standardized'].dt.year\n",
    "\n",
    "# Optional: If you want Month as String (e.g., January, February, etc.)\n",
    "crime_data_cleaned['Month_Str'] = crime_data_cleaned['Date Rptd Standardized'].dt.strftime('%B')\n",
    "# If using Month_Str, you might want to drop the numeric 'Month' column\n",
    "\n",
    "# Drop the 'Date Rptd_Standardized' column (and 'Date Rptd' if not needed)\n",
    "df = crime_data_cleaned.drop(columns=['Date Rptd Standardized'])  # Comment out 'Date Rptd' if needed\n",
    "\n",
    "print(crime_data_cleaned)\n"
   ]
  },
  {
   "cell_type": "code",
   "execution_count": 136,
   "metadata": {},
   "outputs": [
    {
     "data": {
      "text/html": [
       "<div>\n",
       "<style scoped>\n",
       "    .dataframe tbody tr th:only-of-type {\n",
       "        vertical-align: middle;\n",
       "    }\n",
       "\n",
       "    .dataframe tbody tr th {\n",
       "        vertical-align: top;\n",
       "    }\n",
       "\n",
       "    .dataframe thead th {\n",
       "        text-align: right;\n",
       "    }\n",
       "</style>\n",
       "<table border=\"1\" class=\"dataframe\">\n",
       "  <thead>\n",
       "    <tr style=\"text-align: right;\">\n",
       "      <th></th>\n",
       "      <th>DR_NO</th>\n",
       "      <th>AREA NAME</th>\n",
       "      <th>Rpt Dist No</th>\n",
       "      <th>Crm Cd Desc</th>\n",
       "      <th>Vict Age</th>\n",
       "      <th>Vict Sex</th>\n",
       "      <th>Premis Desc</th>\n",
       "      <th>Weapon Desc</th>\n",
       "      <th>Status Desc</th>\n",
       "      <th>Date Rptd Standardized</th>\n",
       "      <th>Month</th>\n",
       "      <th>Day</th>\n",
       "      <th>Year</th>\n",
       "      <th>Month_Str</th>\n",
       "    </tr>\n",
       "  </thead>\n",
       "  <tbody>\n",
       "    <tr>\n",
       "      <th>0</th>\n",
       "      <td>190326475</td>\n",
       "      <td>Wilshire</td>\n",
       "      <td>784</td>\n",
       "      <td>VEHICLE - STOLEN</td>\n",
       "      <td>0</td>\n",
       "      <td>M</td>\n",
       "      <td>STREET</td>\n",
       "      <td>None</td>\n",
       "      <td>Adult Arrest</td>\n",
       "      <td>2020-03-01 00:00:00</td>\n",
       "      <td>3</td>\n",
       "      <td>1</td>\n",
       "      <td>2020</td>\n",
       "      <td>March</td>\n",
       "    </tr>\n",
       "    <tr>\n",
       "      <th>1</th>\n",
       "      <td>200106753</td>\n",
       "      <td>Central</td>\n",
       "      <td>182</td>\n",
       "      <td>BURGLARY FROM VEHICLE</td>\n",
       "      <td>47</td>\n",
       "      <td>M</td>\n",
       "      <td>BUS STOP/LAYOVER (ALSO QUERY 124)</td>\n",
       "      <td>None</td>\n",
       "      <td>Invest Cont</td>\n",
       "      <td>2020-02-09 00:00:00</td>\n",
       "      <td>2</td>\n",
       "      <td>9</td>\n",
       "      <td>2020</td>\n",
       "      <td>February</td>\n",
       "    </tr>\n",
       "    <tr>\n",
       "      <th>2</th>\n",
       "      <td>200320258</td>\n",
       "      <td>Southwest</td>\n",
       "      <td>356</td>\n",
       "      <td>BIKE - STOLEN</td>\n",
       "      <td>19</td>\n",
       "      <td>X</td>\n",
       "      <td>MULTI-UNIT DWELLING (APARTMENT, DUPLEX, ETC)</td>\n",
       "      <td>None</td>\n",
       "      <td>Invest Cont</td>\n",
       "      <td>2020-11-11 00:00:00</td>\n",
       "      <td>11</td>\n",
       "      <td>11</td>\n",
       "      <td>2020</td>\n",
       "      <td>November</td>\n",
       "    </tr>\n",
       "    <tr>\n",
       "      <th>3</th>\n",
       "      <td>200907217</td>\n",
       "      <td>Van Nuys</td>\n",
       "      <td>964</td>\n",
       "      <td>SHOPLIFTING-GRAND THEFT ($950.01 &amp; OVER)</td>\n",
       "      <td>19</td>\n",
       "      <td>M</td>\n",
       "      <td>CLOTHING STORE</td>\n",
       "      <td>None</td>\n",
       "      <td>Invest Cont</td>\n",
       "      <td>2023-05-10 00:00:00</td>\n",
       "      <td>5</td>\n",
       "      <td>10</td>\n",
       "      <td>2023</td>\n",
       "      <td>May</td>\n",
       "    </tr>\n",
       "    <tr>\n",
       "      <th>4</th>\n",
       "      <td>220614831</td>\n",
       "      <td>Hollywood</td>\n",
       "      <td>666</td>\n",
       "      <td>THEFT OF IDENTITY</td>\n",
       "      <td>28</td>\n",
       "      <td>M</td>\n",
       "      <td>SIDEWALK</td>\n",
       "      <td>None</td>\n",
       "      <td>Invest Cont</td>\n",
       "      <td>2022-08-18 12:00:00</td>\n",
       "      <td>8</td>\n",
       "      <td>18</td>\n",
       "      <td>2022</td>\n",
       "      <td>August</td>\n",
       "    </tr>\n",
       "  </tbody>\n",
       "</table>\n",
       "</div>"
      ],
      "text/plain": [
       "       DR_NO  AREA NAME  Rpt Dist No  \\\n",
       "0  190326475   Wilshire          784   \n",
       "1  200106753    Central          182   \n",
       "2  200320258  Southwest          356   \n",
       "3  200907217   Van Nuys          964   \n",
       "4  220614831  Hollywood          666   \n",
       "\n",
       "                                Crm Cd Desc  Vict Age Vict Sex  \\\n",
       "0                          VEHICLE - STOLEN         0        M   \n",
       "1                     BURGLARY FROM VEHICLE        47        M   \n",
       "2                             BIKE - STOLEN        19        X   \n",
       "3  SHOPLIFTING-GRAND THEFT ($950.01 & OVER)        19        M   \n",
       "4                         THEFT OF IDENTITY        28        M   \n",
       "\n",
       "                                    Premis Desc Weapon Desc   Status Desc  \\\n",
       "0                                        STREET        None  Adult Arrest   \n",
       "1             BUS STOP/LAYOVER (ALSO QUERY 124)        None   Invest Cont   \n",
       "2  MULTI-UNIT DWELLING (APARTMENT, DUPLEX, ETC)        None   Invest Cont   \n",
       "3                                CLOTHING STORE        None   Invest Cont   \n",
       "4                                      SIDEWALK        None   Invest Cont   \n",
       "\n",
       "  Date Rptd Standardized  Month  Day  Year Month_Str  \n",
       "0    2020-03-01 00:00:00      3    1  2020     March  \n",
       "1    2020-02-09 00:00:00      2    9  2020  February  \n",
       "2    2020-11-11 00:00:00     11   11  2020  November  \n",
       "3    2023-05-10 00:00:00      5   10  2023       May  \n",
       "4    2022-08-18 12:00:00      8   18  2022    August  "
      ]
     },
     "execution_count": 136,
     "metadata": {},
     "output_type": "execute_result"
    }
   ],
   "source": [
    "crime_data_cleaned.head()"
   ]
  },
  {
   "cell_type": "markdown",
   "metadata": {},
   "source": [
    "### Objective\n",
    "\n",
    "The goal is to identify the most common types of crime in each area, providing insights into specific crime patterns. This information can help authorities and stakeholders allocate resources effectively and implement targeted measures to address prevalent crime types in high-risk areas.\n",
    "\n",
    "### Approach and Rationale\n",
    "\n",
    "To address this objective, we’ve chosen a multi-step process involving data grouping, ranking, and visualization. Here’s why each step is essential and why this approach is effective:\n",
    "\n",
    "1. **Grouping and Counting Crime Types by Area**:\n",
    "   - **What we’re doing**: We group the data by `AREA NAME` and `Crm Cd Desc` (crime description) to count how often each crime type occurs in each area.\n",
    "   - **Why this is effective**: This initial grouping provides a granular breakdown of crime types by location, allowing us to identify not just the most common crime overall, but specifically within each area. This level of detail is crucial for tailoring interventions to local needs.\n",
    "\n",
    "2. **Sorting and Selecting the Most Frequent Crime**:\n",
    "   - **What we’re doing**: After counting, we sort the data by `AREA NAME` and `Count` in descending order to rank crime types within each area by frequency. We then select only the highest-frequency crime in each area.\n",
    "   - **Why this is effective**: Sorting and ranking reveal the top crime in each area. By focusing on the most frequent crime, we simplify our findings, highlighting specific crime types that may require priority attention. This method prevents overwhelming detail and keeps the analysis focused on actionable insights.\n",
    "\n",
    "3. **Preparing Data for Visualization**:\n",
    "   - **What we’re doing**: We create a pivot table that organizes the data to easily extract the top crime type per area for visualization.\n",
    "   - **Why this is effective**: Pivoting the data prepares it for clear and intuitive visualization, allowing for easy comparison across areas in a bar chart format.\n",
    "\n",
    "4. **Visualizing with a Bar Chart**:\n",
    "   - **What we’re doing**: Using a bar chart, we display each area’s most common crime type and its count.\n",
    "   - **Why this is effective**: Bar charts provide a straightforward, visual representation of the most frequent crimes across areas, making it easy to spot trends at a glance. With labels and a clear layout, stakeholders can quickly interpret which areas face the highest incidence of specific crimes.\n",
    "\n",
    "### Why This is the Best Approach\n",
    "\n",
    "This method combines a logical breakdown of the data with a straightforward visualization to highlight key patterns without unnecessary complexity. By focusing only on the top crime in each area, we reduce noise and enhance clarity, making it easier to identify areas requiring targeted interventions. Additionally, the use of a bar chart ensures that insights are accessible to non-technical stakeholders, promoting data-driven decision-making."
   ]
  },
  {
   "cell_type": "code",
   "execution_count": 137,
   "metadata": {},
   "outputs": [
    {
     "data": {
      "text/html": [
       "<div>\n",
       "<style scoped>\n",
       "    .dataframe tbody tr th:only-of-type {\n",
       "        vertical-align: middle;\n",
       "    }\n",
       "\n",
       "    .dataframe tbody tr th {\n",
       "        vertical-align: top;\n",
       "    }\n",
       "\n",
       "    .dataframe thead th {\n",
       "        text-align: right;\n",
       "    }\n",
       "</style>\n",
       "<table border=\"1\" class=\"dataframe\">\n",
       "  <thead>\n",
       "    <tr style=\"text-align: right;\">\n",
       "      <th></th>\n",
       "      <th>AREA NAME</th>\n",
       "      <th>Crm Cd Desc</th>\n",
       "      <th>Count</th>\n",
       "    </tr>\n",
       "  </thead>\n",
       "  <tbody>\n",
       "    <tr>\n",
       "      <th>0</th>\n",
       "      <td>77th Street</td>\n",
       "      <td>BATTERY - SIMPLE ASSAULT</td>\n",
       "      <td>1</td>\n",
       "    </tr>\n",
       "    <tr>\n",
       "      <th>1</th>\n",
       "      <td>77th Street</td>\n",
       "      <td>BRANDISH WEAPON</td>\n",
       "      <td>1</td>\n",
       "    </tr>\n",
       "    <tr>\n",
       "      <th>2</th>\n",
       "      <td>77th Street</td>\n",
       "      <td>BUNCO, ATTEMPT</td>\n",
       "      <td>1</td>\n",
       "    </tr>\n",
       "    <tr>\n",
       "      <th>3</th>\n",
       "      <td>77th Street</td>\n",
       "      <td>BUNCO, GRAND THEFT</td>\n",
       "      <td>2</td>\n",
       "    </tr>\n",
       "    <tr>\n",
       "      <th>4</th>\n",
       "      <td>77th Street</td>\n",
       "      <td>BURGLARY</td>\n",
       "      <td>2</td>\n",
       "    </tr>\n",
       "    <tr>\n",
       "      <th>...</th>\n",
       "      <td>...</td>\n",
       "      <td>...</td>\n",
       "      <td>...</td>\n",
       "    </tr>\n",
       "    <tr>\n",
       "      <th>369</th>\n",
       "      <td>Wilshire</td>\n",
       "      <td>THEFT PLAIN - PETTY ($950 &amp; UNDER)</td>\n",
       "      <td>5</td>\n",
       "    </tr>\n",
       "    <tr>\n",
       "      <th>370</th>\n",
       "      <td>Wilshire</td>\n",
       "      <td>THEFT-GRAND ($950.01 &amp; OVER)EXCPT,GUNS,FOWL,LI...</td>\n",
       "      <td>2</td>\n",
       "    </tr>\n",
       "    <tr>\n",
       "      <th>371</th>\n",
       "      <td>Wilshire</td>\n",
       "      <td>VANDALISM - FELONY ($400 &amp; OVER, ALL CHURCH VA...</td>\n",
       "      <td>1</td>\n",
       "    </tr>\n",
       "    <tr>\n",
       "      <th>372</th>\n",
       "      <td>Wilshire</td>\n",
       "      <td>VEHICLE - STOLEN</td>\n",
       "      <td>2</td>\n",
       "    </tr>\n",
       "    <tr>\n",
       "      <th>373</th>\n",
       "      <td>Wilshire</td>\n",
       "      <td>VIOLATION OF COURT ORDER</td>\n",
       "      <td>1</td>\n",
       "    </tr>\n",
       "  </tbody>\n",
       "</table>\n",
       "<p>374 rows × 3 columns</p>\n",
       "</div>"
      ],
      "text/plain": [
       "       AREA NAME                                        Crm Cd Desc  Count\n",
       "0    77th Street                           BATTERY - SIMPLE ASSAULT      1\n",
       "1    77th Street                                    BRANDISH WEAPON      1\n",
       "2    77th Street                                     BUNCO, ATTEMPT      1\n",
       "3    77th Street                                 BUNCO, GRAND THEFT      2\n",
       "4    77th Street                                           BURGLARY      2\n",
       "..           ...                                                ...    ...\n",
       "369     Wilshire                 THEFT PLAIN - PETTY ($950 & UNDER)      5\n",
       "370     Wilshire  THEFT-GRAND ($950.01 & OVER)EXCPT,GUNS,FOWL,LI...      2\n",
       "371     Wilshire  VANDALISM - FELONY ($400 & OVER, ALL CHURCH VA...      1\n",
       "372     Wilshire                                   VEHICLE - STOLEN      2\n",
       "373     Wilshire                           VIOLATION OF COURT ORDER      1\n",
       "\n",
       "[374 rows x 3 columns]"
      ]
     },
     "execution_count": 137,
     "metadata": {},
     "output_type": "execute_result"
    }
   ],
   "source": [
    "\n",
    "# Assuming 'df' is your DataFrame\n",
    "crime_counts = crime_data_cleaned.groupby(['AREA NAME', 'Crm Cd Desc']).size().reset_index(name='Count')\n",
    "crime_counts\n"
   ]
  },
  {
   "cell_type": "code",
   "execution_count": 138,
   "metadata": {},
   "outputs": [
    {
     "data": {
      "text/html": [
       "<div>\n",
       "<style scoped>\n",
       "    .dataframe tbody tr th:only-of-type {\n",
       "        vertical-align: middle;\n",
       "    }\n",
       "\n",
       "    .dataframe tbody tr th {\n",
       "        vertical-align: top;\n",
       "    }\n",
       "\n",
       "    .dataframe thead th {\n",
       "        text-align: right;\n",
       "    }\n",
       "</style>\n",
       "<table border=\"1\" class=\"dataframe\">\n",
       "  <thead>\n",
       "    <tr style=\"text-align: right;\">\n",
       "      <th></th>\n",
       "      <th>AREA NAME</th>\n",
       "      <th>Crm Cd Desc</th>\n",
       "      <th>Count</th>\n",
       "    </tr>\n",
       "  </thead>\n",
       "  <tbody>\n",
       "    <tr>\n",
       "      <th>19</th>\n",
       "      <td>77th Street</td>\n",
       "      <td>THEFT OF IDENTITY</td>\n",
       "      <td>62</td>\n",
       "    </tr>\n",
       "    <tr>\n",
       "      <th>23</th>\n",
       "      <td>77th Street</td>\n",
       "      <td>VEHICLE - STOLEN</td>\n",
       "      <td>5</td>\n",
       "    </tr>\n",
       "    <tr>\n",
       "      <th>11</th>\n",
       "      <td>77th Street</td>\n",
       "      <td>LETTERS, LEWD  -  TELEPHONE CALLS, LEWD</td>\n",
       "      <td>3</td>\n",
       "    </tr>\n",
       "    <tr>\n",
       "      <th>13</th>\n",
       "      <td>77th Street</td>\n",
       "      <td>RAPE, FORCIBLE</td>\n",
       "      <td>3</td>\n",
       "    </tr>\n",
       "    <tr>\n",
       "      <th>3</th>\n",
       "      <td>77th Street</td>\n",
       "      <td>BUNCO, GRAND THEFT</td>\n",
       "      <td>2</td>\n",
       "    </tr>\n",
       "    <tr>\n",
       "      <th>...</th>\n",
       "      <td>...</td>\n",
       "      <td>...</td>\n",
       "      <td>...</td>\n",
       "    </tr>\n",
       "    <tr>\n",
       "      <th>365</th>\n",
       "      <td>Wilshire</td>\n",
       "      <td>SEXUAL PENETRATION W/FOREIGN OBJECT</td>\n",
       "      <td>1</td>\n",
       "    </tr>\n",
       "    <tr>\n",
       "      <th>366</th>\n",
       "      <td>Wilshire</td>\n",
       "      <td>THEFT FROM MOTOR VEHICLE - GRAND ($950.01 AND ...</td>\n",
       "      <td>1</td>\n",
       "    </tr>\n",
       "    <tr>\n",
       "      <th>367</th>\n",
       "      <td>Wilshire</td>\n",
       "      <td>THEFT FROM MOTOR VEHICLE - PETTY ($950 &amp; UNDER)</td>\n",
       "      <td>1</td>\n",
       "    </tr>\n",
       "    <tr>\n",
       "      <th>371</th>\n",
       "      <td>Wilshire</td>\n",
       "      <td>VANDALISM - FELONY ($400 &amp; OVER, ALL CHURCH VA...</td>\n",
       "      <td>1</td>\n",
       "    </tr>\n",
       "    <tr>\n",
       "      <th>373</th>\n",
       "      <td>Wilshire</td>\n",
       "      <td>VIOLATION OF COURT ORDER</td>\n",
       "      <td>1</td>\n",
       "    </tr>\n",
       "  </tbody>\n",
       "</table>\n",
       "<p>374 rows × 3 columns</p>\n",
       "</div>"
      ],
      "text/plain": [
       "       AREA NAME                                        Crm Cd Desc  Count\n",
       "19   77th Street                                  THEFT OF IDENTITY     62\n",
       "23   77th Street                                   VEHICLE - STOLEN      5\n",
       "11   77th Street            LETTERS, LEWD  -  TELEPHONE CALLS, LEWD      3\n",
       "13   77th Street                                     RAPE, FORCIBLE      3\n",
       "3    77th Street                                 BUNCO, GRAND THEFT      2\n",
       "..           ...                                                ...    ...\n",
       "365     Wilshire                SEXUAL PENETRATION W/FOREIGN OBJECT      1\n",
       "366     Wilshire  THEFT FROM MOTOR VEHICLE - GRAND ($950.01 AND ...      1\n",
       "367     Wilshire    THEFT FROM MOTOR VEHICLE - PETTY ($950 & UNDER)      1\n",
       "371     Wilshire  VANDALISM - FELONY ($400 & OVER, ALL CHURCH VA...      1\n",
       "373     Wilshire                           VIOLATION OF COURT ORDER      1\n",
       "\n",
       "[374 rows x 3 columns]"
      ]
     },
     "execution_count": 138,
     "metadata": {},
     "output_type": "execute_result"
    }
   ],
   "source": [
    "ranked_crimes = crime_counts.sort_values(['AREA NAME', 'Count'], ascending=[True, False])\n",
    "ranked_crimes"
   ]
  },
  {
   "cell_type": "code",
   "execution_count": 139,
   "metadata": {},
   "outputs": [
    {
     "data": {
      "text/html": [
       "<div>\n",
       "<style scoped>\n",
       "    .dataframe tbody tr th:only-of-type {\n",
       "        vertical-align: middle;\n",
       "    }\n",
       "\n",
       "    .dataframe tbody tr th {\n",
       "        vertical-align: top;\n",
       "    }\n",
       "\n",
       "    .dataframe thead th {\n",
       "        text-align: right;\n",
       "    }\n",
       "</style>\n",
       "<table border=\"1\" class=\"dataframe\">\n",
       "  <thead>\n",
       "    <tr style=\"text-align: right;\">\n",
       "      <th></th>\n",
       "      <th>AREA NAME</th>\n",
       "      <th>Crm Cd Desc</th>\n",
       "      <th>Count</th>\n",
       "    </tr>\n",
       "  </thead>\n",
       "  <tbody>\n",
       "    <tr>\n",
       "      <th>19</th>\n",
       "      <td>77th Street</td>\n",
       "      <td>THEFT OF IDENTITY</td>\n",
       "      <td>62</td>\n",
       "    </tr>\n",
       "    <tr>\n",
       "      <th>35</th>\n",
       "      <td>Central</td>\n",
       "      <td>THEFT OF IDENTITY</td>\n",
       "      <td>17</td>\n",
       "    </tr>\n",
       "    <tr>\n",
       "      <th>57</th>\n",
       "      <td>Devonshire</td>\n",
       "      <td>THEFT OF IDENTITY</td>\n",
       "      <td>22</td>\n",
       "    </tr>\n",
       "    <tr>\n",
       "      <th>76</th>\n",
       "      <td>Foothill</td>\n",
       "      <td>THEFT OF IDENTITY</td>\n",
       "      <td>22</td>\n",
       "    </tr>\n",
       "    <tr>\n",
       "      <th>95</th>\n",
       "      <td>Harbor</td>\n",
       "      <td>THEFT OF IDENTITY</td>\n",
       "      <td>10</td>\n",
       "    </tr>\n",
       "    <tr>\n",
       "      <th>108</th>\n",
       "      <td>Hollenbeck</td>\n",
       "      <td>THEFT OF IDENTITY</td>\n",
       "      <td>10</td>\n",
       "    </tr>\n",
       "    <tr>\n",
       "      <th>125</th>\n",
       "      <td>Hollywood</td>\n",
       "      <td>THEFT OF IDENTITY</td>\n",
       "      <td>28</td>\n",
       "    </tr>\n",
       "    <tr>\n",
       "      <th>147</th>\n",
       "      <td>Mission</td>\n",
       "      <td>THEFT OF IDENTITY</td>\n",
       "      <td>18</td>\n",
       "    </tr>\n",
       "    <tr>\n",
       "      <th>167</th>\n",
       "      <td>N Hollywood</td>\n",
       "      <td>THEFT OF IDENTITY</td>\n",
       "      <td>36</td>\n",
       "    </tr>\n",
       "    <tr>\n",
       "      <th>183</th>\n",
       "      <td>Newton</td>\n",
       "      <td>THEFT OF IDENTITY</td>\n",
       "      <td>39</td>\n",
       "    </tr>\n",
       "    <tr>\n",
       "      <th>198</th>\n",
       "      <td>Northeast</td>\n",
       "      <td>THEFT OF IDENTITY</td>\n",
       "      <td>17</td>\n",
       "    </tr>\n",
       "    <tr>\n",
       "      <th>214</th>\n",
       "      <td>Olympic</td>\n",
       "      <td>THEFT OF IDENTITY</td>\n",
       "      <td>23</td>\n",
       "    </tr>\n",
       "    <tr>\n",
       "      <th>235</th>\n",
       "      <td>Pacific</td>\n",
       "      <td>THEFT OF IDENTITY</td>\n",
       "      <td>13</td>\n",
       "    </tr>\n",
       "    <tr>\n",
       "      <th>249</th>\n",
       "      <td>Rampart</td>\n",
       "      <td>THEFT OF IDENTITY</td>\n",
       "      <td>26</td>\n",
       "    </tr>\n",
       "    <tr>\n",
       "      <th>265</th>\n",
       "      <td>Southeast</td>\n",
       "      <td>THEFT OF IDENTITY</td>\n",
       "      <td>37</td>\n",
       "    </tr>\n",
       "    <tr>\n",
       "      <th>284</th>\n",
       "      <td>Southwest</td>\n",
       "      <td>THEFT OF IDENTITY</td>\n",
       "      <td>31</td>\n",
       "    </tr>\n",
       "    <tr>\n",
       "      <th>299</th>\n",
       "      <td>Topanga</td>\n",
       "      <td>THEFT OF IDENTITY</td>\n",
       "      <td>23</td>\n",
       "    </tr>\n",
       "    <tr>\n",
       "      <th>313</th>\n",
       "      <td>Van Nuys</td>\n",
       "      <td>THEFT OF IDENTITY</td>\n",
       "      <td>21</td>\n",
       "    </tr>\n",
       "    <tr>\n",
       "      <th>331</th>\n",
       "      <td>West LA</td>\n",
       "      <td>THEFT OF IDENTITY</td>\n",
       "      <td>17</td>\n",
       "    </tr>\n",
       "    <tr>\n",
       "      <th>352</th>\n",
       "      <td>West Valley</td>\n",
       "      <td>THEFT OF IDENTITY</td>\n",
       "      <td>30</td>\n",
       "    </tr>\n",
       "    <tr>\n",
       "      <th>368</th>\n",
       "      <td>Wilshire</td>\n",
       "      <td>THEFT OF IDENTITY</td>\n",
       "      <td>25</td>\n",
       "    </tr>\n",
       "  </tbody>\n",
       "</table>\n",
       "</div>"
      ],
      "text/plain": [
       "       AREA NAME        Crm Cd Desc  Count\n",
       "19   77th Street  THEFT OF IDENTITY     62\n",
       "35       Central  THEFT OF IDENTITY     17\n",
       "57    Devonshire  THEFT OF IDENTITY     22\n",
       "76      Foothill  THEFT OF IDENTITY     22\n",
       "95        Harbor  THEFT OF IDENTITY     10\n",
       "108   Hollenbeck  THEFT OF IDENTITY     10\n",
       "125    Hollywood  THEFT OF IDENTITY     28\n",
       "147      Mission  THEFT OF IDENTITY     18\n",
       "167  N Hollywood  THEFT OF IDENTITY     36\n",
       "183       Newton  THEFT OF IDENTITY     39\n",
       "198    Northeast  THEFT OF IDENTITY     17\n",
       "214      Olympic  THEFT OF IDENTITY     23\n",
       "235      Pacific  THEFT OF IDENTITY     13\n",
       "249      Rampart  THEFT OF IDENTITY     26\n",
       "265    Southeast  THEFT OF IDENTITY     37\n",
       "284    Southwest  THEFT OF IDENTITY     31\n",
       "299      Topanga  THEFT OF IDENTITY     23\n",
       "313     Van Nuys  THEFT OF IDENTITY     21\n",
       "331      West LA  THEFT OF IDENTITY     17\n",
       "352  West Valley  THEFT OF IDENTITY     30\n",
       "368     Wilshire  THEFT OF IDENTITY     25"
      ]
     },
     "execution_count": 139,
     "metadata": {},
     "output_type": "execute_result"
    }
   ],
   "source": [
    "top_crime_per_area = ranked_crimes.drop_duplicates('AREA NAME', keep='first')\n",
    "top_crime_per_area"
   ]
  },
  {
   "cell_type": "markdown",
   "metadata": {},
   "source": [
    "### Visualizing top crimes by Area"
   ]
  },
  {
   "cell_type": "code",
   "execution_count": 140,
   "metadata": {},
   "outputs": [],
   "source": [
    "\n",
    "# Step 1: Group by 'AREA NAME' and 'Crm Cd Desc', then count occurrences\n",
    "crime_counts = crime_data_cleaned.groupby(['AREA NAME', 'Crm Cd Desc']).size().reset_index(name='Count')\n",
    "\n",
    "# Step 2: Sort by 'AREA NAME' and 'Count' in descending order, then get top `n` crimes per area\n",
    "n = 1  # To get the top crime per area\n",
    "top_crimes_by_area = crime_counts.sort_values(['AREA NAME', 'Count'], ascending=[True, False]).groupby('AREA NAME').head(n)\n",
    "\n",
    "# Step 3: Pivot the data for bar chart plotting\n",
    "top_crimes_pivot = top_crimes_by_area.pivot(index='AREA NAME', columns='Crm Cd Desc', values='Count')\n"
   ]
  },
  {
   "cell_type": "markdown",
   "metadata": {},
   "source": [
    "### Visualizing the Most Common Crimes by Area\n",
    "\n",
    "This bar chart highlights the **most common crime in each area**, with the height of each bar representing the frequency of that crime. The colors of the bars use a gradient scale:\n",
    "\n",
    "- **Lighter colors** represent areas with lower crime counts.\n",
    "- **Darker colors** highlight areas with higher crime counts.\n",
    "\n",
    "The color bar on the side provides a reference for understanding the relative intensity of crime counts across areas. This visualization helps quickly identify which areas experience the highest number of a particular type of crime and provides a clear comparison among different regions."
   ]
  },
  {
   "cell_type": "code",
   "execution_count": 141,
   "metadata": {},
   "outputs": [
    {
     "name": "stderr",
     "output_type": "stream",
     "text": [
      "C:\\Users\\srika\\AppData\\Local\\Temp\\ipykernel_23288\\3121985777.py:20: MatplotlibDeprecationWarning:\n",
      "\n",
      "Unable to determine Axes to steal space for Colorbar. Using gca(), but will raise in the future. Either provide the *cax* argument to use as the Axes for the Colorbar, provide the *ax* argument to steal space from it, or add *mappable* to an Axes.\n",
      "\n"
     ]
    },
    {
     "data": {
      "image/png": "[encoded data removed]",
      "text/plain": [
       "<Figure size 1200x800 with 2 Axes>"
      ]
     },
     "metadata": {},
     "output_type": "display_data"
    }
   ],
   "source": [
    "import matplotlib.pyplot as plt\n",
    "import numpy as np\n",
    "import matplotlib.cm as cm\n",
    "\n",
    "# Since we pivoted, let's select the top crime type for simplicity\n",
    "# If multiple crimes are tied for the top spot, this will only show one\n",
    "top_crime_type = top_crimes_pivot.idxmax(axis=1)\n",
    "crime_counts = top_crimes_pivot.max(axis=1)  # Count of top crime in each area\n",
    "\n",
    "# Calculate normalized crime counts for color mapping\n",
    "norm = plt.Normalize(min(crime_counts), max(crime_counts))\n",
    "colors = cm.viridis(norm(crime_counts))  # Using the \"viridis\" colormap for perceptual uniformity\n",
    "\n",
    "plt.figure(figsize=(12, 8))\n",
    "bars = plt.bar(top_crime_type.index, crime_counts.values, color=colors)\n",
    "\n",
    "# Add a colorbar to explain the gradient\n",
    "sm = cm.ScalarMappable(cmap=\"viridis\", norm=norm)\n",
    "sm.set_array([])\n",
    "cbar = plt.colorbar(sm)\n",
    "cbar.set_label('Crime Count (Normalized)', rotation=270, labelpad=15)\n",
    "\n",
    "# Add labels and title\n",
    "plt.xlabel('Area', fontsize=12)\n",
    "plt.ylabel('Count of Top Crime', fontsize=12)\n",
    "plt.title('Top Crime by Area with Highlighted Highs and Lows', fontsize=14)\n",
    "plt.xticks(rotation=90, fontsize=10)  # Rotate x-axis labels for readability\n",
    "plt.tight_layout()\n",
    "\n",
    "plt.show()"
   ]
  },
  {
   "cell_type": "code",
   "execution_count": 142,
   "metadata": {},
   "outputs": [
    {
     "name": "stdout",
     "output_type": "stream",
     "text": [
      "<class 'pandas.core.frame.DataFrame'>\n",
      "RangeIndex: 1071 entries, 0 to 1070\n",
      "Data columns (total 14 columns):\n",
      " #   Column                  Non-Null Count  Dtype         \n",
      "---  ------                  --------------  -----         \n",
      " 0   DR_NO                   1071 non-null   int64         \n",
      " 1   AREA NAME               1071 non-null   object        \n",
      " 2   Rpt Dist No             1071 non-null   int64         \n",
      " 3   Crm Cd Desc             1071 non-null   object        \n",
      " 4   Vict Age                1071 non-null   int64         \n",
      " 5   Vict Sex                1071 non-null   object        \n",
      " 6   Premis Desc             1071 non-null   object        \n",
      " 7   Weapon Desc             1071 non-null   object        \n",
      " 8   Status Desc             1071 non-null   object        \n",
      " 9   Date Rptd Standardized  1071 non-null   datetime64[ns]\n",
      " 10  Month                   1071 non-null   int32         \n",
      " 11  Day                     1071 non-null   int32         \n",
      " 12  Year                    1071 non-null   int32         \n",
      " 13  Month_Str               1071 non-null   object        \n",
      "dtypes: datetime64[ns](1), int32(3), int64(3), object(7)\n",
      "memory usage: 104.7+ KB\n"
     ]
    }
   ],
   "source": [
    "crime_data_cleaned.info()\n"
   ]
  },
  {
   "cell_type": "markdown",
   "metadata": {},
   "source": [
    "### Objective\n",
    "\n",
    "The aim is to uncover patterns in crime occurrences by examining **when crimes happen most frequently**, specifically by **time of day** and **day of the week**. Understanding these patterns is crucial for planning targeted measures and allocating resources effectively during high-crime periods.\n",
    "\n",
    "### Motive\n",
    "\n",
    "Analyzing crime by time provides insights into peak hours and days, which helps law enforcement and community stakeholders identify critical times for heightened vigilance and intervention. Recognizing specific time frames—such as late nights or weekends with higher incidents—allows for strategic planning and optimized resource deployment to address crime proactively.\n",
    "\n",
    "### Approach and Rationale\n",
    "\n",
    "To address the objective effectively, we structured the analysis through a series of logical steps that transform, group, and visualize the data. This approach maximizes clarity and accuracy in understanding crime timing patterns. Here’s why each step is essential:\n",
    "\n",
    "\n",
    "1. **Counting Crimes by Day of the Week**:\n",
    "   - **What we’re doing**: We group the data by `Day of the Week` and count crime occurrences for each day.\n",
    "   - **Why we’re doing it this way**: Counting crime incidents per day highlights the days with the highest frequency of crimes, providing a clear view of high-risk days. This helps pinpoint when to increase patrols or community initiatives, especially if certain days consistently show high crime levels.\n",
    "\n",
    "2. **Visualizing with a Bar Chart**:\n",
    "   - **What we’re doing**: We plot a bar chart to display crime frequency across the days of the week.\n",
    "   - **Why we’re doing it this way**: A bar chart offers an intuitive, at-a-glance comparison of crime rates across weekdays. It’s easy to interpret for both technical and non-technical audiences, making the data accessible for informed decision-making.\n",
    "\n",
    "\n",
    "This approach combines detailed and aggregate insights, allowing us to uncover specific high-crime hours and broader time-of-day trends. By focusing on both granular and summarized time information, we provide a comprehensive view that can inform both tactical and strategic decisions. The final visualization enhances accessibility, presenting key insights in a clear format that supports data-driven resource planning and targeted crime-prevention efforts."
   ]
  },
  {
   "cell_type": "code",
   "execution_count": 143,
   "metadata": {},
   "outputs": [],
   "source": [
    "\n",
    "# Ensure date and time are in a suitable format\n",
    "crime_data_cleaned['Date Rptd Standardized'] = pd.to_datetime(crime_data_cleaned['Date Rptd Standardized'])\n",
    "\n",
    "# Extract time components if not already separate\n",
    "crime_data_cleaned['Hour'] = crime_data_cleaned['Date Rptd Standardized'].dt.hour\n",
    "crime_data_cleaned['Day of the Week'] = crime_data_cleaned['Date Rptd Standardized'].dt.day_name()\n",
    "\n",
    "# If you want to analyze by part of the day (e.g., morning, afternoon)\n",
    "crime_data_cleaned['Time of Day'] = pd.cut(crime_data_cleaned['Hour'], \n",
    "                           bins=[0, 6, 12, 18, 24], \n",
    "                           labels=['Late Night/Early Morning', 'Morning', 'Afternoon', 'Evening/Night'],\n",
    "                           include_lowest=True)\n"
   ]
  },
  {
   "cell_type": "code",
   "execution_count": 144,
   "metadata": {},
   "outputs": [
    {
     "data": {
      "text/html": [
       "<div>\n",
       "<style scoped>\n",
       "    .dataframe tbody tr th:only-of-type {\n",
       "        vertical-align: middle;\n",
       "    }\n",
       "\n",
       "    .dataframe tbody tr th {\n",
       "        vertical-align: top;\n",
       "    }\n",
       "\n",
       "    .dataframe thead th {\n",
       "        text-align: right;\n",
       "    }\n",
       "</style>\n",
       "<table border=\"1\" class=\"dataframe\">\n",
       "  <thead>\n",
       "    <tr style=\"text-align: right;\">\n",
       "      <th></th>\n",
       "      <th>DR_NO</th>\n",
       "      <th>AREA NAME</th>\n",
       "      <th>Rpt Dist No</th>\n",
       "      <th>Crm Cd Desc</th>\n",
       "      <th>Vict Age</th>\n",
       "      <th>Vict Sex</th>\n",
       "      <th>Premis Desc</th>\n",
       "      <th>Weapon Desc</th>\n",
       "      <th>Status Desc</th>\n",
       "      <th>Date Rptd Standardized</th>\n",
       "      <th>Month</th>\n",
       "      <th>Day</th>\n",
       "      <th>Year</th>\n",
       "      <th>Month_Str</th>\n",
       "      <th>Hour</th>\n",
       "      <th>Day of the Week</th>\n",
       "      <th>Time of Day</th>\n",
       "    </tr>\n",
       "  </thead>\n",
       "  <tbody>\n",
       "    <tr>\n",
       "      <th>0</th>\n",
       "      <td>190326475</td>\n",
       "      <td>Wilshire</td>\n",
       "      <td>784</td>\n",
       "      <td>VEHICLE - STOLEN</td>\n",
       "      <td>0</td>\n",
       "      <td>M</td>\n",
       "      <td>STREET</td>\n",
       "      <td>None</td>\n",
       "      <td>Adult Arrest</td>\n",
       "      <td>2020-03-01 00:00:00</td>\n",
       "      <td>3</td>\n",
       "      <td>1</td>\n",
       "      <td>2020</td>\n",
       "      <td>March</td>\n",
       "      <td>0</td>\n",
       "      <td>Sunday</td>\n",
       "      <td>Late Night/Early Morning</td>\n",
       "    </tr>\n",
       "    <tr>\n",
       "      <th>1</th>\n",
       "      <td>200106753</td>\n",
       "      <td>Central</td>\n",
       "      <td>182</td>\n",
       "      <td>BURGLARY FROM VEHICLE</td>\n",
       "      <td>47</td>\n",
       "      <td>M</td>\n",
       "      <td>BUS STOP/LAYOVER (ALSO QUERY 124)</td>\n",
       "      <td>None</td>\n",
       "      <td>Invest Cont</td>\n",
       "      <td>2020-02-09 00:00:00</td>\n",
       "      <td>2</td>\n",
       "      <td>9</td>\n",
       "      <td>2020</td>\n",
       "      <td>February</td>\n",
       "      <td>0</td>\n",
       "      <td>Sunday</td>\n",
       "      <td>Late Night/Early Morning</td>\n",
       "    </tr>\n",
       "    <tr>\n",
       "      <th>2</th>\n",
       "      <td>200320258</td>\n",
       "      <td>Southwest</td>\n",
       "      <td>356</td>\n",
       "      <td>BIKE - STOLEN</td>\n",
       "      <td>19</td>\n",
       "      <td>X</td>\n",
       "      <td>MULTI-UNIT DWELLING (APARTMENT, DUPLEX, ETC)</td>\n",
       "      <td>None</td>\n",
       "      <td>Invest Cont</td>\n",
       "      <td>2020-11-11 00:00:00</td>\n",
       "      <td>11</td>\n",
       "      <td>11</td>\n",
       "      <td>2020</td>\n",
       "      <td>November</td>\n",
       "      <td>0</td>\n",
       "      <td>Wednesday</td>\n",
       "      <td>Late Night/Early Morning</td>\n",
       "    </tr>\n",
       "    <tr>\n",
       "      <th>3</th>\n",
       "      <td>200907217</td>\n",
       "      <td>Van Nuys</td>\n",
       "      <td>964</td>\n",
       "      <td>SHOPLIFTING-GRAND THEFT ($950.01 &amp; OVER)</td>\n",
       "      <td>19</td>\n",
       "      <td>M</td>\n",
       "      <td>CLOTHING STORE</td>\n",
       "      <td>None</td>\n",
       "      <td>Invest Cont</td>\n",
       "      <td>2023-05-10 00:00:00</td>\n",
       "      <td>5</td>\n",
       "      <td>10</td>\n",
       "      <td>2023</td>\n",
       "      <td>May</td>\n",
       "      <td>0</td>\n",
       "      <td>Wednesday</td>\n",
       "      <td>Late Night/Early Morning</td>\n",
       "    </tr>\n",
       "    <tr>\n",
       "      <th>4</th>\n",
       "      <td>220614831</td>\n",
       "      <td>Hollywood</td>\n",
       "      <td>666</td>\n",
       "      <td>THEFT OF IDENTITY</td>\n",
       "      <td>28</td>\n",
       "      <td>M</td>\n",
       "      <td>SIDEWALK</td>\n",
       "      <td>None</td>\n",
       "      <td>Invest Cont</td>\n",
       "      <td>2022-08-18 12:00:00</td>\n",
       "      <td>8</td>\n",
       "      <td>18</td>\n",
       "      <td>2022</td>\n",
       "      <td>August</td>\n",
       "      <td>12</td>\n",
       "      <td>Thursday</td>\n",
       "      <td>Morning</td>\n",
       "    </tr>\n",
       "  </tbody>\n",
       "</table>\n",
       "</div>"
      ],
      "text/plain": [
       "       DR_NO  AREA NAME  Rpt Dist No  \\\n",
       "0  190326475   Wilshire          784   \n",
       "1  200106753    Central          182   \n",
       "2  200320258  Southwest          356   \n",
       "3  200907217   Van Nuys          964   \n",
       "4  220614831  Hollywood          666   \n",
       "\n",
       "                                Crm Cd Desc  Vict Age Vict Sex  \\\n",
       "0                          VEHICLE - STOLEN         0        M   \n",
       "1                     BURGLARY FROM VEHICLE        47        M   \n",
       "2                             BIKE - STOLEN        19        X   \n",
       "3  SHOPLIFTING-GRAND THEFT ($950.01 & OVER)        19        M   \n",
       "4                         THEFT OF IDENTITY        28        M   \n",
       "\n",
       "                                    Premis Desc Weapon Desc   Status Desc  \\\n",
       "0                                        STREET        None  Adult Arrest   \n",
       "1             BUS STOP/LAYOVER (ALSO QUERY 124)        None   Invest Cont   \n",
       "2  MULTI-UNIT DWELLING (APARTMENT, DUPLEX, ETC)        None   Invest Cont   \n",
       "3                                CLOTHING STORE        None   Invest Cont   \n",
       "4                                      SIDEWALK        None   Invest Cont   \n",
       "\n",
       "  Date Rptd Standardized  Month  Day  Year Month_Str  Hour Day of the Week  \\\n",
       "0    2020-03-01 00:00:00      3    1  2020     March     0          Sunday   \n",
       "1    2020-02-09 00:00:00      2    9  2020  February     0          Sunday   \n",
       "2    2020-11-11 00:00:00     11   11  2020  November     0       Wednesday   \n",
       "3    2023-05-10 00:00:00      5   10  2023       May     0       Wednesday   \n",
       "4    2022-08-18 12:00:00      8   18  2022    August    12        Thursday   \n",
       "\n",
       "                Time of Day  \n",
       "0  Late Night/Early Morning  \n",
       "1  Late Night/Early Morning  \n",
       "2  Late Night/Early Morning  \n",
       "3  Late Night/Early Morning  \n",
       "4                   Morning  "
      ]
     },
     "execution_count": 144,
     "metadata": {},
     "output_type": "execute_result"
    }
   ],
   "source": [
    "crime_data_cleaned.head()"
   ]
  },
  {
   "cell_type": "markdown",
   "metadata": {},
   "source": [
    "### Crime Trends Across Days of the Week: Key Insights\n",
    "\n",
    "This chart provides a comprehensive view of **crime frequencies across the days of the week**, with several layers of insights for easy interpretation:\n",
    "\n",
    "#### **Key Features of the Chart**\n",
    "1. **Bar Heights Represent Crime Frequency**: \n",
    "   - Each bar’s height directly corresponds to the number of crimes reported on a given day, offering a quick visual comparison.\n",
    "\n",
    "2. **Color Gradient for Emphasis**:\n",
    "   - A smooth gradient highlights variations in crime frequency:\n",
    "     - **Darker bars** signify days with high crime activity.\n",
    "     - **Lighter bars** represent days with fewer reported crimes.\n",
    "\n",
    "3. **Annotations for Extremes**:\n",
    "   - The chart explicitly marks the:\n",
    "     - **Day with the most crimes (\"Highest\")**: Indicating peak criminal activity.\n",
    "     - **Day with the fewest crimes (\"Lowest\")**: Identifying the least active crime day.\n",
    "\n",
    "#### **Insights Gathered from the Chart**\n",
    "- **Patterns of Criminal Activity**: \n",
    "  - Crime rates peak on specific days, which might align with factors such as workdays, holidays, or social patterns.\n",
    "  - A notable dip on other days (e.g., weekends) suggests reduced activity, potentially due to lower public or workplace engagement.\n",
    "  \n",
    "- **Resource Allocation**:\n",
    "  - High-crime days can inform law enforcement to allocate more resources and patrols on those days.\n",
    "  - Conversely, low-crime days could allow for reallocation or strategic adjustments.\n",
    "\n",
    "- **Broader Implications**:\n",
    "  - Weekly patterns could correlate with external factors like events, social behaviors, or systemic issues, providing opportunities for deeper analysis.\n",
    "\n",
    "This chart equips non-technical viewers with a clear understanding of when crimes are most likely to occur, empowering decision-makers to target interventions effectively."
   ]
  },
  {
   "cell_type": "code",
   "execution_count": 145,
   "metadata": {},
   "outputs": [
    {
     "name": "stderr",
     "output_type": "stream",
     "text": [
      "C:\\Users\\srika\\AppData\\Local\\Temp\\ipykernel_23288\\2069837919.py:15: MatplotlibDeprecationWarning:\n",
      "\n",
      "Unable to determine Axes to steal space for Colorbar. Using gca(), but will raise in the future. Either provide the *cax* argument to use as the Axes for the Colorbar, provide the *ax* argument to steal space from it, or add *mappable* to an Axes.\n",
      "\n"
     ]
    },
    {
     "data": {
      "image/png": "[encoded data removed]",
      "text/plain": [
       "<Figure size 1000x600 with 2 Axes>"
      ]
     },
     "metadata": {},
     "output_type": "display_data"
    }
   ],
   "source": [
    "\n",
    "# Group by 'Day of the Week' and count occurrences\n",
    "weekly_crime_freq = crime_data_cleaned.groupby('Day of the Week')['Crm Cd Desc'].count().sort_values(ascending=False)\n",
    "\n",
    "# Normalize the crime frequency for color mapping\n",
    "norm = plt.Normalize(min(weekly_crime_freq), max(weekly_crime_freq))\n",
    "colors = cm.viridis(norm(weekly_crime_freq))  # Using \"viridis\" colormap for perceptual uniformity\n",
    "\n",
    "# Plot the bar chart with color gradients\n",
    "plt.figure(figsize=(10, 6))\n",
    "bars = plt.bar(weekly_crime_freq.index, weekly_crime_freq.values, color=colors)\n",
    "\n",
    "# Add a colorbar to explain the gradient\n",
    "sm = cm.ScalarMappable(cmap=\"viridis\", norm=norm)\n",
    "sm.set_array([])\n",
    "cbar = plt.colorbar(sm)\n",
    "cbar.set_label('Crime Frequency (Normalized)', rotation=270, labelpad=15)\n",
    "\n",
    "# Add labels and title\n",
    "plt.xlabel('Day of the Week', fontsize=12)\n",
    "plt.ylabel('Frequency of Crimes', fontsize=12)\n",
    "plt.title('Crime Frequency by Day of the Week with Highlighted Highs and Lows', fontsize=14)\n",
    "plt.xticks(fontsize=10)\n",
    "plt.tight_layout()\n",
    "\n",
    "# Show the plot\n",
    "plt.show()\n"
   ]
  },
  {
   "cell_type": "markdown",
   "metadata": {},
   "source": [
    "### Crime Frequency by Day and Type (Sunburst Chart)\n",
    "\n",
    "This **sunburst chart** provides a layered breakdown of crime data, revealing insights about criminal activity across different days and types. Here's how to interpret the chart:\n",
    "\n",
    "#### **Key Insights**\n",
    "- **Dominant Crime Days**: Identify which days of the week have the highest overall crime rates by observing the largest central segments.\n",
    "- **Crime Type Patterns**:\n",
    "  - Some crime types, such as \"Theft of Identity,\" might dominate specific days, reflecting patterns or trends.\n",
    "  - Other types might be more evenly distributed, indicating less day-specific behavior.\n",
    "- **Resource Allocation**:\n",
    "  - Days with the most varied crime types (e.g., multiple large outer segments) suggest a need for broader coverage.\n",
    "  - Days with fewer or more concentrated crime types allow for targeted interventions.\n",
    "\n",
    "This chart not only captures the overall trends but also enables the identification of **specific crime-day relationships**, providing actionable insights for planning and resource deployment."
   ]
  },
  {
   "cell_type": "code",
   "execution_count": 146,
   "metadata": {},
   "outputs": [
    {
     "data": {
      "application/vnd.plotly.v1+json": {
       "config": {
        "plotlyServerURL": "https://plot.ly"
       },
       "data": [
        {
         "branchvalues": "total",
         "customdata": [
          [
           2
          ],
          [
           2
          ],
          [
           3
          ],
          [
           1
          ],
          [
           2
          ],
          [
           2
          ],
          [
           1
          ],
          [
           3
          ],
          [
           1
          ],
          [
           1
          ],
          [
           1
          ],
          [
           4
          ],
          [
           3
          ],
          [
           5
          ],
          [
           1
          ],
          [
           1
          ],
          [
           2
          ],
          [
           1
          ],
          [
           1
          ],
          [
           5
          ],
          [
           1
          ],
          [
           1
          ],
          [
           2
          ],
          [
           1
          ],
          [
           5
          ],
          [
           101
          ],
          [
           6
          ],
          [
           4
          ],
          [
           2
          ],
          [
           1
          ],
          [
           10
          ],
          [
           1
          ],
          [
           59.3954802259887
          ]
         ],
         "domain": {
          "x": [
           0,
           1
          ],
          "y": [
           0,
           1
          ]
         },
         "hovertemplate": "labels=%{label}<br>Crime Count_sum=%{value}<br>parent=%{parent}<br>id=%{id}<br>Crime Count=%{color}<extra></extra>",
         "ids": [
          "Friday/ASSAULT WITH DEADLY WEAPON, AGGRAVATED ASSAULT",
          "Friday/BATTERY - SIMPLE ASSAULT",
          "Friday/BUNCO, GRAND THEFT",
          "Friday/BURGLARY",
          "Friday/BURGLARY FROM VEHICLE",
          "Friday/CHILD ANNOYING (17YRS & UNDER)",
          "Friday/CHILD STEALING",
          "Friday/CRIMINAL THREATS - NO WEAPON DISPLAYED",
          "Friday/CRM AGNST CHLD (13 OR UNDER) (14-15 & SUSP 10 YRS OLDER)",
          "Friday/EMBEZZLEMENT, GRAND THEFT ($950.01 & OVER)",
          "Friday/INDECENT EXPOSURE",
          "Friday/INTIMATE PARTNER - AGGRAVATED ASSAULT",
          "Friday/INTIMATE PARTNER - SIMPLE ASSAULT",
          "Friday/LETTERS, LEWD  -  TELEPHONE CALLS, LEWD",
          "Friday/ORAL COPULATION",
          "Friday/OTHER ASSAULT",
          "Friday/OTHER MISCELLANEOUS CRIME",
          "Friday/PEEPING TOM",
          "Friday/PICKPOCKET",
          "Friday/RAPE, FORCIBLE",
          "Friday/SEX OFFENDER REGISTRANT OUT OF COMPLIANCE",
          "Friday/SEX,UNLAWFUL(INC MUTUAL CONSENT, PENETRATION W/ FRGN OBJ",
          "Friday/SEXUAL PENETRATION W/FOREIGN OBJECT",
          "Friday/SHOPLIFTING - PETTY THEFT ($950 & UNDER)",
          "Friday/THEFT FROM MOTOR VEHICLE - PETTY ($950 & UNDER)",
          "Friday/THEFT OF IDENTITY",
          "Friday/THEFT PLAIN - PETTY ($950 & UNDER)",
          "Friday/THEFT-GRAND ($950.01 & OVER)EXCPT,GUNS,FOWL,LIVESTK,PROD",
          "Friday/UNAUTHORIZED COMPUTER ACCESS",
          "Friday/VANDALISM - FELONY ($400 & OVER, ALL CHURCH VANDALISMS)",
          "Friday/VEHICLE - STOLEN",
          "Friday/VIOLATION OF COURT ORDER",
          "Friday"
         ],
         "labels": [
          "ASSAULT WITH DEADLY WEAPON, AGGRAVATED ASSAULT",
          "BATTERY - SIMPLE ASSAULT",
          "BUNCO, GRAND THEFT",
          "BURGLARY",
          "BURGLARY FROM VEHICLE",
          "CHILD ANNOYING (17YRS & UNDER)",
          "CHILD STEALING",
          "CRIMINAL THREATS - NO WEAPON DISPLAYED",
          "CRM AGNST CHLD (13 OR UNDER) (14-15 & SUSP 10 YRS OLDER)",
          "EMBEZZLEMENT, GRAND THEFT ($950.01 & OVER)",
          "INDECENT EXPOSURE",
          "INTIMATE PARTNER - AGGRAVATED ASSAULT",
          "INTIMATE PARTNER - SIMPLE ASSAULT",
          "LETTERS, LEWD  -  TELEPHONE CALLS, LEWD",
          "ORAL COPULATION",
          "OTHER ASSAULT",
          "OTHER MISCELLANEOUS CRIME",
          "PEEPING TOM",
          "PICKPOCKET",
          "RAPE, FORCIBLE",
          "SEX OFFENDER REGISTRANT OUT OF COMPLIANCE",
          "SEX,UNLAWFUL(INC MUTUAL CONSENT, PENETRATION W/ FRGN OBJ",
          "SEXUAL PENETRATION W/FOREIGN OBJECT",
          "SHOPLIFTING - PETTY THEFT ($950 & UNDER)",
          "THEFT FROM MOTOR VEHICLE - PETTY ($950 & UNDER)",
          "THEFT OF IDENTITY",
          "THEFT PLAIN - PETTY ($950 & UNDER)",
          "THEFT-GRAND ($950.01 & OVER)EXCPT,GUNS,FOWL,LIVESTK,PROD",
          "UNAUTHORIZED COMPUTER ACCESS",
          "VANDALISM - FELONY ($400 & OVER, ALL CHURCH VANDALISMS)",
          "VEHICLE - STOLEN",
          "VIOLATION OF COURT ORDER",
          "Friday"
         ],
         "marker": {
          "coloraxis": "coloraxis",
          "colors": [
           2,
           2,
           3,
           1,
           2,
           2,
           1,
           3,
           1,
           1,
           1,
           4,
           3,
           5,
           1,
           1,
           2,
           1,
           1,
           5,
           1,
           1,
           2,
           1,
           5,
           101,
           6,
           4,
           2,
           1,
           10,
           1,
           59.3954802259887
          ]
         },
         "name": "",
         "parents": [
          "Friday",
          "Friday",
          "Friday",
          "Friday",
          "Friday",
          "Friday",
          "Friday",
          "Friday",
          "Friday",
          "Friday",
          "Friday",
          "Friday",
          "Friday",
          "Friday",
          "Friday",
          "Friday",
          "Friday",
          "Friday",
          "Friday",
          "Friday",
          "Friday",
          "Friday",
          "Friday",
          "Friday",
          "Friday",
          "Friday",
          "Friday",
          "Friday",
          "Friday",
          "Friday",
          "Friday",
          "Friday",
          ""
         ],
         "type": "sunburst",
         "values": [
          2,
          2,
          3,
          1,
          2,
          2,
          1,
          3,
          1,
          1,
          1,
          4,
          3,
          5,
          1,
          1,
          2,
          1,
          1,
          5,
          1,
          1,
          2,
          1,
          5,
          101,
          6,
          4,
          2,
          1,
          10,
          1,
          177
         ]
        }
       ],
       "layout": {
        "coloraxis": {
         "colorbar": {
          "title": {
           "text": "Crime Count"
          }
         },
         "colorscale": [
          [
           0,
           "#440154"
          ],
          [
           0.1111111111111111,
           "#482878"
          ],
          [
           0.2222222222222222,
           "#3e4989"
          ],
          [
           0.3333333333333333,
           "#31688e"
          ],
          [
           0.4444444444444444,
           "#26828e"
          ],
          [
           0.5555555555555556,
           "#1f9e89"
          ],
          [
           0.6666666666666666,
           "#35b779"
          ],
          [
           0.7777777777777778,
           "#6ece58"
          ],
          [
           0.8888888888888888,
           "#b5de2b"
          ],
          [
           1,
           "#fde725"
          ]
         ]
        },
        "legend": {
         "tracegroupgap": 0
        },
        "margin": {
         "b": 0,
         "l": 0,
         "r": 0,
         "t": 40
        },
        "template": {
         "data": {
          "bar": [
           {
            "error_x": {
             "color": "#2a3f5f"
            },
            "error_y": {
             "color": "#2a3f5f"
            },
            "marker": {
             "line": {
              "color": "#E5ECF6",
              "width": 0.5
             },
             "pattern": {
              "fillmode": "overlay",
              "size": 10,
              "solidity": 0.2
             }
            },
            "type": "bar"
           }
          ],
          "barpolar": [
           {
            "marker": {
             "line": {
              "color": "#E5ECF6",
              "width": 0.5
             },
             "pattern": {
              "fillmode": "overlay",
              "size": 10,
              "solidity": 0.2
             }
            },
            "type": "barpolar"
           }
          ],
          "carpet": [
           {
            "aaxis": {
             "endlinecolor": "#2a3f5f",
             "gridcolor": "white",
             "linecolor": "white",
             "minorgridcolor": "white",
             "startlinecolor": "#2a3f5f"
            },
            "baxis": {
             "endlinecolor": "#2a3f5f",
             "gridcolor": "white",
             "linecolor": "white",
             "minorgridcolor": "white",
             "startlinecolor": "#2a3f5f"
            },
            "type": "carpet"
           }
          ],
          "choropleth": [
           {
            "colorbar": {
             "outlinewidth": 0,
             "ticks": ""
            },
            "type": "choropleth"
           }
          ],
          "contour": [
           {
            "colorbar": {
             "outlinewidth": 0,
             "ticks": ""
            },
            "colorscale": [
             [
              0,
              "#0d0887"
             ],
             [
              0.1111111111111111,
              "#46039f"
             ],
             [
              0.2222222222222222,
              "#7201a8"
             ],
             [
              0.3333333333333333,
              "#9c179e"
             ],
             [
              0.4444444444444444,
              "#bd3786"
             ],
             [
              0.5555555555555556,
              "#d8576b"
             ],
             [
              0.6666666666666666,
              "#ed7953"
             ],
             [
              0.7777777777777778,
              "#fb9f3a"
             ],
             [
              0.8888888888888888,
              "#fdca26"
             ],
             [
              1,
              "#f0f921"
             ]
            ],
            "type": "contour"
           }
          ],
          "contourcarpet": [
           {
            "colorbar": {
             "outlinewidth": 0,
             "ticks": ""
            },
            "type": "contourcarpet"
           }
          ],
          "heatmap": [
           {
            "colorbar": {
             "outlinewidth": 0,
             "ticks": ""
            },
            "colorscale": [
             [
              0,
              "#0d0887"
             ],
             [
              0.1111111111111111,
              "#46039f"
             ],
             [
              0.2222222222222222,
              "#7201a8"
             ],
             [
              0.3333333333333333,
              "#9c179e"
             ],
             [
              0.4444444444444444,
              "#bd3786"
             ],
             [
              0.5555555555555556,
              "#d8576b"
             ],
             [
              0.6666666666666666,
              "#ed7953"
             ],
             [
              0.7777777777777778,
              "#fb9f3a"
             ],
             [
              0.8888888888888888,
              "#fdca26"
             ],
             [
              1,
              "#f0f921"
             ]
            ],
            "type": "heatmap"
           }
          ],
          "heatmapgl": [
           {
            "colorbar": {
             "outlinewidth": 0,
             "ticks": ""
            },
            "colorscale": [
             [
              0,
              "#0d0887"
             ],
             [
              0.1111111111111111,
              "#46039f"
             ],
             [
              0.2222222222222222,
              "#7201a8"
             ],
             [
              0.3333333333333333,
              "#9c179e"
             ],
             [
              0.4444444444444444,
              "#bd3786"
             ],
             [
              0.5555555555555556,
              "#d8576b"
             ],
             [
              0.6666666666666666,
              "#ed7953"
             ],
             [
              0.7777777777777778,
              "#fb9f3a"
             ],
             [
              0.8888888888888888,
              "#fdca26"
             ],
             [
              1,
              "#f0f921"
             ]
            ],
            "type": "heatmapgl"
           }
          ],
          "histogram": [
           {
            "marker": {
             "pattern": {
              "fillmode": "overlay",
              "size": 10,
              "solidity": 0.2
             }
            },
            "type": "histogram"
           }
          ],
          "histogram2d": [
           {
            "colorbar": {
             "outlinewidth": 0,
             "ticks": ""
            },
            "colorscale": [
             [
              0,
              "#0d0887"
             ],
             [
              0.1111111111111111,
              "#46039f"
             ],
             [
              0.2222222222222222,
              "#7201a8"
             ],
             [
              0.3333333333333333,
              "#9c179e"
             ],
             [
              0.4444444444444444,
              "#bd3786"
             ],
             [
              0.5555555555555556,
              "#d8576b"
             ],
             [
              0.6666666666666666,
              "#ed7953"
             ],
             [
              0.7777777777777778,
              "#fb9f3a"
             ],
             [
              0.8888888888888888,
              "#fdca26"
             ],
             [
              1,
              "#f0f921"
             ]
            ],
            "type": "histogram2d"
           }
          ],
          "histogram2dcontour": [
           {
            "colorbar": {
             "outlinewidth": 0,
             "ticks": ""
            },
            "colorscale": [
             [
              0,
              "#0d0887"
             ],
             [
              0.1111111111111111,
              "#46039f"
             ],
             [
              0.2222222222222222,
              "#7201a8"
             ],
             [
              0.3333333333333333,
              "#9c179e"
             ],
             [
              0.4444444444444444,
              "#bd3786"
             ],
             [
              0.5555555555555556,
              "#d8576b"
             ],
             [
              0.6666666666666666,
              "#ed7953"
             ],
             [
              0.7777777777777778,
              "#fb9f3a"
             ],
             [
              0.8888888888888888,
              "#fdca26"
             ],
             [
              1,
              "#f0f921"
             ]
            ],
            "type": "histogram2dcontour"
           }
          ],
          "mesh3d": [
           {
            "colorbar": {
             "outlinewidth": 0,
             "ticks": ""
            },
            "type": "mesh3d"
           }
          ],
          "parcoords": [
           {
            "line": {
             "colorbar": {
              "outlinewidth": 0,
              "ticks": ""
             }
            },
            "type": "parcoords"
           }
          ],
          "pie": [
           {
            "automargin": true,
            "type": "pie"
           }
          ],
          "scatter": [
           {
            "fillpattern": {
             "fillmode": "overlay",
             "size": 10,
             "solidity": 0.2
            },
            "type": "scatter"
           }
          ],
          "scatter3d": [
           {
            "line": {
             "colorbar": {
              "outlinewidth": 0,
              "ticks": ""
             }
            },
            "marker": {
             "colorbar": {
              "outlinewidth": 0,
              "ticks": ""
             }
            },
            "type": "scatter3d"
           }
          ],
          "scattercarpet": [
           {
            "marker": {
             "colorbar": {
              "outlinewidth": 0,
              "ticks": ""
             }
            },
            "type": "scattercarpet"
           }
          ],
          "scattergeo": [
           {
            "marker": {
             "colorbar": {
              "outlinewidth": 0,
              "ticks": ""
             }
            },
            "type": "scattergeo"
           }
          ],
          "scattergl": [
           {
            "marker": {
             "colorbar": {
              "outlinewidth": 0,
              "ticks": ""
             }
            },
            "type": "scattergl"
           }
          ],
          "scattermapbox": [
           {
            "marker": {
             "colorbar": {
              "outlinewidth": 0,
              "ticks": ""
             }
            },
            "type": "scattermapbox"
           }
          ],
          "scatterpolar": [
           {
            "marker": {
             "colorbar": {
              "outlinewidth": 0,
              "ticks": ""
             }
            },
            "type": "scatterpolar"
           }
          ],
          "scatterpolargl": [
           {
            "marker": {
             "colorbar": {
              "outlinewidth": 0,
              "ticks": ""
             }
            },
            "type": "scatterpolargl"
           }
          ],
          "scatterternary": [
           {
            "marker": {
             "colorbar": {
              "outlinewidth": 0,
              "ticks": ""
             }
            },
            "type": "scatterternary"
           }
          ],
          "surface": [
           {
            "colorbar": {
             "outlinewidth": 0,
             "ticks": ""
            },
            "colorscale": [
             [
              0,
              "#0d0887"
             ],
             [
              0.1111111111111111,
              "#46039f"
             ],
             [
              0.2222222222222222,
              "#7201a8"
             ],
             [
              0.3333333333333333,
              "#9c179e"
             ],
             [
              0.4444444444444444,
              "#bd3786"
             ],
             [
              0.5555555555555556,
              "#d8576b"
             ],
             [
              0.6666666666666666,
              "#ed7953"
             ],
             [
              0.7777777777777778,
              "#fb9f3a"
             ],
             [
              0.8888888888888888,
              "#fdca26"
             ],
             [
              1,
              "#f0f921"
             ]
            ],
            "type": "surface"
           }
          ],
          "table": [
           {
            "cells": {
             "fill": {
              "color": "#EBF0F8"
             },
             "line": {
              "color": "white"
             }
            },
            "header": {
             "fill": {
              "color": "#C8D4E3"
             },
             "line": {
              "color": "white"
             }
            },
            "type": "table"
           }
          ]
         },
         "layout": {
          "annotationdefaults": {
           "arrowcolor": "#2a3f5f",
           "arrowhead": 0,
           "arrowwidth": 1
          },
          "autotypenumbers": "strict",
          "coloraxis": {
           "colorbar": {
            "outlinewidth": 0,
            "ticks": ""
           }
          },
          "colorscale": {
           "diverging": [
            [
             0,
             "#8e0152"
            ],
            [
             0.1,
             "#c51b7d"
            ],
            [
             0.2,
             "#de77ae"
            ],
            [
             0.3,
             "#f1b6da"
            ],
            [
             0.4,
             "#fde0ef"
            ],
            [
             0.5,
             "#f7f7f7"
            ],
            [
             0.6,
             "#e6f5d0"
            ],
            [
             0.7,
             "#b8e186"
            ],
            [
             0.8,
             "#7fbc41"
            ],
            [
             0.9,
             "#4d9221"
            ],
            [
             1,
             "#276419"
            ]
           ],
           "sequential": [
            [
             0,
             "#0d0887"
            ],
            [
             0.1111111111111111,
             "#46039f"
            ],
            [
             0.2222222222222222,
             "#7201a8"
            ],
            [
             0.3333333333333333,
             "#9c179e"
            ],
            [
             0.4444444444444444,
             "#bd3786"
            ],
            [
             0.5555555555555556,
             "#d8576b"
            ],
            [
             0.6666666666666666,
             "#ed7953"
            ],
            [
             0.7777777777777778,
             "#fb9f3a"
            ],
            [
             0.8888888888888888,
             "#fdca26"
            ],
            [
             1,
             "#f0f921"
            ]
           ],
           "sequentialminus": [
            [
             0,
             "#0d0887"
            ],
            [
             0.1111111111111111,
             "#46039f"
            ],
            [
             0.2222222222222222,
             "#7201a8"
            ],
            [
             0.3333333333333333,
             "#9c179e"
            ],
            [
             0.4444444444444444,
             "#bd3786"
            ],
            [
             0.5555555555555556,
             "#d8576b"
            ],
            [
             0.6666666666666666,
             "#ed7953"
            ],
            [
             0.7777777777777778,
             "#fb9f3a"
            ],
            [
             0.8888888888888888,
             "#fdca26"
            ],
            [
             1,
             "#f0f921"
            ]
           ]
          },
          "colorway": [
           "#636efa",
           "#EF553B",
           "#00cc96",
           "#ab63fa",
           "#FFA15A",
           "#19d3f3",
           "#FF6692",
           "#B6E880",
           "#FF97FF",
           "#FECB52"
          ],
          "font": {
           "color": "#2a3f5f"
          },
          "geo": {
           "bgcolor": "white",
           "lakecolor": "white",
           "landcolor": "#E5ECF6",
           "showlakes": true,
           "showland": true,
           "subunitcolor": "white"
          },
          "hoverlabel": {
           "align": "left"
          },
          "hovermode": "closest",
          "mapbox": {
           "style": "light"
          },
          "paper_bgcolor": "white",
          "plot_bgcolor": "#E5ECF6",
          "polar": {
           "angularaxis": {
            "gridcolor": "white",
            "linecolor": "white",
            "ticks": ""
           },
           "bgcolor": "#E5ECF6",
           "radialaxis": {
            "gridcolor": "white",
            "linecolor": "white",
            "ticks": ""
           }
          },
          "scene": {
           "xaxis": {
            "backgroundcolor": "#E5ECF6",
            "gridcolor": "white",
            "gridwidth": 2,
            "linecolor": "white",
            "showbackground": true,
            "ticks": "",
            "zerolinecolor": "white"
           },
           "yaxis": {
            "backgroundcolor": "#E5ECF6",
            "gridcolor": "white",
            "gridwidth": 2,
            "linecolor": "white",
            "showbackground": true,
            "ticks": "",
            "zerolinecolor": "white"
           },
           "zaxis": {
            "backgroundcolor": "#E5ECF6",
            "gridcolor": "white",
            "gridwidth": 2,
            "linecolor": "white",
            "showbackground": true,
            "ticks": "",
            "zerolinecolor": "white"
           }
          },
          "shapedefaults": {
           "line": {
            "color": "#2a3f5f"
           }
          },
          "ternary": {
           "aaxis": {
            "gridcolor": "white",
            "linecolor": "white",
            "ticks": ""
           },
           "baxis": {
            "gridcolor": "white",
            "linecolor": "white",
            "ticks": ""
           },
           "bgcolor": "#E5ECF6",
           "caxis": {
            "gridcolor": "white",
            "linecolor": "white",
            "ticks": ""
           }
          },
          "title": {
           "x": 0.05
          },
          "xaxis": {
           "automargin": true,
           "gridcolor": "white",
           "linecolor": "white",
           "ticks": "",
           "title": {
            "standoff": 15
           },
           "zerolinecolor": "white",
           "zerolinewidth": 2
          },
          "yaxis": {
           "automargin": true,
           "gridcolor": "white",
           "linecolor": "white",
           "ticks": "",
           "title": {
            "standoff": 15
           },
           "zerolinecolor": "white",
           "zerolinewidth": 2
          }
         }
        },
        "title": {
         "text": "Crime Frequency on Friday (Sunburst)"
        }
       }
      }
     },
     "metadata": {},
     "output_type": "display_data"
    },
    {
     "data": {
      "application/vnd.plotly.v1+json": {
       "config": {
        "plotlyServerURL": "https://plot.ly"
       },
       "data": [
        {
         "branchvalues": "total",
         "customdata": [
          [
           1
          ],
          [
           2
          ],
          [
           1
          ],
          [
           1
          ],
          [
           8
          ],
          [
           5
          ],
          [
           3
          ],
          [
           2
          ],
          [
           1
          ],
          [
           5
          ],
          [
           4
          ],
          [
           1
          ],
          [
           1
          ],
          [
           4
          ],
          [
           6
          ],
          [
           6
          ],
          [
           1
          ],
          [
           2
          ],
          [
           1
          ],
          [
           1
          ],
          [
           7
          ],
          [
           1
          ],
          [
           2
          ],
          [
           2
          ],
          [
           4
          ],
          [
           2
          ],
          [
           2
          ],
          [
           90
          ],
          [
           4
          ],
          [
           5
          ],
          [
           1
          ],
          [
           3
          ],
          [
           1
          ],
          [
           3
          ],
          [
           1
          ],
          [
           46.15217391304348
          ]
         ],
         "domain": {
          "x": [
           0,
           1
          ],
          "y": [
           0,
           1
          ]
         },
         "hovertemplate": "labels=%{label}<br>Crime Count_sum=%{value}<br>parent=%{parent}<br>id=%{id}<br>Crime Count=%{color}<extra></extra>",
         "ids": [
          "Monday/ASSAULT WITH DEADLY WEAPON, AGGRAVATED ASSAULT",
          "Monday/BATTERY - SIMPLE ASSAULT",
          "Monday/BATTERY WITH SEXUAL CONTACT",
          "Monday/BRANDISH WEAPON",
          "Monday/BURGLARY",
          "Monday/BURGLARY FROM VEHICLE",
          "Monday/CHILD ABUSE (PHYSICAL) - SIMPLE ASSAULT",
          "Monday/CHILD ANNOYING (17YRS & UNDER)",
          "Monday/CRIMINAL THREATS - NO WEAPON DISPLAYED",
          "Monday/CRM AGNST CHLD (13 OR UNDER) (14-15 & SUSP 10 YRS OLDER)",
          "Monday/DOCUMENT FORGERY / STOLEN FELONY",
          "Monday/EMBEZZLEMENT, GRAND THEFT ($950.01 & OVER)",
          "Monday/EXTORTION",
          "Monday/INTIMATE PARTNER - AGGRAVATED ASSAULT",
          "Monday/INTIMATE PARTNER - SIMPLE ASSAULT",
          "Monday/LETTERS, LEWD  -  TELEPHONE CALLS, LEWD",
          "Monday/LEWD/LASCIVIOUS ACTS WITH CHILD",
          "Monday/ORAL COPULATION",
          "Monday/OTHER MISCELLANEOUS CRIME",
          "Monday/PICKPOCKET",
          "Monday/RAPE, FORCIBLE",
          "Monday/ROBBERY",
          "Monday/SEX OFFENDER REGISTRANT OUT OF COMPLIANCE",
          "Monday/SEX,UNLAWFUL(INC MUTUAL CONSENT, PENETRATION W/ FRGN OBJ",
          "Monday/SEXUAL PENETRATION W/FOREIGN OBJECT",
          "Monday/THEFT FROM MOTOR VEHICLE - GRAND ($950.01 AND OVER)",
          "Monday/THEFT FROM MOTOR VEHICLE - PETTY ($950 & UNDER)",
          "Monday/THEFT OF IDENTITY",
          "Monday/THEFT PLAIN - PETTY ($950 & UNDER)",
          "Monday/THEFT-GRAND ($950.01 & OVER)EXCPT,GUNS,FOWL,LIVESTK,PROD",
          "Monday/THREATENING PHONE CALLS/LETTERS",
          "Monday/VANDALISM - FELONY ($400 & OVER, ALL CHURCH VANDALISMS)",
          "Monday/VANDALISM - MISDEAMEANOR ($399 OR UNDER)",
          "Monday/VEHICLE - STOLEN",
          "Monday/VIOLATION OF COURT ORDER",
          "Monday"
         ],
         "labels": [
          "ASSAULT WITH DEADLY WEAPON, AGGRAVATED ASSAULT",
          "BATTERY - SIMPLE ASSAULT",
          "BATTERY WITH SEXUAL CONTACT",
          "BRANDISH WEAPON",
          "BURGLARY",
          "BURGLARY FROM VEHICLE",
          "CHILD ABUSE (PHYSICAL) - SIMPLE ASSAULT",
          "CHILD ANNOYING (17YRS & UNDER)",
          "CRIMINAL THREATS - NO WEAPON DISPLAYED",
          "CRM AGNST CHLD (13 OR UNDER) (14-15 & SUSP 10 YRS OLDER)",
          "DOCUMENT FORGERY / STOLEN FELONY",
          "EMBEZZLEMENT, GRAND THEFT ($950.01 & OVER)",
          "EXTORTION",
          "INTIMATE PARTNER - AGGRAVATED ASSAULT",
          "INTIMATE PARTNER - SIMPLE ASSAULT",
          "LETTERS, LEWD  -  TELEPHONE CALLS, LEWD",
          "LEWD/LASCIVIOUS ACTS WITH CHILD",
          "ORAL COPULATION",
          "OTHER MISCELLANEOUS CRIME",
          "PICKPOCKET",
          "RAPE, FORCIBLE",
          "ROBBERY",
          "SEX OFFENDER REGISTRANT OUT OF COMPLIANCE",
          "SEX,UNLAWFUL(INC MUTUAL CONSENT, PENETRATION W/ FRGN OBJ",
          "SEXUAL PENETRATION W/FOREIGN OBJECT",
          "THEFT FROM MOTOR VEHICLE - GRAND ($950.01 AND OVER)",
          "THEFT FROM MOTOR VEHICLE - PETTY ($950 & UNDER)",
          "THEFT OF IDENTITY",
          "THEFT PLAIN - PETTY ($950 & UNDER)",
          "THEFT-GRAND ($950.01 & OVER)EXCPT,GUNS,FOWL,LIVESTK,PROD",
          "THREATENING PHONE CALLS/LETTERS",
          "VANDALISM - FELONY ($400 & OVER, ALL CHURCH VANDALISMS)",
          "VANDALISM - MISDEAMEANOR ($399 OR UNDER)",
          "VEHICLE - STOLEN",
          "VIOLATION OF COURT ORDER",
          "Monday"
         ],
         "marker": {
          "coloraxis": "coloraxis",
          "colors": [
           1,
           2,
           1,
           1,
           8,
           5,
           3,
           2,
           1,
           5,
           4,
           1,
           1,
           4,
           6,
           6,
           1,
           2,
           1,
           1,
           7,
           1,
           2,
           2,
           4,
           2,
           2,
           90,
           4,
           5,
           1,
           3,
           1,
           3,
           1,
           46.15217391304348
          ]
         },
         "name": "",
         "parents": [
          "Monday",
          "Monday",
          "Monday",
          "Monday",
          "Monday",
          "Monday",
          "Monday",
          "Monday",
          "Monday",
          "Monday",
          "Monday",
          "Monday",
          "Monday",
          "Monday",
          "Monday",
          "Monday",
          "Monday",
          "Monday",
          "Monday",
          "Monday",
          "Monday",
          "Monday",
          "Monday",
          "Monday",
          "Monday",
          "Monday",
          "Monday",
          "Monday",
          "Monday",
          "Monday",
          "Monday",
          "Monday",
          "Monday",
          "Monday",
          "Monday",
          ""
         ],
         "type": "sunburst",
         "values": [
          1,
          2,
          1,
          1,
          8,
          5,
          3,
          2,
          1,
          5,
          4,
          1,
          1,
          4,
          6,
          6,
          1,
          2,
          1,
          1,
          7,
          1,
          2,
          2,
          4,
          2,
          2,
          90,
          4,
          5,
          1,
          3,
          1,
          3,
          1,
          184
         ]
        }
       ],
       "layout": {
        "coloraxis": {
         "colorbar": {
          "title": {
           "text": "Crime Count"
          }
         },
         "colorscale": [
          [
           0,
           "#440154"
          ],
          [
           0.1111111111111111,
           "#482878"
          ],
          [
           0.2222222222222222,
           "#3e4989"
          ],
          [
           0.3333333333333333,
           "#31688e"
          ],
          [
           0.4444444444444444,
           "#26828e"
          ],
          [
           0.5555555555555556,
           "#1f9e89"
          ],
          [
           0.6666666666666666,
           "#35b779"
          ],
          [
           0.7777777777777778,
           "#6ece58"
          ],
          [
           0.8888888888888888,
           "#b5de2b"
          ],
          [
           1,
           "#fde725"
          ]
         ]
        },
        "legend": {
         "tracegroupgap": 0
        },
        "margin": {
         "b": 0,
         "l": 0,
         "r": 0,
         "t": 40
        },
        "template": {
         "data": {
          "bar": [
           {
            "error_x": {
             "color": "#2a3f5f"
            },
            "error_y": {
             "color": "#2a3f5f"
            },
            "marker": {
             "line": {
              "color": "#E5ECF6",
              "width": 0.5
             },
             "pattern": {
              "fillmode": "overlay",
              "size": 10,
              "solidity": 0.2
             }
            },
            "type": "bar"
           }
          ],
          "barpolar": [
           {
            "marker": {
             "line": {
              "color": "#E5ECF6",
              "width": 0.5
             },
             "pattern": {
              "fillmode": "overlay",
              "size": 10,
              "solidity": 0.2
             }
            },
            "type": "barpolar"
           }
          ],
          "carpet": [
           {
            "aaxis": {
             "endlinecolor": "#2a3f5f",
             "gridcolor": "white",
             "linecolor": "white",
             "minorgridcolor": "white",
             "startlinecolor": "#2a3f5f"
            },
            "baxis": {
             "endlinecolor": "#2a3f5f",
             "gridcolor": "white",
             "linecolor": "white",
             "minorgridcolor": "white",
             "startlinecolor": "#2a3f5f"
            },
            "type": "carpet"
           }
          ],
          "choropleth": [
           {
            "colorbar": {
             "outlinewidth": 0,
             "ticks": ""
            },
            "type": "choropleth"
           }
          ],
          "contour": [
           {
            "colorbar": {
             "outlinewidth": 0,
             "ticks": ""
            },
            "colorscale": [
             [
              0,
              "#0d0887"
             ],
             [
              0.1111111111111111,
              "#46039f"
             ],
             [
              0.2222222222222222,
              "#7201a8"
             ],
             [
              0.3333333333333333,
              "#9c179e"
             ],
             [
              0.4444444444444444,
              "#bd3786"
             ],
             [
              0.5555555555555556,
              "#d8576b"
             ],
             [
              0.6666666666666666,
              "#ed7953"
             ],
             [
              0.7777777777777778,
              "#fb9f3a"
             ],
             [
              0.8888888888888888,
              "#fdca26"
             ],
             [
              1,
              "#f0f921"
             ]
            ],
            "type": "contour"
           }
          ],
          "contourcarpet": [
           {
            "colorbar": {
             "outlinewidth": 0,
             "ticks": ""
            },
            "type": "contourcarpet"
           }
          ],
          "heatmap": [
           {
            "colorbar": {
             "outlinewidth": 0,
             "ticks": ""
            },
            "colorscale": [
             [
              0,
              "#0d0887"
             ],
             [
              0.1111111111111111,
              "#46039f"
             ],
             [
              0.2222222222222222,
              "#7201a8"
             ],
             [
              0.3333333333333333,
              "#9c179e"
             ],
             [
              0.4444444444444444,
              "#bd3786"
             ],
             [
              0.5555555555555556,
              "#d8576b"
             ],
             [
              0.6666666666666666,
              "#ed7953"
             ],
             [
              0.7777777777777778,
              "#fb9f3a"
             ],
             [
              0.8888888888888888,
              "#fdca26"
             ],
             [
              1,
              "#f0f921"
             ]
            ],
            "type": "heatmap"
           }
          ],
          "heatmapgl": [
           {
            "colorbar": {
             "outlinewidth": 0,
             "ticks": ""
            },
            "colorscale": [
             [
              0,
              "#0d0887"
             ],
             [
              0.1111111111111111,
              "#46039f"
             ],
             [
              0.2222222222222222,
              "#7201a8"
             ],
             [
              0.3333333333333333,
              "#9c179e"
             ],
             [
              0.4444444444444444,
              "#bd3786"
             ],
             [
              0.5555555555555556,
              "#d8576b"
             ],
             [
              0.6666666666666666,
              "#ed7953"
             ],
             [
              0.7777777777777778,
              "#fb9f3a"
             ],
             [
              0.8888888888888888,
              "#fdca26"
             ],
             [
              1,
              "#f0f921"
             ]
            ],
            "type": "heatmapgl"
           }
          ],
          "histogram": [
           {
            "marker": {
             "pattern": {
              "fillmode": "overlay",
              "size": 10,
              "solidity": 0.2
             }
            },
            "type": "histogram"
           }
          ],
          "histogram2d": [
           {
            "colorbar": {
             "outlinewidth": 0,
             "ticks": ""
            },
            "colorscale": [
             [
              0,
              "#0d0887"
             ],
             [
              0.1111111111111111,
              "#46039f"
             ],
             [
              0.2222222222222222,
              "#7201a8"
             ],
             [
              0.3333333333333333,
              "#9c179e"
             ],
             [
              0.4444444444444444,
              "#bd3786"
             ],
             [
              0.5555555555555556,
              "#d8576b"
             ],
             [
              0.6666666666666666,
              "#ed7953"
             ],
             [
              0.7777777777777778,
              "#fb9f3a"
             ],
             [
              0.8888888888888888,
              "#fdca26"
             ],
             [
              1,
              "#f0f921"
             ]
            ],
            "type": "histogram2d"
           }
          ],
          "histogram2dcontour": [
           {
            "colorbar": {
             "outlinewidth": 0,
             "ticks": ""
            },
            "colorscale": [
             [
              0,
              "#0d0887"
             ],
             [
              0.1111111111111111,
              "#46039f"
             ],
             [
              0.2222222222222222,
              "#7201a8"
             ],
             [
              0.3333333333333333,
              "#9c179e"
             ],
             [
              0.4444444444444444,
              "#bd3786"
             ],
             [
              0.5555555555555556,
              "#d8576b"
             ],
             [
              0.6666666666666666,
              "#ed7953"
             ],
             [
              0.7777777777777778,
              "#fb9f3a"
             ],
             [
              0.8888888888888888,
              "#fdca26"
             ],
             [
              1,
              "#f0f921"
             ]
            ],
            "type": "histogram2dcontour"
           }
          ],
          "mesh3d": [
           {
            "colorbar": {
             "outlinewidth": 0,
             "ticks": ""
            },
            "type": "mesh3d"
           }
          ],
          "parcoords": [
           {
            "line": {
             "colorbar": {
              "outlinewidth": 0,
              "ticks": ""
             }
            },
            "type": "parcoords"
           }
          ],
          "pie": [
           {
            "automargin": true,
            "type": "pie"
           }
          ],
          "scatter": [
           {
            "fillpattern": {
             "fillmode": "overlay",
             "size": 10,
             "solidity": 0.2
            },
            "type": "scatter"
           }
          ],
          "scatter3d": [
           {
            "line": {
             "colorbar": {
              "outlinewidth": 0,
              "ticks": ""
             }
            },
            "marker": {
             "colorbar": {
              "outlinewidth": 0,
              "ticks": ""
             }
            },
            "type": "scatter3d"
           }
          ],
          "scattercarpet": [
           {
            "marker": {
             "colorbar": {
              "outlinewidth": 0,
              "ticks": ""
             }
            },
            "type": "scattercarpet"
           }
          ],
          "scattergeo": [
           {
            "marker": {
             "colorbar": {
              "outlinewidth": 0,
              "ticks": ""
             }
            },
            "type": "scattergeo"
           }
          ],
          "scattergl": [
           {
            "marker": {
             "colorbar": {
              "outlinewidth": 0,
              "ticks": ""
             }
            },
            "type": "scattergl"
           }
          ],
          "scattermapbox": [
           {
            "marker": {
             "colorbar": {
              "outlinewidth": 0,
              "ticks": ""
             }
            },
            "type": "scattermapbox"
           }
          ],
          "scatterpolar": [
           {
            "marker": {
             "colorbar": {
              "outlinewidth": 0,
              "ticks": ""
             }
            },
            "type": "scatterpolar"
           }
          ],
          "scatterpolargl": [
           {
            "marker": {
             "colorbar": {
              "outlinewidth": 0,
              "ticks": ""
             }
            },
            "type": "scatterpolargl"
           }
          ],
          "scatterternary": [
           {
            "marker": {
             "colorbar": {
              "outlinewidth": 0,
              "ticks": ""
             }
            },
            "type": "scatterternary"
           }
          ],
          "surface": [
           {
            "colorbar": {
             "outlinewidth": 0,
             "ticks": ""
            },
            "colorscale": [
             [
              0,
              "#0d0887"
             ],
             [
              0.1111111111111111,
              "#46039f"
             ],
             [
              0.2222222222222222,
              "#7201a8"
             ],
             [
              0.3333333333333333,
              "#9c179e"
             ],
             [
              0.4444444444444444,
              "#bd3786"
             ],
             [
              0.5555555555555556,
              "#d8576b"
             ],
             [
              0.6666666666666666,
              "#ed7953"
             ],
             [
              0.7777777777777778,
              "#fb9f3a"
             ],
             [
              0.8888888888888888,
              "#fdca26"
             ],
             [
              1,
              "#f0f921"
             ]
            ],
            "type": "surface"
           }
          ],
          "table": [
           {
            "cells": {
             "fill": {
              "color": "#EBF0F8"
             },
             "line": {
              "color": "white"
             }
            },
            "header": {
             "fill": {
              "color": "#C8D4E3"
             },
             "line": {
              "color": "white"
             }
            },
            "type": "table"
           }
          ]
         },
         "layout": {
          "annotationdefaults": {
           "arrowcolor": "#2a3f5f",
           "arrowhead": 0,
           "arrowwidth": 1
          },
          "autotypenumbers": "strict",
          "coloraxis": {
           "colorbar": {
            "outlinewidth": 0,
            "ticks": ""
           }
          },
          "colorscale": {
           "diverging": [
            [
             0,
             "#8e0152"
            ],
            [
             0.1,
             "#c51b7d"
            ],
            [
             0.2,
             "#de77ae"
            ],
            [
             0.3,
             "#f1b6da"
            ],
            [
             0.4,
             "#fde0ef"
            ],
            [
             0.5,
             "#f7f7f7"
            ],
            [
             0.6,
             "#e6f5d0"
            ],
            [
             0.7,
             "#b8e186"
            ],
            [
             0.8,
             "#7fbc41"
            ],
            [
             0.9,
             "#4d9221"
            ],
            [
             1,
             "#276419"
            ]
           ],
           "sequential": [
            [
             0,
             "#0d0887"
            ],
            [
             0.1111111111111111,
             "#46039f"
            ],
            [
             0.2222222222222222,
             "#7201a8"
            ],
            [
             0.3333333333333333,
             "#9c179e"
            ],
            [
             0.4444444444444444,
             "#bd3786"
            ],
            [
             0.5555555555555556,
             "#d8576b"
            ],
            [
             0.6666666666666666,
             "#ed7953"
            ],
            [
             0.7777777777777778,
             "#fb9f3a"
            ],
            [
             0.8888888888888888,
             "#fdca26"
            ],
            [
             1,
             "#f0f921"
            ]
           ],
           "sequentialminus": [
            [
             0,
             "#0d0887"
            ],
            [
             0.1111111111111111,
             "#46039f"
            ],
            [
             0.2222222222222222,
             "#7201a8"
            ],
            [
             0.3333333333333333,
             "#9c179e"
            ],
            [
             0.4444444444444444,
             "#bd3786"
            ],
            [
             0.5555555555555556,
             "#d8576b"
            ],
            [
             0.6666666666666666,
             "#ed7953"
            ],
            [
             0.7777777777777778,
             "#fb9f3a"
            ],
            [
             0.8888888888888888,
             "#fdca26"
            ],
            [
             1,
             "#f0f921"
            ]
           ]
          },
          "colorway": [
           "#636efa",
           "#EF553B",
           "#00cc96",
           "#ab63fa",
           "#FFA15A",
           "#19d3f3",
           "#FF6692",
           "#B6E880",
           "#FF97FF",
           "#FECB52"
          ],
          "font": {
           "color": "#2a3f5f"
          },
          "geo": {
           "bgcolor": "white",
           "lakecolor": "white",
           "landcolor": "#E5ECF6",
           "showlakes": true,
           "showland": true,
           "subunitcolor": "white"
          },
          "hoverlabel": {
           "align": "left"
          },
          "hovermode": "closest",
          "mapbox": {
           "style": "light"
          },
          "paper_bgcolor": "white",
          "plot_bgcolor": "#E5ECF6",
          "polar": {
           "angularaxis": {
            "gridcolor": "white",
            "linecolor": "white",
            "ticks": ""
           },
           "bgcolor": "#E5ECF6",
           "radialaxis": {
            "gridcolor": "white",
            "linecolor": "white",
            "ticks": ""
           }
          },
          "scene": {
           "xaxis": {
            "backgroundcolor": "#E5ECF6",
            "gridcolor": "white",
            "gridwidth": 2,
            "linecolor": "white",
            "showbackground": true,
            "ticks": "",
            "zerolinecolor": "white"
           },
           "yaxis": {
            "backgroundcolor": "#E5ECF6",
            "gridcolor": "white",
            "gridwidth": 2,
            "linecolor": "white",
            "showbackground": true,
            "ticks": "",
            "zerolinecolor": "white"
           },
           "zaxis": {
            "backgroundcolor": "#E5ECF6",
            "gridcolor": "white",
            "gridwidth": 2,
            "linecolor": "white",
            "showbackground": true,
            "ticks": "",
            "zerolinecolor": "white"
           }
          },
          "shapedefaults": {
           "line": {
            "color": "#2a3f5f"
           }
          },
          "ternary": {
           "aaxis": {
            "gridcolor": "white",
            "linecolor": "white",
            "ticks": ""
           },
           "baxis": {
            "gridcolor": "white",
            "linecolor": "white",
            "ticks": ""
           },
           "bgcolor": "#E5ECF6",
           "caxis": {
            "gridcolor": "white",
            "linecolor": "white",
            "ticks": ""
           }
          },
          "title": {
           "x": 0.05
          },
          "xaxis": {
           "automargin": true,
           "gridcolor": "white",
           "linecolor": "white",
           "ticks": "",
           "title": {
            "standoff": 15
           },
           "zerolinecolor": "white",
           "zerolinewidth": 2
          },
          "yaxis": {
           "automargin": true,
           "gridcolor": "white",
           "linecolor": "white",
           "ticks": "",
           "title": {
            "standoff": 15
           },
           "zerolinecolor": "white",
           "zerolinewidth": 2
          }
         }
        },
        "title": {
         "text": "Crime Frequency on Monday (Sunburst)"
        }
       }
      }
     },
     "metadata": {},
     "output_type": "display_data"
    },
    {
     "data": {
      "application/vnd.plotly.v1+json": {
       "config": {
        "plotlyServerURL": "https://plot.ly"
       },
       "data": [
        {
         "branchvalues": "total",
         "customdata": [
          [
           1
          ],
          [
           1
          ],
          [
           1
          ],
          [
           3
          ],
          [
           3
          ],
          [
           1
          ],
          [
           1
          ],
          [
           2
          ],
          [
           1
          ],
          [
           1
          ],
          [
           1
          ],
          [
           1
          ],
          [
           4
          ],
          [
           1
          ],
          [
           1
          ],
          [
           1
          ],
          [
           1
          ],
          [
           1
          ],
          [
           2
          ],
          [
           40
          ],
          [
           3
          ],
          [
           1
          ],
          [
           1
          ],
          [
           1
          ],
          [
           8
          ],
          [
           1
          ],
          [
           20.879518072289155
          ]
         ],
         "domain": {
          "x": [
           0,
           1
          ],
          "y": [
           0,
           1
          ]
         },
         "hovertemplate": "labels=%{label}<br>Crime Count_sum=%{value}<br>parent=%{parent}<br>id=%{id}<br>Crime Count=%{color}<extra></extra>",
         "ids": [
          "Saturday/ASSAULT WITH DEADLY WEAPON, AGGRAVATED ASSAULT",
          "Saturday/BATTERY WITH SEXUAL CONTACT",
          "Saturday/BIKE - STOLEN",
          "Saturday/BURGLARY",
          "Saturday/BURGLARY FROM VEHICLE",
          "Saturday/CHILD ABUSE (PHYSICAL) - SIMPLE ASSAULT",
          "Saturday/CRIMINAL THREATS - NO WEAPON DISPLAYED",
          "Saturday/CRM AGNST CHLD (13 OR UNDER) (14-15 & SUSP 10 YRS OLDER)",
          "Saturday/DISTURBING THE PEACE",
          "Saturday/DOCUMENT FORGERY / STOLEN FELONY",
          "Saturday/INTIMATE PARTNER - AGGRAVATED ASSAULT",
          "Saturday/INTIMATE PARTNER - SIMPLE ASSAULT",
          "Saturday/LETTERS, LEWD  -  TELEPHONE CALLS, LEWD",
          "Saturday/ORAL COPULATION",
          "Saturday/RAPE, FORCIBLE",
          "Saturday/SEXUAL PENETRATION W/FOREIGN OBJECT",
          "Saturday/SHOPLIFTING - PETTY THEFT ($950 & UNDER)",
          "Saturday/THEFT FROM MOTOR VEHICLE - GRAND ($950.01 AND OVER)",
          "Saturday/THEFT FROM MOTOR VEHICLE - PETTY ($950 & UNDER)",
          "Saturday/THEFT OF IDENTITY",
          "Saturday/THEFT PLAIN - PETTY ($950 & UNDER)",
          "Saturday/THEFT-GRAND ($950.01 & OVER)EXCPT,GUNS,FOWL,LIVESTK,PROD",
          "Saturday/VANDALISM - FELONY ($400 & OVER, ALL CHURCH VANDALISMS)",
          "Saturday/VANDALISM - MISDEAMEANOR ($399 OR UNDER)",
          "Saturday/VEHICLE - STOLEN",
          "Saturday/VIOLATION OF COURT ORDER",
          "Saturday"
         ],
         "labels": [
          "ASSAULT WITH DEADLY WEAPON, AGGRAVATED ASSAULT",
          "BATTERY WITH SEXUAL CONTACT",
          "BIKE - STOLEN",
          "BURGLARY",
          "BURGLARY FROM VEHICLE",
          "CHILD ABUSE (PHYSICAL) - SIMPLE ASSAULT",
          "CRIMINAL THREATS - NO WEAPON DISPLAYED",
          "CRM AGNST CHLD (13 OR UNDER) (14-15 & SUSP 10 YRS OLDER)",
          "DISTURBING THE PEACE",
          "DOCUMENT FORGERY / STOLEN FELONY",
          "INTIMATE PARTNER - AGGRAVATED ASSAULT",
          "INTIMATE PARTNER - SIMPLE ASSAULT",
          "LETTERS, LEWD  -  TELEPHONE CALLS, LEWD",
          "ORAL COPULATION",
          "RAPE, FORCIBLE",
          "SEXUAL PENETRATION W/FOREIGN OBJECT",
          "SHOPLIFTING - PETTY THEFT ($950 & UNDER)",
          "THEFT FROM MOTOR VEHICLE - GRAND ($950.01 AND OVER)",
          "THEFT FROM MOTOR VEHICLE - PETTY ($950 & UNDER)",
          "THEFT OF IDENTITY",
          "THEFT PLAIN - PETTY ($950 & UNDER)",
          "THEFT-GRAND ($950.01 & OVER)EXCPT,GUNS,FOWL,LIVESTK,PROD",
          "VANDALISM - FELONY ($400 & OVER, ALL CHURCH VANDALISMS)",
          "VANDALISM - MISDEAMEANOR ($399 OR UNDER)",
          "VEHICLE - STOLEN",
          "VIOLATION OF COURT ORDER",
          "Saturday"
         ],
         "marker": {
          "coloraxis": "coloraxis",
          "colors": [
           1,
           1,
           1,
           3,
           3,
           1,
           1,
           2,
           1,
           1,
           1,
           1,
           4,
           1,
           1,
           1,
           1,
           1,
           2,
           40,
           3,
           1,
           1,
           1,
           8,
           1,
           20.879518072289155
          ]
         },
         "name": "",
         "parents": [
          "Saturday",
          "Saturday",
          "Saturday",
          "Saturday",
          "Saturday",
          "Saturday",
          "Saturday",
          "Saturday",
          "Saturday",
          "Saturday",
          "Saturday",
          "Saturday",
          "Saturday",
          "Saturday",
          "Saturday",
          "Saturday",
          "Saturday",
          "Saturday",
          "Saturday",
          "Saturday",
          "Saturday",
          "Saturday",
          "Saturday",
          "Saturday",
          "Saturday",
          "Saturday",
          ""
         ],
         "type": "sunburst",
         "values": [
          1,
          1,
          1,
          3,
          3,
          1,
          1,
          2,
          1,
          1,
          1,
          1,
          4,
          1,
          1,
          1,
          1,
          1,
          2,
          40,
          3,
          1,
          1,
          1,
          8,
          1,
          83
         ]
        }
       ],
       "layout": {
        "coloraxis": {
         "colorbar": {
          "title": {
           "text": "Crime Count"
          }
         },
         "colorscale": [
          [
           0,
           "#440154"
          ],
          [
           0.1111111111111111,
           "#482878"
          ],
          [
           0.2222222222222222,
           "#3e4989"
          ],
          [
           0.3333333333333333,
           "#31688e"
          ],
          [
           0.4444444444444444,
           "#26828e"
          ],
          [
           0.5555555555555556,
           "#1f9e89"
          ],
          [
           0.6666666666666666,
           "#35b779"
          ],
          [
           0.7777777777777778,
           "#6ece58"
          ],
          [
           0.8888888888888888,
           "#b5de2b"
          ],
          [
           1,
           "#fde725"
          ]
         ]
        },
        "legend": {
         "tracegroupgap": 0
        },
        "margin": {
         "b": 0,
         "l": 0,
         "r": 0,
         "t": 40
        },
        "template": {
         "data": {
          "bar": [
           {
            "error_x": {
             "color": "#2a3f5f"
            },
            "error_y": {
             "color": "#2a3f5f"
            },
            "marker": {
             "line": {
              "color": "#E5ECF6",
              "width": 0.5
             },
             "pattern": {
              "fillmode": "overlay",
              "size": 10,
              "solidity": 0.2
             }
            },
            "type": "bar"
           }
          ],
          "barpolar": [
           {
            "marker": {
             "line": {
              "color": "#E5ECF6",
              "width": 0.5
             },
             "pattern": {
              "fillmode": "overlay",
              "size": 10,
              "solidity": 0.2
             }
            },
            "type": "barpolar"
           }
          ],
          "carpet": [
           {
            "aaxis": {
             "endlinecolor": "#2a3f5f",
             "gridcolor": "white",
             "linecolor": "white",
             "minorgridcolor": "white",
             "startlinecolor": "#2a3f5f"
            },
            "baxis": {
             "endlinecolor": "#2a3f5f",
             "gridcolor": "white",
             "linecolor": "white",
             "minorgridcolor": "white",
             "startlinecolor": "#2a3f5f"
            },
            "type": "carpet"
           }
          ],
          "choropleth": [
           {
            "colorbar": {
             "outlinewidth": 0,
             "ticks": ""
            },
            "type": "choropleth"
           }
          ],
          "contour": [
           {
            "colorbar": {
             "outlinewidth": 0,
             "ticks": ""
            },
            "colorscale": [
             [
              0,
              "#0d0887"
             ],
             [
              0.1111111111111111,
              "#46039f"
             ],
             [
              0.2222222222222222,
              "#7201a8"
             ],
             [
              0.3333333333333333,
              "#9c179e"
             ],
             [
              0.4444444444444444,
              "#bd3786"
             ],
             [
              0.5555555555555556,
              "#d8576b"
             ],
             [
              0.6666666666666666,
              "#ed7953"
             ],
             [
              0.7777777777777778,
              "#fb9f3a"
             ],
             [
              0.8888888888888888,
              "#fdca26"
             ],
             [
              1,
              "#f0f921"
             ]
            ],
            "type": "contour"
           }
          ],
          "contourcarpet": [
           {
            "colorbar": {
             "outlinewidth": 0,
             "ticks": ""
            },
            "type": "contourcarpet"
           }
          ],
          "heatmap": [
           {
            "colorbar": {
             "outlinewidth": 0,
             "ticks": ""
            },
            "colorscale": [
             [
              0,
              "#0d0887"
             ],
             [
              0.1111111111111111,
              "#46039f"
             ],
             [
              0.2222222222222222,
              "#7201a8"
             ],
             [
              0.3333333333333333,
              "#9c179e"
             ],
             [
              0.4444444444444444,
              "#bd3786"
             ],
             [
              0.5555555555555556,
              "#d8576b"
             ],
             [
              0.6666666666666666,
              "#ed7953"
             ],
             [
              0.7777777777777778,
              "#fb9f3a"
             ],
             [
              0.8888888888888888,
              "#fdca26"
             ],
             [
              1,
              "#f0f921"
             ]
            ],
            "type": "heatmap"
           }
          ],
          "heatmapgl": [
           {
            "colorbar": {
             "outlinewidth": 0,
             "ticks": ""
            },
            "colorscale": [
             [
              0,
              "#0d0887"
             ],
             [
              0.1111111111111111,
              "#46039f"
             ],
             [
              0.2222222222222222,
              "#7201a8"
             ],
             [
              0.3333333333333333,
              "#9c179e"
             ],
             [
              0.4444444444444444,
              "#bd3786"
             ],
             [
              0.5555555555555556,
              "#d8576b"
             ],
             [
              0.6666666666666666,
              "#ed7953"
             ],
             [
              0.7777777777777778,
              "#fb9f3a"
             ],
             [
              0.8888888888888888,
              "#fdca26"
             ],
             [
              1,
              "#f0f921"
             ]
            ],
            "type": "heatmapgl"
           }
          ],
          "histogram": [
           {
            "marker": {
             "pattern": {
              "fillmode": "overlay",
              "size": 10,
              "solidity": 0.2
             }
            },
            "type": "histogram"
           }
          ],
          "histogram2d": [
           {
            "colorbar": {
             "outlinewidth": 0,
             "ticks": ""
            },
            "colorscale": [
             [
              0,
              "#0d0887"
             ],
             [
              0.1111111111111111,
              "#46039f"
             ],
             [
              0.2222222222222222,
              "#7201a8"
             ],
             [
              0.3333333333333333,
              "#9c179e"
             ],
             [
              0.4444444444444444,
              "#bd3786"
             ],
             [
              0.5555555555555556,
              "#d8576b"
             ],
             [
              0.6666666666666666,
              "#ed7953"
             ],
             [
              0.7777777777777778,
              "#fb9f3a"
             ],
             [
              0.8888888888888888,
              "#fdca26"
             ],
             [
              1,
              "#f0f921"
             ]
            ],
            "type": "histogram2d"
           }
          ],
          "histogram2dcontour": [
           {
            "colorbar": {
             "outlinewidth": 0,
             "ticks": ""
            },
            "colorscale": [
             [
              0,
              "#0d0887"
             ],
             [
              0.1111111111111111,
              "#46039f"
             ],
             [
              0.2222222222222222,
              "#7201a8"
             ],
             [
              0.3333333333333333,
              "#9c179e"
             ],
             [
              0.4444444444444444,
              "#bd3786"
             ],
             [
              0.5555555555555556,
              "#d8576b"
             ],
             [
              0.6666666666666666,
              "#ed7953"
             ],
             [
              0.7777777777777778,
              "#fb9f3a"
             ],
             [
              0.8888888888888888,
              "#fdca26"
             ],
             [
              1,
              "#f0f921"
             ]
            ],
            "type": "histogram2dcontour"
           }
          ],
          "mesh3d": [
           {
            "colorbar": {
             "outlinewidth": 0,
             "ticks": ""
            },
            "type": "mesh3d"
           }
          ],
          "parcoords": [
           {
            "line": {
             "colorbar": {
              "outlinewidth": 0,
              "ticks": ""
             }
            },
            "type": "parcoords"
           }
          ],
          "pie": [
           {
            "automargin": true,
            "type": "pie"
           }
          ],
          "scatter": [
           {
            "fillpattern": {
             "fillmode": "overlay",
             "size": 10,
             "solidity": 0.2
            },
            "type": "scatter"
           }
          ],
          "scatter3d": [
           {
            "line": {
             "colorbar": {
              "outlinewidth": 0,
              "ticks": ""
             }
            },
            "marker": {
             "colorbar": {
              "outlinewidth": 0,
              "ticks": ""
             }
            },
            "type": "scatter3d"
           }
          ],
          "scattercarpet": [
           {
            "marker": {
             "colorbar": {
              "outlinewidth": 0,
              "ticks": ""
             }
            },
            "type": "scattercarpet"
           }
          ],
          "scattergeo": [
           {
            "marker": {
             "colorbar": {
              "outlinewidth": 0,
              "ticks": ""
             }
            },
            "type": "scattergeo"
           }
          ],
          "scattergl": [
           {
            "marker": {
             "colorbar": {
              "outlinewidth": 0,
              "ticks": ""
             }
            },
            "type": "scattergl"
           }
          ],
          "scattermapbox": [
           {
            "marker": {
             "colorbar": {
              "outlinewidth": 0,
              "ticks": ""
             }
            },
            "type": "scattermapbox"
           }
          ],
          "scatterpolar": [
           {
            "marker": {
             "colorbar": {
              "outlinewidth": 0,
              "ticks": ""
             }
            },
            "type": "scatterpolar"
           }
          ],
          "scatterpolargl": [
           {
            "marker": {
             "colorbar": {
              "outlinewidth": 0,
              "ticks": ""
             }
            },
            "type": "scatterpolargl"
           }
          ],
          "scatterternary": [
           {
            "marker": {
             "colorbar": {
              "outlinewidth": 0,
              "ticks": ""
             }
            },
            "type": "scatterternary"
           }
          ],
          "surface": [
           {
            "colorbar": {
             "outlinewidth": 0,
             "ticks": ""
            },
            "colorscale": [
             [
              0,
              "#0d0887"
             ],
             [
              0.1111111111111111,
              "#46039f"
             ],
             [
              0.2222222222222222,
              "#7201a8"
             ],
             [
              0.3333333333333333,
              "#9c179e"
             ],
             [
              0.4444444444444444,
              "#bd3786"
             ],
             [
              0.5555555555555556,
              "#d8576b"
             ],
             [
              0.6666666666666666,
              "#ed7953"
             ],
             [
              0.7777777777777778,
              "#fb9f3a"
             ],
             [
              0.8888888888888888,
              "#fdca26"
             ],
             [
              1,
              "#f0f921"
             ]
            ],
            "type": "surface"
           }
          ],
          "table": [
           {
            "cells": {
             "fill": {
              "color": "#EBF0F8"
             },
             "line": {
              "color": "white"
             }
            },
            "header": {
             "fill": {
              "color": "#C8D4E3"
             },
             "line": {
              "color": "white"
             }
            },
            "type": "table"
           }
          ]
         },
         "layout": {
          "annotationdefaults": {
           "arrowcolor": "#2a3f5f",
           "arrowhead": 0,
           "arrowwidth": 1
          },
          "autotypenumbers": "strict",
          "coloraxis": {
           "colorbar": {
            "outlinewidth": 0,
            "ticks": ""
           }
          },
          "colorscale": {
           "diverging": [
            [
             0,
             "#8e0152"
            ],
            [
             0.1,
             "#c51b7d"
            ],
            [
             0.2,
             "#de77ae"
            ],
            [
             0.3,
             "#f1b6da"
            ],
            [
             0.4,
             "#fde0ef"
            ],
            [
             0.5,
             "#f7f7f7"
            ],
            [
             0.6,
             "#e6f5d0"
            ],
            [
             0.7,
             "#b8e186"
            ],
            [
             0.8,
             "#7fbc41"
            ],
            [
             0.9,
             "#4d9221"
            ],
            [
             1,
             "#276419"
            ]
           ],
           "sequential": [
            [
             0,
             "#0d0887"
            ],
            [
             0.1111111111111111,
             "#46039f"
            ],
            [
             0.2222222222222222,
             "#7201a8"
            ],
            [
             0.3333333333333333,
             "#9c179e"
            ],
            [
             0.4444444444444444,
             "#bd3786"
            ],
            [
             0.5555555555555556,
             "#d8576b"
            ],
            [
             0.6666666666666666,
             "#ed7953"
            ],
            [
             0.7777777777777778,
             "#fb9f3a"
            ],
            [
             0.8888888888888888,
             "#fdca26"
            ],
            [
             1,
             "#f0f921"
            ]
           ],
           "sequentialminus": [
            [
             0,
             "#0d0887"
            ],
            [
             0.1111111111111111,
             "#46039f"
            ],
            [
             0.2222222222222222,
             "#7201a8"
            ],
            [
             0.3333333333333333,
             "#9c179e"
            ],
            [
             0.4444444444444444,
             "#bd3786"
            ],
            [
             0.5555555555555556,
             "#d8576b"
            ],
            [
             0.6666666666666666,
             "#ed7953"
            ],
            [
             0.7777777777777778,
             "#fb9f3a"
            ],
            [
             0.8888888888888888,
             "#fdca26"
            ],
            [
             1,
             "#f0f921"
            ]
           ]
          },
          "colorway": [
           "#636efa",
           "#EF553B",
           "#00cc96",
           "#ab63fa",
           "#FFA15A",
           "#19d3f3",
           "#FF6692",
           "#B6E880",
           "#FF97FF",
           "#FECB52"
          ],
          "font": {
           "color": "#2a3f5f"
          },
          "geo": {
           "bgcolor": "white",
           "lakecolor": "white",
           "landcolor": "#E5ECF6",
           "showlakes": true,
           "showland": true,
           "subunitcolor": "white"
          },
          "hoverlabel": {
           "align": "left"
          },
          "hovermode": "closest",
          "mapbox": {
           "style": "light"
          },
          "paper_bgcolor": "white",
          "plot_bgcolor": "#E5ECF6",
          "polar": {
           "angularaxis": {
            "gridcolor": "white",
            "linecolor": "white",
            "ticks": ""
           },
           "bgcolor": "#E5ECF6",
           "radialaxis": {
            "gridcolor": "white",
            "linecolor": "white",
            "ticks": ""
           }
          },
          "scene": {
           "xaxis": {
            "backgroundcolor": "#E5ECF6",
            "gridcolor": "white",
            "gridwidth": 2,
            "linecolor": "white",
            "showbackground": true,
            "ticks": "",
            "zerolinecolor": "white"
           },
           "yaxis": {
            "backgroundcolor": "#E5ECF6",
            "gridcolor": "white",
            "gridwidth": 2,
            "linecolor": "white",
            "showbackground": true,
            "ticks": "",
            "zerolinecolor": "white"
           },
           "zaxis": {
            "backgroundcolor": "#E5ECF6",
            "gridcolor": "white",
            "gridwidth": 2,
            "linecolor": "white",
            "showbackground": true,
            "ticks": "",
            "zerolinecolor": "white"
           }
          },
          "shapedefaults": {
           "line": {
            "color": "#2a3f5f"
           }
          },
          "ternary": {
           "aaxis": {
            "gridcolor": "white",
            "linecolor": "white",
            "ticks": ""
           },
           "baxis": {
            "gridcolor": "white",
            "linecolor": "white",
            "ticks": ""
           },
           "bgcolor": "#E5ECF6",
           "caxis": {
            "gridcolor": "white",
            "linecolor": "white",
            "ticks": ""
           }
          },
          "title": {
           "x": 0.05
          },
          "xaxis": {
           "automargin": true,
           "gridcolor": "white",
           "linecolor": "white",
           "ticks": "",
           "title": {
            "standoff": 15
           },
           "zerolinecolor": "white",
           "zerolinewidth": 2
          },
          "yaxis": {
           "automargin": true,
           "gridcolor": "white",
           "linecolor": "white",
           "ticks": "",
           "title": {
            "standoff": 15
           },
           "zerolinecolor": "white",
           "zerolinewidth": 2
          }
         }
        },
        "title": {
         "text": "Crime Frequency on Saturday (Sunburst)"
        }
       }
      }
     },
     "metadata": {},
     "output_type": "display_data"
    },
    {
     "data": {
      "application/vnd.plotly.v1+json": {
       "config": {
        "plotlyServerURL": "https://plot.ly"
       },
       "data": [
        {
         "branchvalues": "total",
         "customdata": [
          [
           1
          ],
          [
           3
          ],
          [
           1
          ],
          [
           1
          ],
          [
           1
          ],
          [
           3
          ],
          [
           1
          ],
          [
           5
          ],
          [
           1
          ],
          [
           4
          ],
          [
           3
          ],
          [
           1
          ],
          [
           1
          ],
          [
           1
          ],
          [
           1
          ],
          [
           1
          ],
          [
           1
          ],
          [
           36
          ],
          [
           2
          ],
          [
           2
          ],
          [
           7
          ],
          [
           1
          ],
          [
           18.384615384615383
          ]
         ],
         "domain": {
          "x": [
           0,
           1
          ],
          "y": [
           0,
           1
          ]
         },
         "hovertemplate": "labels=%{label}<br>Crime Count_sum=%{value}<br>parent=%{parent}<br>id=%{id}<br>Crime Count=%{color}<extra></extra>",
         "ids": [
          "Sunday/ARSON",
          "Sunday/BATTERY - SIMPLE ASSAULT",
          "Sunday/BATTERY WITH SEXUAL CONTACT",
          "Sunday/BRANDISH WEAPON",
          "Sunday/BURGLARY",
          "Sunday/BURGLARY FROM VEHICLE",
          "Sunday/CHILD ABUSE (PHYSICAL) - SIMPLE ASSAULT",
          "Sunday/CRM AGNST CHLD (13 OR UNDER) (14-15 & SUSP 10 YRS OLDER)",
          "Sunday/FALSE IMPRISONMENT",
          "Sunday/INTIMATE PARTNER - SIMPLE ASSAULT",
          "Sunday/LETTERS, LEWD  -  TELEPHONE CALLS, LEWD",
          "Sunday/OTHER MISCELLANEOUS CRIME",
          "Sunday/PICKPOCKET",
          "Sunday/RAPE, FORCIBLE",
          "Sunday/SEX OFFENDER REGISTRANT OUT OF COMPLIANCE",
          "Sunday/SHOPLIFTING - PETTY THEFT ($950 & UNDER)",
          "Sunday/SODOMY/SEXUAL CONTACT B/W PENIS OF ONE PERS TO ANUS OTH",
          "Sunday/THEFT OF IDENTITY",
          "Sunday/THEFT PLAIN - PETTY ($950 & UNDER)",
          "Sunday/VANDALISM - MISDEAMEANOR ($399 OR UNDER)",
          "Sunday/VEHICLE - STOLEN",
          "Sunday/VIOLATION OF RESTRAINING ORDER",
          "Sunday"
         ],
         "labels": [
          "ARSON",
          "BATTERY - SIMPLE ASSAULT",
          "BATTERY WITH SEXUAL CONTACT",
          "BRANDISH WEAPON",
          "BURGLARY",
          "BURGLARY FROM VEHICLE",
          "CHILD ABUSE (PHYSICAL) - SIMPLE ASSAULT",
          "CRM AGNST CHLD (13 OR UNDER) (14-15 & SUSP 10 YRS OLDER)",
          "FALSE IMPRISONMENT",
          "INTIMATE PARTNER - SIMPLE ASSAULT",
          "LETTERS, LEWD  -  TELEPHONE CALLS, LEWD",
          "OTHER MISCELLANEOUS CRIME",
          "PICKPOCKET",
          "RAPE, FORCIBLE",
          "SEX OFFENDER REGISTRANT OUT OF COMPLIANCE",
          "SHOPLIFTING - PETTY THEFT ($950 & UNDER)",
          "SODOMY/SEXUAL CONTACT B/W PENIS OF ONE PERS TO ANUS OTH",
          "THEFT OF IDENTITY",
          "THEFT PLAIN - PETTY ($950 & UNDER)",
          "VANDALISM - MISDEAMEANOR ($399 OR UNDER)",
          "VEHICLE - STOLEN",
          "VIOLATION OF RESTRAINING ORDER",
          "Sunday"
         ],
         "marker": {
          "coloraxis": "coloraxis",
          "colors": [
           1,
           3,
           1,
           1,
           1,
           3,
           1,
           5,
           1,
           4,
           3,
           1,
           1,
           1,
           1,
           1,
           1,
           36,
           2,
           2,
           7,
           1,
           18.384615384615383
          ]
         },
         "name": "",
         "parents": [
          "Sunday",
          "Sunday",
          "Sunday",
          "Sunday",
          "Sunday",
          "Sunday",
          "Sunday",
          "Sunday",
          "Sunday",
          "Sunday",
          "Sunday",
          "Sunday",
          "Sunday",
          "Sunday",
          "Sunday",
          "Sunday",
          "Sunday",
          "Sunday",
          "Sunday",
          "Sunday",
          "Sunday",
          "Sunday",
          ""
         ],
         "type": "sunburst",
         "values": [
          1,
          3,
          1,
          1,
          1,
          3,
          1,
          5,
          1,
          4,
          3,
          1,
          1,
          1,
          1,
          1,
          1,
          36,
          2,
          2,
          7,
          1,
          78
         ]
        }
       ],
       "layout": {
        "coloraxis": {
         "colorbar": {
          "title": {
           "text": "Crime Count"
          }
         },
         "colorscale": [
          [
           0,
           "#440154"
          ],
          [
           0.1111111111111111,
           "#482878"
          ],
          [
           0.2222222222222222,
           "#3e4989"
          ],
          [
           0.3333333333333333,
           "#31688e"
          ],
          [
           0.4444444444444444,
           "#26828e"
          ],
          [
           0.5555555555555556,
           "#1f9e89"
          ],
          [
           0.6666666666666666,
           "#35b779"
          ],
          [
           0.7777777777777778,
           "#6ece58"
          ],
          [
           0.8888888888888888,
           "#b5de2b"
          ],
          [
           1,
           "#fde725"
          ]
         ]
        },
        "legend": {
         "tracegroupgap": 0
        },
        "margin": {
         "b": 0,
         "l": 0,
         "r": 0,
         "t": 40
        },
        "template": {
         "data": {
          "bar": [
           {
            "error_x": {
             "color": "#2a3f5f"
            },
            "error_y": {
             "color": "#2a3f5f"
            },
            "marker": {
             "line": {
              "color": "#E5ECF6",
              "width": 0.5
             },
             "pattern": {
              "fillmode": "overlay",
              "size": 10,
              "solidity": 0.2
             }
            },
            "type": "bar"
           }
          ],
          "barpolar": [
           {
            "marker": {
             "line": {
              "color": "#E5ECF6",
              "width": 0.5
             },
             "pattern": {
              "fillmode": "overlay",
              "size": 10,
              "solidity": 0.2
             }
            },
            "type": "barpolar"
           }
          ],
          "carpet": [
           {
            "aaxis": {
             "endlinecolor": "#2a3f5f",
             "gridcolor": "white",
             "linecolor": "white",
             "minorgridcolor": "white",
             "startlinecolor": "#2a3f5f"
            },
            "baxis": {
             "endlinecolor": "#2a3f5f",
             "gridcolor": "white",
             "linecolor": "white",
             "minorgridcolor": "white",
             "startlinecolor": "#2a3f5f"
            },
            "type": "carpet"
           }
          ],
          "choropleth": [
           {
            "colorbar": {
             "outlinewidth": 0,
             "ticks": ""
            },
            "type": "choropleth"
           }
          ],
          "contour": [
           {
            "colorbar": {
             "outlinewidth": 0,
             "ticks": ""
            },
            "colorscale": [
             [
              0,
              "#0d0887"
             ],
             [
              0.1111111111111111,
              "#46039f"
             ],
             [
              0.2222222222222222,
              "#7201a8"
             ],
             [
              0.3333333333333333,
              "#9c179e"
             ],
             [
              0.4444444444444444,
              "#bd3786"
             ],
             [
              0.5555555555555556,
              "#d8576b"
             ],
             [
              0.6666666666666666,
              "#ed7953"
             ],
             [
              0.7777777777777778,
              "#fb9f3a"
             ],
             [
              0.8888888888888888,
              "#fdca26"
             ],
             [
              1,
              "#f0f921"
             ]
            ],
            "type": "contour"
           }
          ],
          "contourcarpet": [
           {
            "colorbar": {
             "outlinewidth": 0,
             "ticks": ""
            },
            "type": "contourcarpet"
           }
          ],
          "heatmap": [
           {
            "colorbar": {
             "outlinewidth": 0,
             "ticks": ""
            },
            "colorscale": [
             [
              0,
              "#0d0887"
             ],
             [
              0.1111111111111111,
              "#46039f"
             ],
             [
              0.2222222222222222,
              "#7201a8"
             ],
             [
              0.3333333333333333,
              "#9c179e"
             ],
             [
              0.4444444444444444,
              "#bd3786"
             ],
             [
              0.5555555555555556,
              "#d8576b"
             ],
             [
              0.6666666666666666,
              "#ed7953"
             ],
             [
              0.7777777777777778,
              "#fb9f3a"
             ],
             [
              0.8888888888888888,
              "#fdca26"
             ],
             [
              1,
              "#f0f921"
             ]
            ],
            "type": "heatmap"
           }
          ],
          "heatmapgl": [
           {
            "colorbar": {
             "outlinewidth": 0,
             "ticks": ""
            },
            "colorscale": [
             [
              0,
              "#0d0887"
             ],
             [
              0.1111111111111111,
              "#46039f"
             ],
             [
              0.2222222222222222,
              "#7201a8"
             ],
             [
              0.3333333333333333,
              "#9c179e"
             ],
             [
              0.4444444444444444,
              "#bd3786"
             ],
             [
              0.5555555555555556,
              "#d8576b"
             ],
             [
              0.6666666666666666,
              "#ed7953"
             ],
             [
              0.7777777777777778,
              "#fb9f3a"
             ],
             [
              0.8888888888888888,
              "#fdca26"
             ],
             [
              1,
              "#f0f921"
             ]
            ],
            "type": "heatmapgl"
           }
          ],
          "histogram": [
           {
            "marker": {
             "pattern": {
              "fillmode": "overlay",
              "size": 10,
              "solidity": 0.2
             }
            },
            "type": "histogram"
           }
          ],
          "histogram2d": [
           {
            "colorbar": {
             "outlinewidth": 0,
             "ticks": ""
            },
            "colorscale": [
             [
              0,
              "#0d0887"
             ],
             [
              0.1111111111111111,
              "#46039f"
             ],
             [
              0.2222222222222222,
              "#7201a8"
             ],
             [
              0.3333333333333333,
              "#9c179e"
             ],
             [
              0.4444444444444444,
              "#bd3786"
             ],
             [
              0.5555555555555556,
              "#d8576b"
             ],
             [
              0.6666666666666666,
              "#ed7953"
             ],
             [
              0.7777777777777778,
              "#fb9f3a"
             ],
             [
              0.8888888888888888,
              "#fdca26"
             ],
             [
              1,
              "#f0f921"
             ]
            ],
            "type": "histogram2d"
           }
          ],
          "histogram2dcontour": [
           {
            "colorbar": {
             "outlinewidth": 0,
             "ticks": ""
            },
            "colorscale": [
             [
              0,
              "#0d0887"
             ],
             [
              0.1111111111111111,
              "#46039f"
             ],
             [
              0.2222222222222222,
              "#7201a8"
             ],
             [
              0.3333333333333333,
              "#9c179e"
             ],
             [
              0.4444444444444444,
              "#bd3786"
             ],
             [
              0.5555555555555556,
              "#d8576b"
             ],
             [
              0.6666666666666666,
              "#ed7953"
             ],
             [
              0.7777777777777778,
              "#fb9f3a"
             ],
             [
              0.8888888888888888,
              "#fdca26"
             ],
             [
              1,
              "#f0f921"
             ]
            ],
            "type": "histogram2dcontour"
           }
          ],
          "mesh3d": [
           {
            "colorbar": {
             "outlinewidth": 0,
             "ticks": ""
            },
            "type": "mesh3d"
           }
          ],
          "parcoords": [
           {
            "line": {
             "colorbar": {
              "outlinewidth": 0,
              "ticks": ""
             }
            },
            "type": "parcoords"
           }
          ],
          "pie": [
           {
            "automargin": true,
            "type": "pie"
           }
          ],
          "scatter": [
           {
            "fillpattern": {
             "fillmode": "overlay",
             "size": 10,
             "solidity": 0.2
            },
            "type": "scatter"
           }
          ],
          "scatter3d": [
           {
            "line": {
             "colorbar": {
              "outlinewidth": 0,
              "ticks": ""
             }
            },
            "marker": {
             "colorbar": {
              "outlinewidth": 0,
              "ticks": ""
             }
            },
            "type": "scatter3d"
           }
          ],
          "scattercarpet": [
           {
            "marker": {
             "colorbar": {
              "outlinewidth": 0,
              "ticks": ""
             }
            },
            "type": "scattercarpet"
           }
          ],
          "scattergeo": [
           {
            "marker": {
             "colorbar": {
              "outlinewidth": 0,
              "ticks": ""
             }
            },
            "type": "scattergeo"
           }
          ],
          "scattergl": [
           {
            "marker": {
             "colorbar": {
              "outlinewidth": 0,
              "ticks": ""
             }
            },
            "type": "scattergl"
           }
          ],
          "scattermapbox": [
           {
            "marker": {
             "colorbar": {
              "outlinewidth": 0,
              "ticks": ""
             }
            },
            "type": "scattermapbox"
           }
          ],
          "scatterpolar": [
           {
            "marker": {
             "colorbar": {
              "outlinewidth": 0,
              "ticks": ""
             }
            },
            "type": "scatterpolar"
           }
          ],
          "scatterpolargl": [
           {
            "marker": {
             "colorbar": {
              "outlinewidth": 0,
              "ticks": ""
             }
            },
            "type": "scatterpolargl"
           }
          ],
          "scatterternary": [
           {
            "marker": {
             "colorbar": {
              "outlinewidth": 0,
              "ticks": ""
             }
            },
            "type": "scatterternary"
           }
          ],
          "surface": [
           {
            "colorbar": {
             "outlinewidth": 0,
             "ticks": ""
            },
            "colorscale": [
             [
              0,
              "#0d0887"
             ],
             [
              0.1111111111111111,
              "#46039f"
             ],
             [
              0.2222222222222222,
              "#7201a8"
             ],
             [
              0.3333333333333333,
              "#9c179e"
             ],
             [
              0.4444444444444444,
              "#bd3786"
             ],
             [
              0.5555555555555556,
              "#d8576b"
             ],
             [
              0.6666666666666666,
              "#ed7953"
             ],
             [
              0.7777777777777778,
              "#fb9f3a"
             ],
             [
              0.8888888888888888,
              "#fdca26"
             ],
             [
              1,
              "#f0f921"
             ]
            ],
            "type": "surface"
           }
          ],
          "table": [
           {
            "cells": {
             "fill": {
              "color": "#EBF0F8"
             },
             "line": {
              "color": "white"
             }
            },
            "header": {
             "fill": {
              "color": "#C8D4E3"
             },
             "line": {
              "color": "white"
             }
            },
            "type": "table"
           }
          ]
         },
         "layout": {
          "annotationdefaults": {
           "arrowcolor": "#2a3f5f",
           "arrowhead": 0,
           "arrowwidth": 1
          },
          "autotypenumbers": "strict",
          "coloraxis": {
           "colorbar": {
            "outlinewidth": 0,
            "ticks": ""
           }
          },
          "colorscale": {
           "diverging": [
            [
             0,
             "#8e0152"
            ],
            [
             0.1,
             "#c51b7d"
            ],
            [
             0.2,
             "#de77ae"
            ],
            [
             0.3,
             "#f1b6da"
            ],
            [
             0.4,
             "#fde0ef"
            ],
            [
             0.5,
             "#f7f7f7"
            ],
            [
             0.6,
             "#e6f5d0"
            ],
            [
             0.7,
             "#b8e186"
            ],
            [
             0.8,
             "#7fbc41"
            ],
            [
             0.9,
             "#4d9221"
            ],
            [
             1,
             "#276419"
            ]
           ],
           "sequential": [
            [
             0,
             "#0d0887"
            ],
            [
             0.1111111111111111,
             "#46039f"
            ],
            [
             0.2222222222222222,
             "#7201a8"
            ],
            [
             0.3333333333333333,
             "#9c179e"
            ],
            [
             0.4444444444444444,
             "#bd3786"
            ],
            [
             0.5555555555555556,
             "#d8576b"
            ],
            [
             0.6666666666666666,
             "#ed7953"
            ],
            [
             0.7777777777777778,
             "#fb9f3a"
            ],
            [
             0.8888888888888888,
             "#fdca26"
            ],
            [
             1,
             "#f0f921"
            ]
           ],
           "sequentialminus": [
            [
             0,
             "#0d0887"
            ],
            [
             0.1111111111111111,
             "#46039f"
            ],
            [
             0.2222222222222222,
             "#7201a8"
            ],
            [
             0.3333333333333333,
             "#9c179e"
            ],
            [
             0.4444444444444444,
             "#bd3786"
            ],
            [
             0.5555555555555556,
             "#d8576b"
            ],
            [
             0.6666666666666666,
             "#ed7953"
            ],
            [
             0.7777777777777778,
             "#fb9f3a"
            ],
            [
             0.8888888888888888,
             "#fdca26"
            ],
            [
             1,
             "#f0f921"
            ]
           ]
          },
          "colorway": [
           "#636efa",
           "#EF553B",
           "#00cc96",
           "#ab63fa",
           "#FFA15A",
           "#19d3f3",
           "#FF6692",
           "#B6E880",
           "#FF97FF",
           "#FECB52"
          ],
          "font": {
           "color": "#2a3f5f"
          },
          "geo": {
           "bgcolor": "white",
           "lakecolor": "white",
           "landcolor": "#E5ECF6",
           "showlakes": true,
           "showland": true,
           "subunitcolor": "white"
          },
          "hoverlabel": {
           "align": "left"
          },
          "hovermode": "closest",
          "mapbox": {
           "style": "light"
          },
          "paper_bgcolor": "white",
          "plot_bgcolor": "#E5ECF6",
          "polar": {
           "angularaxis": {
            "gridcolor": "white",
            "linecolor": "white",
            "ticks": ""
           },
           "bgcolor": "#E5ECF6",
           "radialaxis": {
            "gridcolor": "white",
            "linecolor": "white",
            "ticks": ""
           }
          },
          "scene": {
           "xaxis": {
            "backgroundcolor": "#E5ECF6",
            "gridcolor": "white",
            "gridwidth": 2,
            "linecolor": "white",
            "showbackground": true,
            "ticks": "",
            "zerolinecolor": "white"
           },
           "yaxis": {
            "backgroundcolor": "#E5ECF6",
            "gridcolor": "white",
            "gridwidth": 2,
            "linecolor": "white",
            "showbackground": true,
            "ticks": "",
            "zerolinecolor": "white"
           },
           "zaxis": {
            "backgroundcolor": "#E5ECF6",
            "gridcolor": "white",
            "gridwidth": 2,
            "linecolor": "white",
            "showbackground": true,
            "ticks": "",
            "zerolinecolor": "white"
           }
          },
          "shapedefaults": {
           "line": {
            "color": "#2a3f5f"
           }
          },
          "ternary": {
           "aaxis": {
            "gridcolor": "white",
            "linecolor": "white",
            "ticks": ""
           },
           "baxis": {
            "gridcolor": "white",
            "linecolor": "white",
            "ticks": ""
           },
           "bgcolor": "#E5ECF6",
           "caxis": {
            "gridcolor": "white",
            "linecolor": "white",
            "ticks": ""
           }
          },
          "title": {
           "x": 0.05
          },
          "xaxis": {
           "automargin": true,
           "gridcolor": "white",
           "linecolor": "white",
           "ticks": "",
           "title": {
            "standoff": 15
           },
           "zerolinecolor": "white",
           "zerolinewidth": 2
          },
          "yaxis": {
           "automargin": true,
           "gridcolor": "white",
           "linecolor": "white",
           "ticks": "",
           "title": {
            "standoff": 15
           },
           "zerolinecolor": "white",
           "zerolinewidth": 2
          }
         }
        },
        "title": {
         "text": "Crime Frequency on Sunday (Sunburst)"
        }
       }
      }
     },
     "metadata": {},
     "output_type": "display_data"
    },
    {
     "data": {
      "application/vnd.plotly.v1+json": {
       "config": {
        "plotlyServerURL": "https://plot.ly"
       },
       "data": [
        {
         "branchvalues": "total",
         "customdata": [
          [
           1
          ],
          [
           1
          ],
          [
           6
          ],
          [
           1
          ],
          [
           1
          ],
          [
           5
          ],
          [
           6
          ],
          [
           1
          ],
          [
           1
          ],
          [
           1
          ],
          [
           2
          ],
          [
           5
          ],
          [
           1
          ],
          [
           1
          ],
          [
           3
          ],
          [
           1
          ],
          [
           2
          ],
          [
           5
          ],
          [
           1
          ],
          [
           5
          ],
          [
           2
          ],
          [
           2
          ],
          [
           4
          ],
          [
           3
          ],
          [
           88
          ],
          [
           4
          ],
          [
           1
          ],
          [
           1
          ],
          [
           6
          ],
          [
           2
          ],
          [
           49.29447852760736
          ]
         ],
         "domain": {
          "x": [
           0,
           1
          ],
          "y": [
           0,
           1
          ]
         },
         "hovertemplate": "labels=%{label}<br>Crime Count_sum=%{value}<br>parent=%{parent}<br>id=%{id}<br>Crime Count=%{color}<extra></extra>",
         "ids": [
          "Thursday/ASSAULT WITH DEADLY WEAPON, AGGRAVATED ASSAULT",
          "Thursday/ATTEMPTED ROBBERY",
          "Thursday/BATTERY - SIMPLE ASSAULT",
          "Thursday/BATTERY WITH SEXUAL CONTACT",
          "Thursday/BIKE - STOLEN",
          "Thursday/BUNCO, GRAND THEFT",
          "Thursday/BURGLARY",
          "Thursday/CHILD ABUSE (PHYSICAL) - AGGRAVATED ASSAULT",
          "Thursday/CHILD ANNOYING (17YRS & UNDER)",
          "Thursday/CHILD NEGLECT (SEE 300 W.I.C.)",
          "Thursday/CRIMINAL THREATS - NO WEAPON DISPLAYED",
          "Thursday/CRM AGNST CHLD (13 OR UNDER) (14-15 & SUSP 10 YRS OLDER)",
          "Thursday/DISTURBING THE PEACE",
          "Thursday/DOCUMENT FORGERY / STOLEN FELONY",
          "Thursday/EMBEZZLEMENT, GRAND THEFT ($950.01 & OVER)",
          "Thursday/HUMAN TRAFFICKING - INVOLUNTARY SERVITUDE",
          "Thursday/INTIMATE PARTNER - SIMPLE ASSAULT",
          "Thursday/LETTERS, LEWD  -  TELEPHONE CALLS, LEWD",
          "Thursday/OTHER MISCELLANEOUS CRIME",
          "Thursday/RAPE, FORCIBLE",
          "Thursday/SEX OFFENDER REGISTRANT OUT OF COMPLIANCE",
          "Thursday/SEXUAL PENETRATION W/FOREIGN OBJECT",
          "Thursday/THEFT FROM MOTOR VEHICLE - GRAND ($950.01 AND OVER)",
          "Thursday/THEFT FROM MOTOR VEHICLE - PETTY ($950 & UNDER)",
          "Thursday/THEFT OF IDENTITY",
          "Thursday/THEFT-GRAND ($950.01 & OVER)EXCPT,GUNS,FOWL,LIVESTK,PROD",
          "Thursday/VANDALISM - FELONY ($400 & OVER, ALL CHURCH VANDALISMS)",
          "Thursday/VANDALISM - MISDEAMEANOR ($399 OR UNDER)",
          "Thursday/VEHICLE - STOLEN",
          "Thursday/VIOLATION OF RESTRAINING ORDER",
          "Thursday"
         ],
         "labels": [
          "ASSAULT WITH DEADLY WEAPON, AGGRAVATED ASSAULT",
          "ATTEMPTED ROBBERY",
          "BATTERY - SIMPLE ASSAULT",
          "BATTERY WITH SEXUAL CONTACT",
          "BIKE - STOLEN",
          "BUNCO, GRAND THEFT",
          "BURGLARY",
          "CHILD ABUSE (PHYSICAL) - AGGRAVATED ASSAULT",
          "CHILD ANNOYING (17YRS & UNDER)",
          "CHILD NEGLECT (SEE 300 W.I.C.)",
          "CRIMINAL THREATS - NO WEAPON DISPLAYED",
          "CRM AGNST CHLD (13 OR UNDER) (14-15 & SUSP 10 YRS OLDER)",
          "DISTURBING THE PEACE",
          "DOCUMENT FORGERY / STOLEN FELONY",
          "EMBEZZLEMENT, GRAND THEFT ($950.01 & OVER)",
          "HUMAN TRAFFICKING - INVOLUNTARY SERVITUDE",
          "INTIMATE PARTNER - SIMPLE ASSAULT",
          "LETTERS, LEWD  -  TELEPHONE CALLS, LEWD",
          "OTHER MISCELLANEOUS CRIME",
          "RAPE, FORCIBLE",
          "SEX OFFENDER REGISTRANT OUT OF COMPLIANCE",
          "SEXUAL PENETRATION W/FOREIGN OBJECT",
          "THEFT FROM MOTOR VEHICLE - GRAND ($950.01 AND OVER)",
          "THEFT FROM MOTOR VEHICLE - PETTY ($950 & UNDER)",
          "THEFT OF IDENTITY",
          "THEFT-GRAND ($950.01 & OVER)EXCPT,GUNS,FOWL,LIVESTK,PROD",
          "VANDALISM - FELONY ($400 & OVER, ALL CHURCH VANDALISMS)",
          "VANDALISM - MISDEAMEANOR ($399 OR UNDER)",
          "VEHICLE - STOLEN",
          "VIOLATION OF RESTRAINING ORDER",
          "Thursday"
         ],
         "marker": {
          "coloraxis": "coloraxis",
          "colors": [
           1,
           1,
           6,
           1,
           1,
           5,
           6,
           1,
           1,
           1,
           2,
           5,
           1,
           1,
           3,
           1,
           2,
           5,
           1,
           5,
           2,
           2,
           4,
           3,
           88,
           4,
           1,
           1,
           6,
           2,
           49.29447852760736
          ]
         },
         "name": "",
         "parents": [
          "Thursday",
          "Thursday",
          "Thursday",
          "Thursday",
          "Thursday",
          "Thursday",
          "Thursday",
          "Thursday",
          "Thursday",
          "Thursday",
          "Thursday",
          "Thursday",
          "Thursday",
          "Thursday",
          "Thursday",
          "Thursday",
          "Thursday",
          "Thursday",
          "Thursday",
          "Thursday",
          "Thursday",
          "Thursday",
          "Thursday",
          "Thursday",
          "Thursday",
          "Thursday",
          "Thursday",
          "Thursday",
          "Thursday",
          "Thursday",
          ""
         ],
         "type": "sunburst",
         "values": [
          1,
          1,
          6,
          1,
          1,
          5,
          6,
          1,
          1,
          1,
          2,
          5,
          1,
          1,
          3,
          1,
          2,
          5,
          1,
          5,
          2,
          2,
          4,
          3,
          88,
          4,
          1,
          1,
          6,
          2,
          163
         ]
        }
       ],
       "layout": {
        "coloraxis": {
         "colorbar": {
          "title": {
           "text": "Crime Count"
          }
         },
         "colorscale": [
          [
           0,
           "#440154"
          ],
          [
           0.1111111111111111,
           "#482878"
          ],
          [
           0.2222222222222222,
           "#3e4989"
          ],
          [
           0.3333333333333333,
           "#31688e"
          ],
          [
           0.4444444444444444,
           "#26828e"
          ],
          [
           0.5555555555555556,
           "#1f9e89"
          ],
          [
           0.6666666666666666,
           "#35b779"
          ],
          [
           0.7777777777777778,
           "#6ece58"
          ],
          [
           0.8888888888888888,
           "#b5de2b"
          ],
          [
           1,
           "#fde725"
          ]
         ]
        },
        "legend": {
         "tracegroupgap": 0
        },
        "margin": {
         "b": 0,
         "l": 0,
         "r": 0,
         "t": 40
        },
        "template": {
         "data": {
          "bar": [
           {
            "error_x": {
             "color": "#2a3f5f"
            },
            "error_y": {
             "color": "#2a3f5f"
            },
            "marker": {
             "line": {
              "color": "#E5ECF6",
              "width": 0.5
             },
             "pattern": {
              "fillmode": "overlay",
              "size": 10,
              "solidity": 0.2
             }
            },
            "type": "bar"
           }
          ],
          "barpolar": [
           {
            "marker": {
             "line": {
              "color": "#E5ECF6",
              "width": 0.5
             },
             "pattern": {
              "fillmode": "overlay",
              "size": 10,
              "solidity": 0.2
             }
            },
            "type": "barpolar"
           }
          ],
          "carpet": [
           {
            "aaxis": {
             "endlinecolor": "#2a3f5f",
             "gridcolor": "white",
             "linecolor": "white",
             "minorgridcolor": "white",
             "startlinecolor": "#2a3f5f"
            },
            "baxis": {
             "endlinecolor": "#2a3f5f",
             "gridcolor": "white",
             "linecolor": "white",
             "minorgridcolor": "white",
             "startlinecolor": "#2a3f5f"
            },
            "type": "carpet"
           }
          ],
          "choropleth": [
           {
            "colorbar": {
             "outlinewidth": 0,
             "ticks": ""
            },
            "type": "choropleth"
           }
          ],
          "contour": [
           {
            "colorbar": {
             "outlinewidth": 0,
             "ticks": ""
            },
            "colorscale": [
             [
              0,
              "#0d0887"
             ],
             [
              0.1111111111111111,
              "#46039f"
             ],
             [
              0.2222222222222222,
              "#7201a8"
             ],
             [
              0.3333333333333333,
              "#9c179e"
             ],
             [
              0.4444444444444444,
              "#bd3786"
             ],
             [
              0.5555555555555556,
              "#d8576b"
             ],
             [
              0.6666666666666666,
              "#ed7953"
             ],
             [
              0.7777777777777778,
              "#fb9f3a"
             ],
             [
              0.8888888888888888,
              "#fdca26"
             ],
             [
              1,
              "#f0f921"
             ]
            ],
            "type": "contour"
           }
          ],
          "contourcarpet": [
           {
            "colorbar": {
             "outlinewidth": 0,
             "ticks": ""
            },
            "type": "contourcarpet"
           }
          ],
          "heatmap": [
           {
            "colorbar": {
             "outlinewidth": 0,
             "ticks": ""
            },
            "colorscale": [
             [
              0,
              "#0d0887"
             ],
             [
              0.1111111111111111,
              "#46039f"
             ],
             [
              0.2222222222222222,
              "#7201a8"
             ],
             [
              0.3333333333333333,
              "#9c179e"
             ],
             [
              0.4444444444444444,
              "#bd3786"
             ],
             [
              0.5555555555555556,
              "#d8576b"
             ],
             [
              0.6666666666666666,
              "#ed7953"
             ],
             [
              0.7777777777777778,
              "#fb9f3a"
             ],
             [
              0.8888888888888888,
              "#fdca26"
             ],
             [
              1,
              "#f0f921"
             ]
            ],
            "type": "heatmap"
           }
          ],
          "heatmapgl": [
           {
            "colorbar": {
             "outlinewidth": 0,
             "ticks": ""
            },
            "colorscale": [
             [
              0,
              "#0d0887"
             ],
             [
              0.1111111111111111,
              "#46039f"
             ],
             [
              0.2222222222222222,
              "#7201a8"
             ],
             [
              0.3333333333333333,
              "#9c179e"
             ],
             [
              0.4444444444444444,
              "#bd3786"
             ],
             [
              0.5555555555555556,
              "#d8576b"
             ],
             [
              0.6666666666666666,
              "#ed7953"
             ],
             [
              0.7777777777777778,
              "#fb9f3a"
             ],
             [
              0.8888888888888888,
              "#fdca26"
             ],
             [
              1,
              "#f0f921"
             ]
            ],
            "type": "heatmapgl"
           }
          ],
          "histogram": [
           {
            "marker": {
             "pattern": {
              "fillmode": "overlay",
              "size": 10,
              "solidity": 0.2
             }
            },
            "type": "histogram"
           }
          ],
          "histogram2d": [
           {
            "colorbar": {
             "outlinewidth": 0,
             "ticks": ""
            },
            "colorscale": [
             [
              0,
              "#0d0887"
             ],
             [
              0.1111111111111111,
              "#46039f"
             ],
             [
              0.2222222222222222,
              "#7201a8"
             ],
             [
              0.3333333333333333,
              "#9c179e"
             ],
             [
              0.4444444444444444,
              "#bd3786"
             ],
             [
              0.5555555555555556,
              "#d8576b"
             ],
             [
              0.6666666666666666,
              "#ed7953"
             ],
             [
              0.7777777777777778,
              "#fb9f3a"
             ],
             [
              0.8888888888888888,
              "#fdca26"
             ],
             [
              1,
              "#f0f921"
             ]
            ],
            "type": "histogram2d"
           }
          ],
          "histogram2dcontour": [
           {
            "colorbar": {
             "outlinewidth": 0,
             "ticks": ""
            },
            "colorscale": [
             [
              0,
              "#0d0887"
             ],
             [
              0.1111111111111111,
              "#46039f"
             ],
             [
              0.2222222222222222,
              "#7201a8"
             ],
             [
              0.3333333333333333,
              "#9c179e"
             ],
             [
              0.4444444444444444,
              "#bd3786"
             ],
             [
              0.5555555555555556,
              "#d8576b"
             ],
             [
              0.6666666666666666,
              "#ed7953"
             ],
             [
              0.7777777777777778,
              "#fb9f3a"
             ],
             [
              0.8888888888888888,
              "#fdca26"
             ],
             [
              1,
              "#f0f921"
             ]
            ],
            "type": "histogram2dcontour"
           }
          ],
          "mesh3d": [
           {
            "colorbar": {
             "outlinewidth": 0,
             "ticks": ""
            },
            "type": "mesh3d"
           }
          ],
          "parcoords": [
           {
            "line": {
             "colorbar": {
              "outlinewidth": 0,
              "ticks": ""
             }
            },
            "type": "parcoords"
           }
          ],
          "pie": [
           {
            "automargin": true,
            "type": "pie"
           }
          ],
          "scatter": [
           {
            "fillpattern": {
             "fillmode": "overlay",
             "size": 10,
             "solidity": 0.2
            },
            "type": "scatter"
           }
          ],
          "scatter3d": [
           {
            "line": {
             "colorbar": {
              "outlinewidth": 0,
              "ticks": ""
             }
            },
            "marker": {
             "colorbar": {
              "outlinewidth": 0,
              "ticks": ""
             }
            },
            "type": "scatter3d"
           }
          ],
          "scattercarpet": [
           {
            "marker": {
             "colorbar": {
              "outlinewidth": 0,
              "ticks": ""
             }
            },
            "type": "scattercarpet"
           }
          ],
          "scattergeo": [
           {
            "marker": {
             "colorbar": {
              "outlinewidth": 0,
              "ticks": ""
             }
            },
            "type": "scattergeo"
           }
          ],
          "scattergl": [
           {
            "marker": {
             "colorbar": {
              "outlinewidth": 0,
              "ticks": ""
             }
            },
            "type": "scattergl"
           }
          ],
          "scattermapbox": [
           {
            "marker": {
             "colorbar": {
              "outlinewidth": 0,
              "ticks": ""
             }
            },
            "type": "scattermapbox"
           }
          ],
          "scatterpolar": [
           {
            "marker": {
             "colorbar": {
              "outlinewidth": 0,
              "ticks": ""
             }
            },
            "type": "scatterpolar"
           }
          ],
          "scatterpolargl": [
           {
            "marker": {
             "colorbar": {
              "outlinewidth": 0,
              "ticks": ""
             }
            },
            "type": "scatterpolargl"
           }
          ],
          "scatterternary": [
           {
            "marker": {
             "colorbar": {
              "outlinewidth": 0,
              "ticks": ""
             }
            },
            "type": "scatterternary"
           }
          ],
          "surface": [
           {
            "colorbar": {
             "outlinewidth": 0,
             "ticks": ""
            },
            "colorscale": [
             [
              0,
              "#0d0887"
             ],
             [
              0.1111111111111111,
              "#46039f"
             ],
             [
              0.2222222222222222,
              "#7201a8"
             ],
             [
              0.3333333333333333,
              "#9c179e"
             ],
             [
              0.4444444444444444,
              "#bd3786"
             ],
             [
              0.5555555555555556,
              "#d8576b"
             ],
             [
              0.6666666666666666,
              "#ed7953"
             ],
             [
              0.7777777777777778,
              "#fb9f3a"
             ],
             [
              0.8888888888888888,
              "#fdca26"
             ],
             [
              1,
              "#f0f921"
             ]
            ],
            "type": "surface"
           }
          ],
          "table": [
           {
            "cells": {
             "fill": {
              "color": "#EBF0F8"
             },
             "line": {
              "color": "white"
             }
            },
            "header": {
             "fill": {
              "color": "#C8D4E3"
             },
             "line": {
              "color": "white"
             }
            },
            "type": "table"
           }
          ]
         },
         "layout": {
          "annotationdefaults": {
           "arrowcolor": "#2a3f5f",
           "arrowhead": 0,
           "arrowwidth": 1
          },
          "autotypenumbers": "strict",
          "coloraxis": {
           "colorbar": {
            "outlinewidth": 0,
            "ticks": ""
           }
          },
          "colorscale": {
           "diverging": [
            [
             0,
             "#8e0152"
            ],
            [
             0.1,
             "#c51b7d"
            ],
            [
             0.2,
             "#de77ae"
            ],
            [
             0.3,
             "#f1b6da"
            ],
            [
             0.4,
             "#fde0ef"
            ],
            [
             0.5,
             "#f7f7f7"
            ],
            [
             0.6,
             "#e6f5d0"
            ],
            [
             0.7,
             "#b8e186"
            ],
            [
             0.8,
             "#7fbc41"
            ],
            [
             0.9,
             "#4d9221"
            ],
            [
             1,
             "#276419"
            ]
           ],
           "sequential": [
            [
             0,
             "#0d0887"
            ],
            [
             0.1111111111111111,
             "#46039f"
            ],
            [
             0.2222222222222222,
             "#7201a8"
            ],
            [
             0.3333333333333333,
             "#9c179e"
            ],
            [
             0.4444444444444444,
             "#bd3786"
            ],
            [
             0.5555555555555556,
             "#d8576b"
            ],
            [
             0.6666666666666666,
             "#ed7953"
            ],
            [
             0.7777777777777778,
             "#fb9f3a"
            ],
            [
             0.8888888888888888,
             "#fdca26"
            ],
            [
             1,
             "#f0f921"
            ]
           ],
           "sequentialminus": [
            [
             0,
             "#0d0887"
            ],
            [
             0.1111111111111111,
             "#46039f"
            ],
            [
             0.2222222222222222,
             "#7201a8"
            ],
            [
             0.3333333333333333,
             "#9c179e"
            ],
            [
             0.4444444444444444,
             "#bd3786"
            ],
            [
             0.5555555555555556,
             "#d8576b"
            ],
            [
             0.6666666666666666,
             "#ed7953"
            ],
            [
             0.7777777777777778,
             "#fb9f3a"
            ],
            [
             0.8888888888888888,
             "#fdca26"
            ],
            [
             1,
             "#f0f921"
            ]
           ]
          },
          "colorway": [
           "#636efa",
           "#EF553B",
           "#00cc96",
           "#ab63fa",
           "#FFA15A",
           "#19d3f3",
           "#FF6692",
           "#B6E880",
           "#FF97FF",
           "#FECB52"
          ],
          "font": {
           "color": "#2a3f5f"
          },
          "geo": {
           "bgcolor": "white",
           "lakecolor": "white",
           "landcolor": "#E5ECF6",
           "showlakes": true,
           "showland": true,
           "subunitcolor": "white"
          },
          "hoverlabel": {
           "align": "left"
          },
          "hovermode": "closest",
          "mapbox": {
           "style": "light"
          },
          "paper_bgcolor": "white",
          "plot_bgcolor": "#E5ECF6",
          "polar": {
           "angularaxis": {
            "gridcolor": "white",
            "linecolor": "white",
            "ticks": ""
           },
           "bgcolor": "#E5ECF6",
           "radialaxis": {
            "gridcolor": "white",
            "linecolor": "white",
            "ticks": ""
           }
          },
          "scene": {
           "xaxis": {
            "backgroundcolor": "#E5ECF6",
            "gridcolor": "white",
            "gridwidth": 2,
            "linecolor": "white",
            "showbackground": true,
            "ticks": "",
            "zerolinecolor": "white"
           },
           "yaxis": {
            "backgroundcolor": "#E5ECF6",
            "gridcolor": "white",
            "gridwidth": 2,
            "linecolor": "white",
            "showbackground": true,
            "ticks": "",
            "zerolinecolor": "white"
           },
           "zaxis": {
            "backgroundcolor": "#E5ECF6",
            "gridcolor": "white",
            "gridwidth": 2,
            "linecolor": "white",
            "showbackground": true,
            "ticks": "",
            "zerolinecolor": "white"
           }
          },
          "shapedefaults": {
           "line": {
            "color": "#2a3f5f"
           }
          },
          "ternary": {
           "aaxis": {
            "gridcolor": "white",
            "linecolor": "white",
            "ticks": ""
           },
           "baxis": {
            "gridcolor": "white",
            "linecolor": "white",
            "ticks": ""
           },
           "bgcolor": "#E5ECF6",
           "caxis": {
            "gridcolor": "white",
            "linecolor": "white",
            "ticks": ""
           }
          },
          "title": {
           "x": 0.05
          },
          "xaxis": {
           "automargin": true,
           "gridcolor": "white",
           "linecolor": "white",
           "ticks": "",
           "title": {
            "standoff": 15
           },
           "zerolinecolor": "white",
           "zerolinewidth": 2
          },
          "yaxis": {
           "automargin": true,
           "gridcolor": "white",
           "linecolor": "white",
           "ticks": "",
           "title": {
            "standoff": 15
           },
           "zerolinecolor": "white",
           "zerolinewidth": 2
          }
         }
        },
        "title": {
         "text": "Crime Frequency on Thursday (Sunburst)"
        }
       }
      }
     },
     "metadata": {},
     "output_type": "display_data"
    },
    {
     "data": {
      "application/vnd.plotly.v1+json": {
       "config": {
        "plotlyServerURL": "https://plot.ly"
       },
       "data": [
        {
         "branchvalues": "total",
         "customdata": [
          [
           1
          ],
          [
           2
          ],
          [
           1
          ],
          [
           4
          ],
          [
           4
          ],
          [
           8
          ],
          [
           4
          ],
          [
           2
          ],
          [
           1
          ],
          [
           1
          ],
          [
           1
          ],
          [
           1
          ],
          [
           2
          ],
          [
           8
          ],
          [
           1
          ],
          [
           4
          ],
          [
           3
          ],
          [
           1
          ],
          [
           2
          ],
          [
           4
          ],
          [
           7
          ],
          [
           1
          ],
          [
           2
          ],
          [
           1
          ],
          [
           3
          ],
          [
           5
          ],
          [
           1
          ],
          [
           2
          ],
          [
           1
          ],
          [
           1
          ],
          [
           1
          ],
          [
           4
          ],
          [
           84
          ],
          [
           1
          ],
          [
           6
          ],
          [
           4
          ],
          [
           3
          ],
          [
           3
          ],
          [
           8
          ],
          [
           1
          ],
          [
           38.896907216494846
          ]
         ],
         "domain": {
          "x": [
           0,
           1
          ],
          "y": [
           0,
           1
          ]
         },
         "hovertemplate": "labels=%{label}<br>Crime Count_sum=%{value}<br>parent=%{parent}<br>id=%{id}<br>Crime Count=%{color}<extra></extra>",
         "ids": [
          "Tuesday/ARSON",
          "Tuesday/BATTERY WITH SEXUAL CONTACT",
          "Tuesday/BUNCO, ATTEMPT",
          "Tuesday/BUNCO, GRAND THEFT",
          "Tuesday/BURGLARY",
          "Tuesday/BURGLARY FROM VEHICLE",
          "Tuesday/CHILD ABUSE (PHYSICAL) - SIMPLE ASSAULT",
          "Tuesday/CHILD ANNOYING (17YRS & UNDER)",
          "Tuesday/CONTEMPT OF COURT",
          "Tuesday/CONTRIBUTING",
          "Tuesday/CREDIT CARDS, FRAUD USE ($950 & UNDER",
          "Tuesday/CREDIT CARDS, FRAUD USE ($950.01 & OVER)",
          "Tuesday/CRIMINAL THREATS - NO WEAPON DISPLAYED",
          "Tuesday/CRM AGNST CHLD (13 OR UNDER) (14-15 & SUSP 10 YRS OLDER)",
          "Tuesday/DISTURBING THE PEACE",
          "Tuesday/DOCUMENT FORGERY / STOLEN FELONY",
          "Tuesday/EMBEZZLEMENT, GRAND THEFT ($950.01 & OVER)",
          "Tuesday/EXTORTION",
          "Tuesday/INTIMATE PARTNER - AGGRAVATED ASSAULT",
          "Tuesday/INTIMATE PARTNER - SIMPLE ASSAULT",
          "Tuesday/LETTERS, LEWD  -  TELEPHONE CALLS, LEWD",
          "Tuesday/ORAL COPULATION",
          "Tuesday/OTHER MISCELLANEOUS CRIME",
          "Tuesday/PICKPOCKET",
          "Tuesday/RAPE, FORCIBLE",
          "Tuesday/SEX OFFENDER REGISTRANT OUT OF COMPLIANCE",
          "Tuesday/SEX,UNLAWFUL(INC MUTUAL CONSENT, PENETRATION W/ FRGN OBJ",
          "Tuesday/SEXUAL PENETRATION W/FOREIGN OBJECT",
          "Tuesday/SHOPLIFTING - PETTY THEFT ($950 & UNDER)",
          "Tuesday/SODOMY/SEXUAL CONTACT B/W PENIS OF ONE PERS TO ANUS OTH",
          "Tuesday/THEFT FROM MOTOR VEHICLE - GRAND ($950.01 AND OVER)",
          "Tuesday/THEFT FROM MOTOR VEHICLE - PETTY ($950 & UNDER)",
          "Tuesday/THEFT OF IDENTITY",
          "Tuesday/THEFT PLAIN - ATTEMPT",
          "Tuesday/THEFT PLAIN - PETTY ($950 & UNDER)",
          "Tuesday/THEFT-GRAND ($950.01 & OVER)EXCPT,GUNS,FOWL,LIVESTK,PROD",
          "Tuesday/VANDALISM - FELONY ($400 & OVER, ALL CHURCH VANDALISMS)",
          "Tuesday/VANDALISM - MISDEAMEANOR ($399 OR UNDER)",
          "Tuesday/VEHICLE - STOLEN",
          "Tuesday/VIOLATION OF COURT ORDER",
          "Tuesday"
         ],
         "labels": [
          "ARSON",
          "BATTERY WITH SEXUAL CONTACT",
          "BUNCO, ATTEMPT",
          "BUNCO, GRAND THEFT",
          "BURGLARY",
          "BURGLARY FROM VEHICLE",
          "CHILD ABUSE (PHYSICAL) - SIMPLE ASSAULT",
          "CHILD ANNOYING (17YRS & UNDER)",
          "CONTEMPT OF COURT",
          "CONTRIBUTING",
          "CREDIT CARDS, FRAUD USE ($950 & UNDER",
          "CREDIT CARDS, FRAUD USE ($950.01 & OVER)",
          "CRIMINAL THREATS - NO WEAPON DISPLAYED",
          "CRM AGNST CHLD (13 OR UNDER) (14-15 & SUSP 10 YRS OLDER)",
          "DISTURBING THE PEACE",
          "DOCUMENT FORGERY / STOLEN FELONY",
          "EMBEZZLEMENT, GRAND THEFT ($950.01 & OVER)",
          "EXTORTION",
          "INTIMATE PARTNER - AGGRAVATED ASSAULT",
          "INTIMATE PARTNER - SIMPLE ASSAULT",
          "LETTERS, LEWD  -  TELEPHONE CALLS, LEWD",
          "ORAL COPULATION",
          "OTHER MISCELLANEOUS CRIME",
          "PICKPOCKET",
          "RAPE, FORCIBLE",
          "SEX OFFENDER REGISTRANT OUT OF COMPLIANCE",
          "SEX,UNLAWFUL(INC MUTUAL CONSENT, PENETRATION W/ FRGN OBJ",
          "SEXUAL PENETRATION W/FOREIGN OBJECT",
          "SHOPLIFTING - PETTY THEFT ($950 & UNDER)",
          "SODOMY/SEXUAL CONTACT B/W PENIS OF ONE PERS TO ANUS OTH",
          "THEFT FROM MOTOR VEHICLE - GRAND ($950.01 AND OVER)",
          "THEFT FROM MOTOR VEHICLE - PETTY ($950 & UNDER)",
          "THEFT OF IDENTITY",
          "THEFT PLAIN - ATTEMPT",
          "THEFT PLAIN - PETTY ($950 & UNDER)",
          "THEFT-GRAND ($950.01 & OVER)EXCPT,GUNS,FOWL,LIVESTK,PROD",
          "VANDALISM - FELONY ($400 & OVER, ALL CHURCH VANDALISMS)",
          "VANDALISM - MISDEAMEANOR ($399 OR UNDER)",
          "VEHICLE - STOLEN",
          "VIOLATION OF COURT ORDER",
          "Tuesday"
         ],
         "marker": {
          "coloraxis": "coloraxis",
          "colors": [
           1,
           2,
           1,
           4,
           4,
           8,
           4,
           2,
           1,
           1,
           1,
           1,
           2,
           8,
           1,
           4,
           3,
           1,
           2,
           4,
           7,
           1,
           2,
           1,
           3,
           5,
           1,
           2,
           1,
           1,
           1,
           4,
           84,
           1,
           6,
           4,
           3,
           3,
           8,
           1,
           38.896907216494846
          ]
         },
         "name": "",
         "parents": [
          "Tuesday",
          "Tuesday",
          "Tuesday",
          "Tuesday",
          "Tuesday",
          "Tuesday",
          "Tuesday",
          "Tuesday",
          "Tuesday",
          "Tuesday",
          "Tuesday",
          "Tuesday",
          "Tuesday",
          "Tuesday",
          "Tuesday",
          "Tuesday",
          "Tuesday",
          "Tuesday",
          "Tuesday",
          "Tuesday",
          "Tuesday",
          "Tuesday",
          "Tuesday",
          "Tuesday",
          "Tuesday",
          "Tuesday",
          "Tuesday",
          "Tuesday",
          "Tuesday",
          "Tuesday",
          "Tuesday",
          "Tuesday",
          "Tuesday",
          "Tuesday",
          "Tuesday",
          "Tuesday",
          "Tuesday",
          "Tuesday",
          "Tuesday",
          "Tuesday",
          ""
         ],
         "type": "sunburst",
         "values": [
          1,
          2,
          1,
          4,
          4,
          8,
          4,
          2,
          1,
          1,
          1,
          1,
          2,
          8,
          1,
          4,
          3,
          1,
          2,
          4,
          7,
          1,
          2,
          1,
          3,
          5,
          1,
          2,
          1,
          1,
          1,
          4,
          84,
          1,
          6,
          4,
          3,
          3,
          8,
          1,
          194
         ]
        }
       ],
       "layout": {
        "coloraxis": {
         "colorbar": {
          "title": {
           "text": "Crime Count"
          }
         },
         "colorscale": [
          [
           0,
           "#440154"
          ],
          [
           0.1111111111111111,
           "#482878"
          ],
          [
           0.2222222222222222,
           "#3e4989"
          ],
          [
           0.3333333333333333,
           "#31688e"
          ],
          [
           0.4444444444444444,
           "#26828e"
          ],
          [
           0.5555555555555556,
           "#1f9e89"
          ],
          [
           0.6666666666666666,
           "#35b779"
          ],
          [
           0.7777777777777778,
           "#6ece58"
          ],
          [
           0.8888888888888888,
           "#b5de2b"
          ],
          [
           1,
           "#fde725"
          ]
         ]
        },
        "legend": {
         "tracegroupgap": 0
        },
        "margin": {
         "b": 0,
         "l": 0,
         "r": 0,
         "t": 40
        },
        "template": {
         "data": {
          "bar": [
           {
            "error_x": {
             "color": "#2a3f5f"
            },
            "error_y": {
             "color": "#2a3f5f"
            },
            "marker": {
             "line": {
              "color": "#E5ECF6",
              "width": 0.5
             },
             "pattern": {
              "fillmode": "overlay",
              "size": 10,
              "solidity": 0.2
             }
            },
            "type": "bar"
           }
          ],
          "barpolar": [
           {
            "marker": {
             "line": {
              "color": "#E5ECF6",
              "width": 0.5
             },
             "pattern": {
              "fillmode": "overlay",
              "size": 10,
              "solidity": 0.2
             }
            },
            "type": "barpolar"
           }
          ],
          "carpet": [
           {
            "aaxis": {
             "endlinecolor": "#2a3f5f",
             "gridcolor": "white",
             "linecolor": "white",
             "minorgridcolor": "white",
             "startlinecolor": "#2a3f5f"
            },
            "baxis": {
             "endlinecolor": "#2a3f5f",
             "gridcolor": "white",
             "linecolor": "white",
             "minorgridcolor": "white",
             "startlinecolor": "#2a3f5f"
            },
            "type": "carpet"
           }
          ],
          "choropleth": [
           {
            "colorbar": {
             "outlinewidth": 0,
             "ticks": ""
            },
            "type": "choropleth"
           }
          ],
          "contour": [
           {
            "colorbar": {
             "outlinewidth": 0,
             "ticks": ""
            },
            "colorscale": [
             [
              0,
              "#0d0887"
             ],
             [
              0.1111111111111111,
              "#46039f"
             ],
             [
              0.2222222222222222,
              "#7201a8"
             ],
             [
              0.3333333333333333,
              "#9c179e"
             ],
             [
              0.4444444444444444,
              "#bd3786"
             ],
             [
              0.5555555555555556,
              "#d8576b"
             ],
             [
              0.6666666666666666,
              "#ed7953"
             ],
             [
              0.7777777777777778,
              "#fb9f3a"
             ],
             [
              0.8888888888888888,
              "#fdca26"
             ],
             [
              1,
              "#f0f921"
             ]
            ],
            "type": "contour"
           }
          ],
          "contourcarpet": [
           {
            "colorbar": {
             "outlinewidth": 0,
             "ticks": ""
            },
            "type": "contourcarpet"
           }
          ],
          "heatmap": [
           {
            "colorbar": {
             "outlinewidth": 0,
             "ticks": ""
            },
            "colorscale": [
             [
              0,
              "#0d0887"
             ],
             [
              0.1111111111111111,
              "#46039f"
             ],
             [
              0.2222222222222222,
              "#7201a8"
             ],
             [
              0.3333333333333333,
              "#9c179e"
             ],
             [
              0.4444444444444444,
              "#bd3786"
             ],
             [
              0.5555555555555556,
              "#d8576b"
             ],
             [
              0.6666666666666666,
              "#ed7953"
             ],
             [
              0.7777777777777778,
              "#fb9f3a"
             ],
             [
              0.8888888888888888,
              "#fdca26"
             ],
             [
              1,
              "#f0f921"
             ]
            ],
            "type": "heatmap"
           }
          ],
          "heatmapgl": [
           {
            "colorbar": {
             "outlinewidth": 0,
             "ticks": ""
            },
            "colorscale": [
             [
              0,
              "#0d0887"
             ],
             [
              0.1111111111111111,
              "#46039f"
             ],
             [
              0.2222222222222222,
              "#7201a8"
             ],
             [
              0.3333333333333333,
              "#9c179e"
             ],
             [
              0.4444444444444444,
              "#bd3786"
             ],
             [
              0.5555555555555556,
              "#d8576b"
             ],
             [
              0.6666666666666666,
              "#ed7953"
             ],
             [
              0.7777777777777778,
              "#fb9f3a"
             ],
             [
              0.8888888888888888,
              "#fdca26"
             ],
             [
              1,
              "#f0f921"
             ]
            ],
            "type": "heatmapgl"
           }
          ],
          "histogram": [
           {
            "marker": {
             "pattern": {
              "fillmode": "overlay",
              "size": 10,
              "solidity": 0.2
             }
            },
            "type": "histogram"
           }
          ],
          "histogram2d": [
           {
            "colorbar": {
             "outlinewidth": 0,
             "ticks": ""
            },
            "colorscale": [
             [
              0,
              "#0d0887"
             ],
             [
              0.1111111111111111,
              "#46039f"
             ],
             [
              0.2222222222222222,
              "#7201a8"
             ],
             [
              0.3333333333333333,
              "#9c179e"
             ],
             [
              0.4444444444444444,
              "#bd3786"
             ],
             [
              0.5555555555555556,
              "#d8576b"
             ],
             [
              0.6666666666666666,
              "#ed7953"
             ],
             [
              0.7777777777777778,
              "#fb9f3a"
             ],
             [
              0.8888888888888888,
              "#fdca26"
             ],
             [
              1,
              "#f0f921"
             ]
            ],
            "type": "histogram2d"
           }
          ],
          "histogram2dcontour": [
           {
            "colorbar": {
             "outlinewidth": 0,
             "ticks": ""
            },
            "colorscale": [
             [
              0,
              "#0d0887"
             ],
             [
              0.1111111111111111,
              "#46039f"
             ],
             [
              0.2222222222222222,
              "#7201a8"
             ],
             [
              0.3333333333333333,
              "#9c179e"
             ],
             [
              0.4444444444444444,
              "#bd3786"
             ],
             [
              0.5555555555555556,
              "#d8576b"
             ],
             [
              0.6666666666666666,
              "#ed7953"
             ],
             [
              0.7777777777777778,
              "#fb9f3a"
             ],
             [
              0.8888888888888888,
              "#fdca26"
             ],
             [
              1,
              "#f0f921"
             ]
            ],
            "type": "histogram2dcontour"
           }
          ],
          "mesh3d": [
           {
            "colorbar": {
             "outlinewidth": 0,
             "ticks": ""
            },
            "type": "mesh3d"
           }
          ],
          "parcoords": [
           {
            "line": {
             "colorbar": {
              "outlinewidth": 0,
              "ticks": ""
             }
            },
            "type": "parcoords"
           }
          ],
          "pie": [
           {
            "automargin": true,
            "type": "pie"
           }
          ],
          "scatter": [
           {
            "fillpattern": {
             "fillmode": "overlay",
             "size": 10,
             "solidity": 0.2
            },
            "type": "scatter"
           }
          ],
          "scatter3d": [
           {
            "line": {
             "colorbar": {
              "outlinewidth": 0,
              "ticks": ""
             }
            },
            "marker": {
             "colorbar": {
              "outlinewidth": 0,
              "ticks": ""
             }
            },
            "type": "scatter3d"
           }
          ],
          "scattercarpet": [
           {
            "marker": {
             "colorbar": {
              "outlinewidth": 0,
              "ticks": ""
             }
            },
            "type": "scattercarpet"
           }
          ],
          "scattergeo": [
           {
            "marker": {
             "colorbar": {
              "outlinewidth": 0,
              "ticks": ""
             }
            },
            "type": "scattergeo"
           }
          ],
          "scattergl": [
           {
            "marker": {
             "colorbar": {
              "outlinewidth": 0,
              "ticks": ""
             }
            },
            "type": "scattergl"
           }
          ],
          "scattermapbox": [
           {
            "marker": {
             "colorbar": {
              "outlinewidth": 0,
              "ticks": ""
             }
            },
            "type": "scattermapbox"
           }
          ],
          "scatterpolar": [
           {
            "marker": {
             "colorbar": {
              "outlinewidth": 0,
              "ticks": ""
             }
            },
            "type": "scatterpolar"
           }
          ],
          "scatterpolargl": [
           {
            "marker": {
             "colorbar": {
              "outlinewidth": 0,
              "ticks": ""
             }
            },
            "type": "scatterpolargl"
           }
          ],
          "scatterternary": [
           {
            "marker": {
             "colorbar": {
              "outlinewidth": 0,
              "ticks": ""
             }
            },
            "type": "scatterternary"
           }
          ],
          "surface": [
           {
            "colorbar": {
             "outlinewidth": 0,
             "ticks": ""
            },
            "colorscale": [
             [
              0,
              "#0d0887"
             ],
             [
              0.1111111111111111,
              "#46039f"
             ],
             [
              0.2222222222222222,
              "#7201a8"
             ],
             [
              0.3333333333333333,
              "#9c179e"
             ],
             [
              0.4444444444444444,
              "#bd3786"
             ],
             [
              0.5555555555555556,
              "#d8576b"
             ],
             [
              0.6666666666666666,
              "#ed7953"
             ],
             [
              0.7777777777777778,
              "#fb9f3a"
             ],
             [
              0.8888888888888888,
              "#fdca26"
             ],
             [
              1,
              "#f0f921"
             ]
            ],
            "type": "surface"
           }
          ],
          "table": [
           {
            "cells": {
             "fill": {
              "color": "#EBF0F8"
             },
             "line": {
              "color": "white"
             }
            },
            "header": {
             "fill": {
              "color": "#C8D4E3"
             },
             "line": {
              "color": "white"
             }
            },
            "type": "table"
           }
          ]
         },
         "layout": {
          "annotationdefaults": {
           "arrowcolor": "#2a3f5f",
           "arrowhead": 0,
           "arrowwidth": 1
          },
          "autotypenumbers": "strict",
          "coloraxis": {
           "colorbar": {
            "outlinewidth": 0,
            "ticks": ""
           }
          },
          "colorscale": {
           "diverging": [
            [
             0,
             "#8e0152"
            ],
            [
             0.1,
             "#c51b7d"
            ],
            [
             0.2,
             "#de77ae"
            ],
            [
             0.3,
             "#f1b6da"
            ],
            [
             0.4,
             "#fde0ef"
            ],
            [
             0.5,
             "#f7f7f7"
            ],
            [
             0.6,
             "#e6f5d0"
            ],
            [
             0.7,
             "#b8e186"
            ],
            [
             0.8,
             "#7fbc41"
            ],
            [
             0.9,
             "#4d9221"
            ],
            [
             1,
             "#276419"
            ]
           ],
           "sequential": [
            [
             0,
             "#0d0887"
            ],
            [
             0.1111111111111111,
             "#46039f"
            ],
            [
             0.2222222222222222,
             "#7201a8"
            ],
            [
             0.3333333333333333,
             "#9c179e"
            ],
            [
             0.4444444444444444,
             "#bd3786"
            ],
            [
             0.5555555555555556,
             "#d8576b"
            ],
            [
             0.6666666666666666,
             "#ed7953"
            ],
            [
             0.7777777777777778,
             "#fb9f3a"
            ],
            [
             0.8888888888888888,
             "#fdca26"
            ],
            [
             1,
             "#f0f921"
            ]
           ],
           "sequentialminus": [
            [
             0,
             "#0d0887"
            ],
            [
             0.1111111111111111,
             "#46039f"
            ],
            [
             0.2222222222222222,
             "#7201a8"
            ],
            [
             0.3333333333333333,
             "#9c179e"
            ],
            [
             0.4444444444444444,
             "#bd3786"
            ],
            [
             0.5555555555555556,
             "#d8576b"
            ],
            [
             0.6666666666666666,
             "#ed7953"
            ],
            [
             0.7777777777777778,
             "#fb9f3a"
            ],
            [
             0.8888888888888888,
             "#fdca26"
            ],
            [
             1,
             "#f0f921"
            ]
           ]
          },
          "colorway": [
           "#636efa",
           "#EF553B",
           "#00cc96",
           "#ab63fa",
           "#FFA15A",
           "#19d3f3",
           "#FF6692",
           "#B6E880",
           "#FF97FF",
           "#FECB52"
          ],
          "font": {
           "color": "#2a3f5f"
          },
          "geo": {
           "bgcolor": "white",
           "lakecolor": "white",
           "landcolor": "#E5ECF6",
           "showlakes": true,
           "showland": true,
           "subunitcolor": "white"
          },
          "hoverlabel": {
           "align": "left"
          },
          "hovermode": "closest",
          "mapbox": {
           "style": "light"
          },
          "paper_bgcolor": "white",
          "plot_bgcolor": "#E5ECF6",
          "polar": {
           "angularaxis": {
            "gridcolor": "white",
            "linecolor": "white",
            "ticks": ""
           },
           "bgcolor": "#E5ECF6",
           "radialaxis": {
            "gridcolor": "white",
            "linecolor": "white",
            "ticks": ""
           }
          },
          "scene": {
           "xaxis": {
            "backgroundcolor": "#E5ECF6",
            "gridcolor": "white",
            "gridwidth": 2,
            "linecolor": "white",
            "showbackground": true,
            "ticks": "",
            "zerolinecolor": "white"
           },
           "yaxis": {
            "backgroundcolor": "#E5ECF6",
            "gridcolor": "white",
            "gridwidth": 2,
            "linecolor": "white",
            "showbackground": true,
            "ticks": "",
            "zerolinecolor": "white"
           },
           "zaxis": {
            "backgroundcolor": "#E5ECF6",
            "gridcolor": "white",
            "gridwidth": 2,
            "linecolor": "white",
            "showbackground": true,
            "ticks": "",
            "zerolinecolor": "white"
           }
          },
          "shapedefaults": {
           "line": {
            "color": "#2a3f5f"
           }
          },
          "ternary": {
           "aaxis": {
            "gridcolor": "white",
            "linecolor": "white",
            "ticks": ""
           },
           "baxis": {
            "gridcolor": "white",
            "linecolor": "white",
            "ticks": ""
           },
           "bgcolor": "#E5ECF6",
           "caxis": {
            "gridcolor": "white",
            "linecolor": "white",
            "ticks": ""
           }
          },
          "title": {
           "x": 0.05
          },
          "xaxis": {
           "automargin": true,
           "gridcolor": "white",
           "linecolor": "white",
           "ticks": "",
           "title": {
            "standoff": 15
           },
           "zerolinecolor": "white",
           "zerolinewidth": 2
          },
          "yaxis": {
           "automargin": true,
           "gridcolor": "white",
           "linecolor": "white",
           "ticks": "",
           "title": {
            "standoff": 15
           },
           "zerolinecolor": "white",
           "zerolinewidth": 2
          }
         }
        },
        "title": {
         "text": "Crime Frequency on Tuesday (Sunburst)"
        }
       }
      }
     },
     "metadata": {},
     "output_type": "display_data"
    },
    {
     "data": {
      "application/vnd.plotly.v1+json": {
       "config": {
        "plotlyServerURL": "https://plot.ly"
       },
       "data": [
        {
         "branchvalues": "total",
         "customdata": [
          [
           4
          ],
          [
           5
          ],
          [
           1
          ],
          [
           1
          ],
          [
           4
          ],
          [
           4
          ],
          [
           2
          ],
          [
           1
          ],
          [
           1
          ],
          [
           1
          ],
          [
           6
          ],
          [
           2
          ],
          [
           5
          ],
          [
           1
          ],
          [
           1
          ],
          [
           1
          ],
          [
           1
          ],
          [
           8
          ],
          [
           6
          ],
          [
           1
          ],
          [
           4
          ],
          [
           1
          ],
          [
           7
          ],
          [
           2
          ],
          [
           3
          ],
          [
           6
          ],
          [
           1
          ],
          [
           1
          ],
          [
           1
          ],
          [
           2
          ],
          [
           4
          ],
          [
           88
          ],
          [
           4
          ],
          [
           5
          ],
          [
           1
          ],
          [
           1
          ],
          [
           5
          ],
          [
           42.71875
          ]
         ],
         "domain": {
          "x": [
           0,
           1
          ],
          "y": [
           0,
           1
          ]
         },
         "hovertemplate": "labels=%{label}<br>Crime Count_sum=%{value}<br>parent=%{parent}<br>id=%{id}<br>Crime Count=%{color}<extra></extra>",
         "ids": [
          "Wednesday/BATTERY - SIMPLE ASSAULT",
          "Wednesday/BATTERY WITH SEXUAL CONTACT",
          "Wednesday/BIKE - STOLEN",
          "Wednesday/BUNCO, ATTEMPT",
          "Wednesday/BUNCO, GRAND THEFT",
          "Wednesday/BURGLARY",
          "Wednesday/CHILD ABUSE (PHYSICAL) - SIMPLE ASSAULT",
          "Wednesday/CHILD ANNOYING (17YRS & UNDER)",
          "Wednesday/CREDIT CARDS, FRAUD USE ($950.01 & OVER)",
          "Wednesday/CRIMINAL THREATS - NO WEAPON DISPLAYED",
          "Wednesday/CRM AGNST CHLD (13 OR UNDER) (14-15 & SUSP 10 YRS OLDER)",
          "Wednesday/DOCUMENT FORGERY / STOLEN FELONY",
          "Wednesday/EMBEZZLEMENT, GRAND THEFT ($950.01 & OVER)",
          "Wednesday/EMBEZZLEMENT, PETTY THEFT ($950 & UNDER)",
          "Wednesday/EXTORTION",
          "Wednesday/FALSE POLICE REPORT",
          "Wednesday/INTIMATE PARTNER - AGGRAVATED ASSAULT",
          "Wednesday/INTIMATE PARTNER - SIMPLE ASSAULT",
          "Wednesday/LETTERS, LEWD  -  TELEPHONE CALLS, LEWD",
          "Wednesday/LEWD CONDUCT",
          "Wednesday/ORAL COPULATION",
          "Wednesday/PIMPING",
          "Wednesday/RAPE, FORCIBLE",
          "Wednesday/ROBBERY",
          "Wednesday/SEX OFFENDER REGISTRANT OUT OF COMPLIANCE",
          "Wednesday/SEX,UNLAWFUL(INC MUTUAL CONSENT, PENETRATION W/ FRGN OBJ",
          "Wednesday/SEXUAL PENETRATION W/FOREIGN OBJECT",
          "Wednesday/SHOPLIFTING-GRAND THEFT ($950.01 & OVER)",
          "Wednesday/SODOMY/SEXUAL CONTACT B/W PENIS OF ONE PERS TO ANUS OTH",
          "Wednesday/THEFT FROM MOTOR VEHICLE - GRAND ($950.01 AND OVER)",
          "Wednesday/THEFT FROM MOTOR VEHICLE - PETTY ($950 & UNDER)",
          "Wednesday/THEFT OF IDENTITY",
          "Wednesday/THEFT PLAIN - PETTY ($950 & UNDER)",
          "Wednesday/THEFT-GRAND ($950.01 & OVER)EXCPT,GUNS,FOWL,LIVESTK,PROD",
          "Wednesday/UNAUTHORIZED COMPUTER ACCESS",
          "Wednesday/VANDALISM - FELONY ($400 & OVER, ALL CHURCH VANDALISMS)",
          "Wednesday/VEHICLE - STOLEN",
          "Wednesday"
         ],
         "labels": [
          "BATTERY - SIMPLE ASSAULT",
          "BATTERY WITH SEXUAL CONTACT",
          "BIKE - STOLEN",
          "BUNCO, ATTEMPT",
          "BUNCO, GRAND THEFT",
          "BURGLARY",
          "CHILD ABUSE (PHYSICAL) - SIMPLE ASSAULT",
          "CHILD ANNOYING (17YRS & UNDER)",
          "CREDIT CARDS, FRAUD USE ($950.01 & OVER)",
          "CRIMINAL THREATS - NO WEAPON DISPLAYED",
          "CRM AGNST CHLD (13 OR UNDER) (14-15 & SUSP 10 YRS OLDER)",
          "DOCUMENT FORGERY / STOLEN FELONY",
          "EMBEZZLEMENT, GRAND THEFT ($950.01 & OVER)",
          "EMBEZZLEMENT, PETTY THEFT ($950 & UNDER)",
          "EXTORTION",
          "FALSE POLICE REPORT",
          "INTIMATE PARTNER - AGGRAVATED ASSAULT",
          "INTIMATE PARTNER - SIMPLE ASSAULT",
          "LETTERS, LEWD  -  TELEPHONE CALLS, LEWD",
          "LEWD CONDUCT",
          "ORAL COPULATION",
          "PIMPING",
          "RAPE, FORCIBLE",
          "ROBBERY",
          "SEX OFFENDER REGISTRANT OUT OF COMPLIANCE",
          "SEX,UNLAWFUL(INC MUTUAL CONSENT, PENETRATION W/ FRGN OBJ",
          "SEXUAL PENETRATION W/FOREIGN OBJECT",
          "SHOPLIFTING-GRAND THEFT ($950.01 & OVER)",
          "SODOMY/SEXUAL CONTACT B/W PENIS OF ONE PERS TO ANUS OTH",
          "THEFT FROM MOTOR VEHICLE - GRAND ($950.01 AND OVER)",
          "THEFT FROM MOTOR VEHICLE - PETTY ($950 & UNDER)",
          "THEFT OF IDENTITY",
          "THEFT PLAIN - PETTY ($950 & UNDER)",
          "THEFT-GRAND ($950.01 & OVER)EXCPT,GUNS,FOWL,LIVESTK,PROD",
          "UNAUTHORIZED COMPUTER ACCESS",
          "VANDALISM - FELONY ($400 & OVER, ALL CHURCH VANDALISMS)",
          "VEHICLE - STOLEN",
          "Wednesday"
         ],
         "marker": {
          "coloraxis": "coloraxis",
          "colors": [
           4,
           5,
           1,
           1,
           4,
           4,
           2,
           1,
           1,
           1,
           6,
           2,
           5,
           1,
           1,
           1,
           1,
           8,
           6,
           1,
           4,
           1,
           7,
           2,
           3,
           6,
           1,
           1,
           1,
           2,
           4,
           88,
           4,
           5,
           1,
           1,
           5,
           42.71875
          ]
         },
         "name": "",
         "parents": [
          "Wednesday",
          "Wednesday",
          "Wednesday",
          "Wednesday",
          "Wednesday",
          "Wednesday",
          "Wednesday",
          "Wednesday",
          "Wednesday",
          "Wednesday",
          "Wednesday",
          "Wednesday",
          "Wednesday",
          "Wednesday",
          "Wednesday",
          "Wednesday",
          "Wednesday",
          "Wednesday",
          "Wednesday",
          "Wednesday",
          "Wednesday",
          "Wednesday",
          "Wednesday",
          "Wednesday",
          "Wednesday",
          "Wednesday",
          "Wednesday",
          "Wednesday",
          "Wednesday",
          "Wednesday",
          "Wednesday",
          "Wednesday",
          "Wednesday",
          "Wednesday",
          "Wednesday",
          "Wednesday",
          "Wednesday",
          ""
         ],
         "type": "sunburst",
         "values": [
          4,
          5,
          1,
          1,
          4,
          4,
          2,
          1,
          1,
          1,
          6,
          2,
          5,
          1,
          1,
          1,
          1,
          8,
          6,
          1,
          4,
          1,
          7,
          2,
          3,
          6,
          1,
          1,
          1,
          2,
          4,
          88,
          4,
          5,
          1,
          1,
          5,
          192
         ]
        }
       ],
       "layout": {
        "coloraxis": {
         "colorbar": {
          "title": {
           "text": "Crime Count"
          }
         },
         "colorscale": [
          [
           0,
           "#440154"
          ],
          [
           0.1111111111111111,
           "#482878"
          ],
          [
           0.2222222222222222,
           "#3e4989"
          ],
          [
           0.3333333333333333,
           "#31688e"
          ],
          [
           0.4444444444444444,
           "#26828e"
          ],
          [
           0.5555555555555556,
           "#1f9e89"
          ],
          [
           0.6666666666666666,
           "#35b779"
          ],
          [
           0.7777777777777778,
           "#6ece58"
          ],
          [
           0.8888888888888888,
           "#b5de2b"
          ],
          [
           1,
           "#fde725"
          ]
         ]
        },
        "legend": {
         "tracegroupgap": 0
        },
        "margin": {
         "b": 0,
         "l": 0,
         "r": 0,
         "t": 40
        },
        "template": {
         "data": {
          "bar": [
           {
            "error_x": {
             "color": "#2a3f5f"
            },
            "error_y": {
             "color": "#2a3f5f"
            },
            "marker": {
             "line": {
              "color": "#E5ECF6",
              "width": 0.5
             },
             "pattern": {
              "fillmode": "overlay",
              "size": 10,
              "solidity": 0.2
             }
            },
            "type": "bar"
           }
          ],
          "barpolar": [
           {
            "marker": {
             "line": {
              "color": "#E5ECF6",
              "width": 0.5
             },
             "pattern": {
              "fillmode": "overlay",
              "size": 10,
              "solidity": 0.2
             }
            },
            "type": "barpolar"
           }
          ],
          "carpet": [
           {
            "aaxis": {
             "endlinecolor": "#2a3f5f",
             "gridcolor": "white",
             "linecolor": "white",
             "minorgridcolor": "white",
             "startlinecolor": "#2a3f5f"
            },
            "baxis": {
             "endlinecolor": "#2a3f5f",
             "gridcolor": "white",
             "linecolor": "white",
             "minorgridcolor": "white",
             "startlinecolor": "#2a3f5f"
            },
            "type": "carpet"
           }
          ],
          "choropleth": [
           {
            "colorbar": {
             "outlinewidth": 0,
             "ticks": ""
            },
            "type": "choropleth"
           }
          ],
          "contour": [
           {
            "colorbar": {
             "outlinewidth": 0,
             "ticks": ""
            },
            "colorscale": [
             [
              0,
              "#0d0887"
             ],
             [
              0.1111111111111111,
              "#46039f"
             ],
             [
              0.2222222222222222,
              "#7201a8"
             ],
             [
              0.3333333333333333,
              "#9c179e"
             ],
             [
              0.4444444444444444,
              "#bd3786"
             ],
             [
              0.5555555555555556,
              "#d8576b"
             ],
             [
              0.6666666666666666,
              "#ed7953"
             ],
             [
              0.7777777777777778,
              "#fb9f3a"
             ],
             [
              0.8888888888888888,
              "#fdca26"
             ],
             [
              1,
              "#f0f921"
             ]
            ],
            "type": "contour"
           }
          ],
          "contourcarpet": [
           {
            "colorbar": {
             "outlinewidth": 0,
             "ticks": ""
            },
            "type": "contourcarpet"
           }
          ],
          "heatmap": [
           {
            "colorbar": {
             "outlinewidth": 0,
             "ticks": ""
            },
            "colorscale": [
             [
              0,
              "#0d0887"
             ],
             [
              0.1111111111111111,
              "#46039f"
             ],
             [
              0.2222222222222222,
              "#7201a8"
             ],
             [
              0.3333333333333333,
              "#9c179e"
             ],
             [
              0.4444444444444444,
              "#bd3786"
             ],
             [
              0.5555555555555556,
              "#d8576b"
             ],
             [
              0.6666666666666666,
              "#ed7953"
             ],
             [
              0.7777777777777778,
              "#fb9f3a"
             ],
             [
              0.8888888888888888,
              "#fdca26"
             ],
             [
              1,
              "#f0f921"
             ]
            ],
            "type": "heatmap"
           }
          ],
          "heatmapgl": [
           {
            "colorbar": {
             "outlinewidth": 0,
             "ticks": ""
            },
            "colorscale": [
             [
              0,
              "#0d0887"
             ],
             [
              0.1111111111111111,
              "#46039f"
             ],
             [
              0.2222222222222222,
              "#7201a8"
             ],
             [
              0.3333333333333333,
              "#9c179e"
             ],
             [
              0.4444444444444444,
              "#bd3786"
             ],
             [
              0.5555555555555556,
              "#d8576b"
             ],
             [
              0.6666666666666666,
              "#ed7953"
             ],
             [
              0.7777777777777778,
              "#fb9f3a"
             ],
             [
              0.8888888888888888,
              "#fdca26"
             ],
             [
              1,
              "#f0f921"
             ]
            ],
            "type": "heatmapgl"
           }
          ],
          "histogram": [
           {
            "marker": {
             "pattern": {
              "fillmode": "overlay",
              "size": 10,
              "solidity": 0.2
             }
            },
            "type": "histogram"
           }
          ],
          "histogram2d": [
           {
            "colorbar": {
             "outlinewidth": 0,
             "ticks": ""
            },
            "colorscale": [
             [
              0,
              "#0d0887"
             ],
             [
              0.1111111111111111,
              "#46039f"
             ],
             [
              0.2222222222222222,
              "#7201a8"
             ],
             [
              0.3333333333333333,
              "#9c179e"
             ],
             [
              0.4444444444444444,
              "#bd3786"
             ],
             [
              0.5555555555555556,
              "#d8576b"
             ],
             [
              0.6666666666666666,
              "#ed7953"
             ],
             [
              0.7777777777777778,
              "#fb9f3a"
             ],
             [
              0.8888888888888888,
              "#fdca26"
             ],
             [
              1,
              "#f0f921"
             ]
            ],
            "type": "histogram2d"
           }
          ],
          "histogram2dcontour": [
           {
            "colorbar": {
             "outlinewidth": 0,
             "ticks": ""
            },
            "colorscale": [
             [
              0,
              "#0d0887"
             ],
             [
              0.1111111111111111,
              "#46039f"
             ],
             [
              0.2222222222222222,
              "#7201a8"
             ],
             [
              0.3333333333333333,
              "#9c179e"
             ],
             [
              0.4444444444444444,
              "#bd3786"
             ],
             [
              0.5555555555555556,
              "#d8576b"
             ],
             [
              0.6666666666666666,
              "#ed7953"
             ],
             [
              0.7777777777777778,
              "#fb9f3a"
             ],
             [
              0.8888888888888888,
              "#fdca26"
             ],
             [
              1,
              "#f0f921"
             ]
            ],
            "type": "histogram2dcontour"
           }
          ],
          "mesh3d": [
           {
            "colorbar": {
             "outlinewidth": 0,
             "ticks": ""
            },
            "type": "mesh3d"
           }
          ],
          "parcoords": [
           {
            "line": {
             "colorbar": {
              "outlinewidth": 0,
              "ticks": ""
             }
            },
            "type": "parcoords"
           }
          ],
          "pie": [
           {
            "automargin": true,
            "type": "pie"
           }
          ],
          "scatter": [
           {
            "fillpattern": {
             "fillmode": "overlay",
             "size": 10,
             "solidity": 0.2
            },
            "type": "scatter"
           }
          ],
          "scatter3d": [
           {
            "line": {
             "colorbar": {
              "outlinewidth": 0,
              "ticks": ""
             }
            },
            "marker": {
             "colorbar": {
              "outlinewidth": 0,
              "ticks": ""
             }
            },
            "type": "scatter3d"
           }
          ],
          "scattercarpet": [
           {
            "marker": {
             "colorbar": {
              "outlinewidth": 0,
              "ticks": ""
             }
            },
            "type": "scattercarpet"
           }
          ],
          "scattergeo": [
           {
            "marker": {
             "colorbar": {
              "outlinewidth": 0,
              "ticks": ""
             }
            },
            "type": "scattergeo"
           }
          ],
          "scattergl": [
           {
            "marker": {
             "colorbar": {
              "outlinewidth": 0,
              "ticks": ""
             }
            },
            "type": "scattergl"
           }
          ],
          "scattermapbox": [
           {
            "marker": {
             "colorbar": {
              "outlinewidth": 0,
              "ticks": ""
             }
            },
            "type": "scattermapbox"
           }
          ],
          "scatterpolar": [
           {
            "marker": {
             "colorbar": {
              "outlinewidth": 0,
              "ticks": ""
             }
            },
            "type": "scatterpolar"
           }
          ],
          "scatterpolargl": [
           {
            "marker": {
             "colorbar": {
              "outlinewidth": 0,
              "ticks": ""
             }
            },
            "type": "scatterpolargl"
           }
          ],
          "scatterternary": [
           {
            "marker": {
             "colorbar": {
              "outlinewidth": 0,
              "ticks": ""
             }
            },
            "type": "scatterternary"
           }
          ],
          "surface": [
           {
            "colorbar": {
             "outlinewidth": 0,
             "ticks": ""
            },
            "colorscale": [
             [
              0,
              "#0d0887"
             ],
             [
              0.1111111111111111,
              "#46039f"
             ],
             [
              0.2222222222222222,
              "#7201a8"
             ],
             [
              0.3333333333333333,
              "#9c179e"
             ],
             [
              0.4444444444444444,
              "#bd3786"
             ],
             [
              0.5555555555555556,
              "#d8576b"
             ],
             [
              0.6666666666666666,
              "#ed7953"
             ],
             [
              0.7777777777777778,
              "#fb9f3a"
             ],
             [
              0.8888888888888888,
              "#fdca26"
             ],
             [
              1,
              "#f0f921"
             ]
            ],
            "type": "surface"
           }
          ],
          "table": [
           {
            "cells": {
             "fill": {
              "color": "#EBF0F8"
             },
             "line": {
              "color": "white"
             }
            },
            "header": {
             "fill": {
              "color": "#C8D4E3"
             },
             "line": {
              "color": "white"
             }
            },
            "type": "table"
           }
          ]
         },
         "layout": {
          "annotationdefaults": {
           "arrowcolor": "#2a3f5f",
           "arrowhead": 0,
           "arrowwidth": 1
          },
          "autotypenumbers": "strict",
          "coloraxis": {
           "colorbar": {
            "outlinewidth": 0,
            "ticks": ""
           }
          },
          "colorscale": {
           "diverging": [
            [
             0,
             "#8e0152"
            ],
            [
             0.1,
             "#c51b7d"
            ],
            [
             0.2,
             "#de77ae"
            ],
            [
             0.3,
             "#f1b6da"
            ],
            [
             0.4,
             "#fde0ef"
            ],
            [
             0.5,
             "#f7f7f7"
            ],
            [
             0.6,
             "#e6f5d0"
            ],
            [
             0.7,
             "#b8e186"
            ],
            [
             0.8,
             "#7fbc41"
            ],
            [
             0.9,
             "#4d9221"
            ],
            [
             1,
             "#276419"
            ]
           ],
           "sequential": [
            [
             0,
             "#0d0887"
            ],
            [
             0.1111111111111111,
             "#46039f"
            ],
            [
             0.2222222222222222,
             "#7201a8"
            ],
            [
             0.3333333333333333,
             "#9c179e"
            ],
            [
             0.4444444444444444,
             "#bd3786"
            ],
            [
             0.5555555555555556,
             "#d8576b"
            ],
            [
             0.6666666666666666,
             "#ed7953"
            ],
            [
             0.7777777777777778,
             "#fb9f3a"
            ],
            [
             0.8888888888888888,
             "#fdca26"
            ],
            [
             1,
             "#f0f921"
            ]
           ],
           "sequentialminus": [
            [
             0,
             "#0d0887"
            ],
            [
             0.1111111111111111,
             "#46039f"
            ],
            [
             0.2222222222222222,
             "#7201a8"
            ],
            [
             0.3333333333333333,
             "#9c179e"
            ],
            [
             0.4444444444444444,
             "#bd3786"
            ],
            [
             0.5555555555555556,
             "#d8576b"
            ],
            [
             0.6666666666666666,
             "#ed7953"
            ],
            [
             0.7777777777777778,
             "#fb9f3a"
            ],
            [
             0.8888888888888888,
             "#fdca26"
            ],
            [
             1,
             "#f0f921"
            ]
           ]
          },
          "colorway": [
           "#636efa",
           "#EF553B",
           "#00cc96",
           "#ab63fa",
           "#FFA15A",
           "#19d3f3",
           "#FF6692",
           "#B6E880",
           "#FF97FF",
           "#FECB52"
          ],
          "font": {
           "color": "#2a3f5f"
          },
          "geo": {
           "bgcolor": "white",
           "lakecolor": "white",
           "landcolor": "#E5ECF6",
           "showlakes": true,
           "showland": true,
           "subunitcolor": "white"
          },
          "hoverlabel": {
           "align": "left"
          },
          "hovermode": "closest",
          "mapbox": {
           "style": "light"
          },
          "paper_bgcolor": "white",
          "plot_bgcolor": "#E5ECF6",
          "polar": {
           "angularaxis": {
            "gridcolor": "white",
            "linecolor": "white",
            "ticks": ""
           },
           "bgcolor": "#E5ECF6",
           "radialaxis": {
            "gridcolor": "white",
            "linecolor": "white",
            "ticks": ""
           }
          },
          "scene": {
           "xaxis": {
            "backgroundcolor": "#E5ECF6",
            "gridcolor": "white",
            "gridwidth": 2,
            "linecolor": "white",
            "showbackground": true,
            "ticks": "",
            "zerolinecolor": "white"
           },
           "yaxis": {
            "backgroundcolor": "#E5ECF6",
            "gridcolor": "white",
            "gridwidth": 2,
            "linecolor": "white",
            "showbackground": true,
            "ticks": "",
            "zerolinecolor": "white"
           },
           "zaxis": {
            "backgroundcolor": "#E5ECF6",
            "gridcolor": "white",
            "gridwidth": 2,
            "linecolor": "white",
            "showbackground": true,
            "ticks": "",
            "zerolinecolor": "white"
           }
          },
          "shapedefaults": {
           "line": {
            "color": "#2a3f5f"
           }
          },
          "ternary": {
           "aaxis": {
            "gridcolor": "white",
            "linecolor": "white",
            "ticks": ""
           },
           "baxis": {
            "gridcolor": "white",
            "linecolor": "white",
            "ticks": ""
           },
           "bgcolor": "#E5ECF6",
           "caxis": {
            "gridcolor": "white",
            "linecolor": "white",
            "ticks": ""
           }
          },
          "title": {
           "x": 0.05
          },
          "xaxis": {
           "automargin": true,
           "gridcolor": "white",
           "linecolor": "white",
           "ticks": "",
           "title": {
            "standoff": 15
           },
           "zerolinecolor": "white",
           "zerolinewidth": 2
          },
          "yaxis": {
           "automargin": true,
           "gridcolor": "white",
           "linecolor": "white",
           "ticks": "",
           "title": {
            "standoff": 15
           },
           "zerolinecolor": "white",
           "zerolinewidth": 2
          }
         }
        },
        "title": {
         "text": "Crime Frequency on Wednesday (Sunburst)"
        }
       }
      }
     },
     "metadata": {},
     "output_type": "display_data"
    }
   ],
   "source": [
    "import plotly.express as px\n",
    "\n",
    "# Aggregate data\n",
    "sunburst_data = crime_data_cleaned.groupby(['Day of the Week', 'Crm Cd Desc']).size().reset_index(name='Crime Count')\n",
    "\n",
    "# Get unique days of the week\n",
    "days_of_week = sunburst_data['Day of the Week'].unique()\n",
    "\n",
    "# Generate a sunburst chart for each day\n",
    "for day in days_of_week:\n",
    "    day_data = sunburst_data[sunburst_data['Day of the Week'] == day]\n",
    "    fig = px.sunburst(\n",
    "        day_data,\n",
    "        path=['Day of the Week', 'Crm Cd Desc'],\n",
    "        values='Crime Count',\n",
    "        title=f'Crime Frequency on {day} (Sunburst)',\n",
    "        color='Crime Count',\n",
    "        color_continuous_scale='Viridis'\n",
    "    )\n",
    "    fig.update_layout(margin=dict(t=40, l=0, r=0, b=0))\n",
    "    fig.show()\n",
    "\n"
   ]
  },
  {
   "cell_type": "markdown",
   "metadata": {},
   "source": [
    "### Crime Types Involving Weapons and Arrests: Insights from the Chart\n",
    "\n",
    "This bar chart visually represents the top 10 crime types, along with additional details about the involvement of weapons and arrests. Here's how to interpret the chart and the insights it offers:\n",
    "\n",
    "---\n",
    "\n",
    "#### **Key Insights**\n",
    "1. **Dominant Crime Types**:\n",
    "   - **Theft of Identity** is overwhelmingly the most frequent crime type, with over 500 reported cases, yet it involves neither weapons nor arrests, suggesting its non-violent nature.\n",
    "\n",
    "2. **Crimes with Weapon Involvement**:\n",
    "   - Violent crimes such as **Rape (Forcible)** and **Intimate Partner - Simple Assault** have notable weapon involvement, highlighting potential risks and danger.\n",
    "\n",
    "3. **Arrests and Enforcement**:\n",
    "   - Some crimes, like **Vehicle Theft**, result in a higher number of arrests, reflecting law enforcement's focused efforts.\n",
    "   - Other crimes, such as **Burglary**, have low arrest numbers, which might indicate challenges in apprehension or investigation.\n",
    "\n",
    "4. **Policy Implications**:\n",
    "   - High-frequency but low-arrest crimes like **Theft of Identity** may require stronger preventative measures or policy changes.\n",
    "   - High-arrest crimes might suggest areas of effective law enforcement that could be replicated for other crime types.\n",
    "\n",
    "---\n",
    "\n",
    "This chart offers a multi-faceted view of crime, helping both policymakers and law enforcement to prioritize resources and strategies."
   ]
  },
  {
   "cell_type": "code",
   "execution_count": 147,
   "metadata": {},
   "outputs": [
    {
     "name": "stderr",
     "output_type": "stream",
     "text": [
      "C:\\Users\\srika\\AppData\\Local\\Temp\\ipykernel_23288\\2513191099.py:62: MatplotlibDeprecationWarning:\n",
      "\n",
      "Unable to determine Axes to steal space for Colorbar. Using gca(), but will raise in the future. Either provide the *cax* argument to use as the Axes for the Colorbar, provide the *ax* argument to steal space from it, or add *mappable* to an Axes.\n",
      "\n"
     ]
    },
    {
     "data": {
      "image/png": "[encoded data removed]",
      "text/plain": [
       "<Figure size 1400x800 with 2 Axes>"
      ]
     },
     "metadata": {},
     "output_type": "display_data"
    }
   ],
   "source": [
    "import matplotlib.pyplot as plt\n",
    "import matplotlib.cm as cm\n",
    "import pandas as pd\n",
    "import numpy as np\n",
    "\n",
    "# Assuming `crime_data_cleaned` is your DataFrame\n",
    "\n",
    "# Create derived columns\n",
    "crime_data_cleaned['Weapon Involved'] = crime_data_cleaned['Weapon Desc'].notna() & (crime_data_cleaned['Weapon Desc'].str.lower() != \"none\")\n",
    "crime_data_cleaned['Arrest Made'] = crime_data_cleaned['Status Desc'].str.contains(\"Adult Arrest|Juv Arrest\", na=False)\n",
    "\n",
    "# Aggregating the data\n",
    "weapon_arrest_data = crime_data_cleaned.groupby('Crm Cd Desc').agg(\n",
    "    Total_Crimes=('Crm Cd Desc', 'count'),\n",
    "    Weapon_Involved=('Weapon Involved', 'sum'),\n",
    "    Arrest_Made=('Arrest Made', 'sum')\n",
    ").sort_values('Total_Crimes', ascending=False).head(10)  # Top 10 crime types\n",
    "\n",
    "# Plotting\n",
    "x = weapon_arrest_data.index\n",
    "total_crimes = weapon_arrest_data['Total_Crimes']\n",
    "weapon_related = weapon_arrest_data['Weapon_Involved']\n",
    "arrest_related = weapon_arrest_data['Arrest_Made']\n",
    "\n",
    "# Normalize values for the Viridis colormap\n",
    "norm = plt.Normalize(vmin=min(total_crimes), vmax=max(total_crimes))\n",
    "viridis_colors = cm.viridis(norm(total_crimes))\n",
    "\n",
    "# Create the bar chart\n",
    "plt.figure(figsize=(14, 8))\n",
    "bar_width = 0.3\n",
    "x_positions = range(len(x))\n",
    "\n",
    "# Plot total crimes, weapon-related crimes, and arrests with Viridis colors\n",
    "total_bars = plt.bar(x_positions, total_crimes, width=bar_width, label='Total Crimes', color=viridis_colors)\n",
    "weapon_bars = plt.bar([p + bar_width for p in x_positions], weapon_related, width=bar_width, label='Weapon Involved', color='orange')\n",
    "arrest_bars = plt.bar([p + 2 * bar_width for p in x_positions], arrest_related, width=bar_width, label='Arrest Made', color='blue')\n",
    "\n",
    "# Add data labels\n",
    "for bar in total_bars:\n",
    "    plt.text(bar.get_x() + bar.get_width() / 2, bar.get_height() + 1, str(int(bar.get_height())),\n",
    "             ha='center', va='bottom', fontsize=9)\n",
    "\n",
    "for bar in weapon_bars:\n",
    "    plt.text(bar.get_x() + bar.get_width() / 2, bar.get_height() + 1, str(int(bar.get_height())),\n",
    "             ha='center', va='bottom', fontsize=9)\n",
    "\n",
    "for bar in arrest_bars:\n",
    "    plt.text(bar.get_x() + bar.get_width() / 2, bar.get_height() + 1, str(int(bar.get_height())),\n",
    "             ha='center', va='bottom', fontsize=9)\n",
    "\n",
    "# Add labels and legend\n",
    "plt.xlabel('Crime Type', fontsize=12)\n",
    "plt.ylabel('Count', fontsize=12)\n",
    "plt.title('Crime Types Involving Weapons and Leading to Arrests', fontsize=14)\n",
    "plt.xticks([p + bar_width for p in x_positions], x, rotation=45, ha='right', fontsize=10)\n",
    "plt.legend(fontsize=10)\n",
    "\n",
    "# Add a colorbar for the Viridis scale\n",
    "sm = cm.ScalarMappable(cmap='viridis', norm=norm)\n",
    "sm.set_array([])\n",
    "cbar = plt.colorbar(sm)\n",
    "cbar.set_label('Total Crimes (Color Intensity)', rotation=270, labelpad=15)\n",
    "\n",
    "plt.tight_layout()\n",
    "plt.show()\n"
   ]
  },
  {
   "cell_type": "markdown",
   "metadata": {},
   "source": [
    "### Treemap of Weapon-Related Crimes and Arrests: Insights\n",
    "\n",
    "This **treemap visualization** provides an overview of crimes involving weapons, highlighting their frequency and the corresponding number of arrests. Here's how to interpret it and the insights it offers:\n",
    "\n",
    "---\n",
    "\n",
    "#### **Structure of the Treemap**\n",
    "1. **Block Size**:\n",
    "   - Each block represents a specific type of crime. The size of the block is proportional to the number of crimes involving weapons.\n",
    "\n",
    "2. **Color Gradient**:\n",
    "   - The intensity of the color represents the number of arrests made for each crime type.\n",
    "   - **Darker blocks** indicate crime types with a higher number of arrests.\n",
    "\n",
    "3. **Hover Data**:\n",
    "   - When you hover over a block, additional details are displayed:\n",
    "     - Total number of crimes.\n",
    "     - Number of crimes involving weapons.\n",
    "     - Number of arrests.\n",
    "\n",
    "---\n",
    "\n",
    "#### **Key Insights**\n",
    "1. **Dominant Weapon-Related Crimes**:\n",
    "   - The largest blocks indicate the most prevalent weapon-related crimes.\n",
    "   - Crimes like **Rape** or **Aggravated Assault** might show high weapon involvement due to their violent nature.\n",
    "\n",
    "2. **Arrests and Law Enforcement Effectiveness**:\n",
    "   - Blocks with high arrest numbers (darker colors) suggest areas where law enforcement has been successful in addressing these crimes.\n",
    "   - Conversely, lighter blocks highlight crime types where arrests are less frequent, suggesting potential challenges in enforcement or investigation.\n",
    "\n",
    "3. **Policy and Resource Implications**:\n",
    "   - High weapon-related crimes with low arrests may indicate a need for focused intervention.\n",
    "   - Crimes with smaller blocks but dark colors show areas where targeted efforts are yielding results, which could be expanded to other crime types.\n",
    "\n",
    "---\n",
    "\n",
    "This treemap not only emphasizes the role of weapons in crimes but also provides a clear linkage to enforcement outcomes, guiding strategic decision-making."
   ]
  },
  {
   "cell_type": "code",
   "execution_count": 148,
   "metadata": {},
   "outputs": [
    {
     "data": {
      "application/vnd.plotly.v1+json": {
       "config": {
        "plotlyServerURL": "https://plot.ly"
       },
       "data": [
        {
         "branchvalues": "total",
         "customdata": [
          [
           5,
           5,
           2
          ],
          [
           1,
           1,
           0
          ],
          [
           17,
           17,
           0
          ],
          [
           11,
           11,
           2
          ],
          [
           2,
           2,
           0
          ],
          [
           2,
           2,
           0
          ],
          [
           2,
           2,
           0
          ],
          [
           1,
           1,
           0
          ],
          [
           11,
           11,
           2
          ],
          [
           2,
           2,
           0
          ],
          [
           1,
           1,
           1
          ],
          [
           10,
           10,
           0
          ],
          [
           32,
           32,
           4
          ],
          [
           1,
           1,
           0
          ],
          [
           12,
           12,
           2
          ],
          [
           28,
           28,
           2
          ],
          [
           4,
           4,
           0
          ],
          [
           1,
           1,
           1
          ],
          [
           9,
           9,
           2
          ],
          [
           1,
           1,
           0
          ],
          [
           2,
           2,
           0
          ],
          [
           29,
           29,
           1
          ],
          [
           3,
           3,
           0
          ],
          [
           6,
           6,
           1
          ],
          [
           12,
           12,
           2
          ],
          [
           3,
           3,
           0
          ],
          [
           1,
           1,
           0
          ],
          [
           1,
           1,
           0
          ]
         ],
         "domain": {
          "x": [
           0,
           1
          ],
          "y": [
           0,
           1
          ]
         },
         "hovertemplate": "labels=%{label}<br>Weapon-Related Crimes=%{customdata[1]}<br>parent=%{parent}<br>id=%{id}<br>Total Crimes=%{customdata[0]}<br>Total Arrests=%{color}<extra></extra>",
         "ids": [
          "ASSAULT WITH DEADLY WEAPON, AGGRAVATED ASSAULT",
          "ATTEMPTED ROBBERY",
          "BATTERY - SIMPLE ASSAULT",
          "BATTERY WITH SEXUAL CONTACT",
          "BRANDISH WEAPON",
          "BURGLARY",
          "BURGLARY FROM VEHICLE",
          "CHILD ABUSE (PHYSICAL) - AGGRAVATED ASSAULT",
          "CHILD ABUSE (PHYSICAL) - SIMPLE ASSAULT",
          "CHILD ANNOYING (17YRS & UNDER)",
          "CONTEMPT OF COURT",
          "CRIMINAL THREATS - NO WEAPON DISPLAYED",
          "CRM AGNST CHLD (13 OR UNDER) (14-15 & SUSP 10 YRS OLDER)",
          "HUMAN TRAFFICKING - INVOLUNTARY SERVITUDE",
          "INTIMATE PARTNER - AGGRAVATED ASSAULT",
          "INTIMATE PARTNER - SIMPLE ASSAULT",
          "LETTERS, LEWD  -  TELEPHONE CALLS, LEWD",
          "LEWD/LASCIVIOUS ACTS WITH CHILD",
          "ORAL COPULATION",
          "OTHER ASSAULT",
          "OTHER MISCELLANEOUS CRIME",
          "RAPE, FORCIBLE",
          "ROBBERY",
          "SEX,UNLAWFUL(INC MUTUAL CONSENT, PENETRATION W/ FRGN OBJ",
          "SEXUAL PENETRATION W/FOREIGN OBJECT",
          "SODOMY/SEXUAL CONTACT B/W PENIS OF ONE PERS TO ANUS OTH",
          "THREATENING PHONE CALLS/LETTERS",
          "VANDALISM - MISDEAMEANOR ($399 OR UNDER)"
         ],
         "labels": [
          "ASSAULT WITH DEADLY WEAPON, AGGRAVATED ASSAULT",
          "ATTEMPTED ROBBERY",
          "BATTERY - SIMPLE ASSAULT",
          "BATTERY WITH SEXUAL CONTACT",
          "BRANDISH WEAPON",
          "BURGLARY",
          "BURGLARY FROM VEHICLE",
          "CHILD ABUSE (PHYSICAL) - AGGRAVATED ASSAULT",
          "CHILD ABUSE (PHYSICAL) - SIMPLE ASSAULT",
          "CHILD ANNOYING (17YRS & UNDER)",
          "CONTEMPT OF COURT",
          "CRIMINAL THREATS - NO WEAPON DISPLAYED",
          "CRM AGNST CHLD (13 OR UNDER) (14-15 & SUSP 10 YRS OLDER)",
          "HUMAN TRAFFICKING - INVOLUNTARY SERVITUDE",
          "INTIMATE PARTNER - AGGRAVATED ASSAULT",
          "INTIMATE PARTNER - SIMPLE ASSAULT",
          "LETTERS, LEWD  -  TELEPHONE CALLS, LEWD",
          "LEWD/LASCIVIOUS ACTS WITH CHILD",
          "ORAL COPULATION",
          "OTHER ASSAULT",
          "OTHER MISCELLANEOUS CRIME",
          "RAPE, FORCIBLE",
          "ROBBERY",
          "SEX,UNLAWFUL(INC MUTUAL CONSENT, PENETRATION W/ FRGN OBJ",
          "SEXUAL PENETRATION W/FOREIGN OBJECT",
          "SODOMY/SEXUAL CONTACT B/W PENIS OF ONE PERS TO ANUS OTH",
          "THREATENING PHONE CALLS/LETTERS",
          "VANDALISM - MISDEAMEANOR ($399 OR UNDER)"
         ],
         "marker": {
          "coloraxis": "coloraxis",
          "colors": [
           2,
           0,
           0,
           2,
           0,
           0,
           0,
           0,
           2,
           0,
           1,
           0,
           4,
           0,
           2,
           2,
           0,
           1,
           2,
           0,
           0,
           1,
           0,
           1,
           2,
           0,
           0,
           0
          ]
         },
         "name": "",
         "parents": [
          "",
          "",
          "",
          "",
          "",
          "",
          "",
          "",
          "",
          "",
          "",
          "",
          "",
          "",
          "",
          "",
          "",
          "",
          "",
          "",
          "",
          "",
          "",
          "",
          "",
          "",
          "",
          ""
         ],
         "type": "treemap",
         "values": [
          5,
          1,
          17,
          11,
          2,
          2,
          2,
          1,
          11,
          2,
          1,
          10,
          32,
          1,
          12,
          28,
          4,
          1,
          9,
          1,
          2,
          29,
          3,
          6,
          12,
          3,
          1,
          1
         ]
        }
       ],
       "layout": {
        "coloraxis": {
         "colorbar": {
          "title": {
           "text": "Total Arrests"
          }
         },
         "colorscale": [
          [
           0,
           "#440154"
          ],
          [
           0.1111111111111111,
           "#482878"
          ],
          [
           0.2222222222222222,
           "#3e4989"
          ],
          [
           0.3333333333333333,
           "#31688e"
          ],
          [
           0.4444444444444444,
           "#26828e"
          ],
          [
           0.5555555555555556,
           "#1f9e89"
          ],
          [
           0.6666666666666666,
           "#35b779"
          ],
          [
           0.7777777777777778,
           "#6ece58"
          ],
          [
           0.8888888888888888,
           "#b5de2b"
          ],
          [
           1,
           "#fde725"
          ]
         ]
        },
        "legend": {
         "tracegroupgap": 0
        },
        "margin": {
         "b": 25,
         "l": 25,
         "r": 25,
         "t": 50
        },
        "template": {
         "data": {
          "bar": [
           {
            "error_x": {
             "color": "#2a3f5f"
            },
            "error_y": {
             "color": "#2a3f5f"
            },
            "marker": {
             "line": {
              "color": "white",
              "width": 0.5
             },
             "pattern": {
              "fillmode": "overlay",
              "size": 10,
              "solidity": 0.2
             }
            },
            "type": "bar"
           }
          ],
          "barpolar": [
           {
            "marker": {
             "line": {
              "color": "white",
              "width": 0.5
             },
             "pattern": {
              "fillmode": "overlay",
              "size": 10,
              "solidity": 0.2
             }
            },
            "type": "barpolar"
           }
          ],
          "carpet": [
           {
            "aaxis": {
             "endlinecolor": "#2a3f5f",
             "gridcolor": "#C8D4E3",
             "linecolor": "#C8D4E3",
             "minorgridcolor": "#C8D4E3",
             "startlinecolor": "#2a3f5f"
            },
            "baxis": {
             "endlinecolor": "#2a3f5f",
             "gridcolor": "#C8D4E3",
             "linecolor": "#C8D4E3",
             "minorgridcolor": "#C8D4E3",
             "startlinecolor": "#2a3f5f"
            },
            "type": "carpet"
           }
          ],
          "choropleth": [
           {
            "colorbar": {
             "outlinewidth": 0,
             "ticks": ""
            },
            "type": "choropleth"
           }
          ],
          "contour": [
           {
            "colorbar": {
             "outlinewidth": 0,
             "ticks": ""
            },
            "colorscale": [
             [
              0,
              "#0d0887"
             ],
             [
              0.1111111111111111,
              "#46039f"
             ],
             [
              0.2222222222222222,
              "#7201a8"
             ],
             [
              0.3333333333333333,
              "#9c179e"
             ],
             [
              0.4444444444444444,
              "#bd3786"
             ],
             [
              0.5555555555555556,
              "#d8576b"
             ],
             [
              0.6666666666666666,
              "#ed7953"
             ],
             [
              0.7777777777777778,
              "#fb9f3a"
             ],
             [
              0.8888888888888888,
              "#fdca26"
             ],
             [
              1,
              "#f0f921"
             ]
            ],
            "type": "contour"
           }
          ],
          "contourcarpet": [
           {
            "colorbar": {
             "outlinewidth": 0,
             "ticks": ""
            },
            "type": "contourcarpet"
           }
          ],
          "heatmap": [
           {
            "colorbar": {
             "outlinewidth": 0,
             "ticks": ""
            },
            "colorscale": [
             [
              0,
              "#0d0887"
             ],
             [
              0.1111111111111111,
              "#46039f"
             ],
             [
              0.2222222222222222,
              "#7201a8"
             ],
             [
              0.3333333333333333,
              "#9c179e"
             ],
             [
              0.4444444444444444,
              "#bd3786"
             ],
             [
              0.5555555555555556,
              "#d8576b"
             ],
             [
              0.6666666666666666,
              "#ed7953"
             ],
             [
              0.7777777777777778,
              "#fb9f3a"
             ],
             [
              0.8888888888888888,
              "#fdca26"
             ],
             [
              1,
              "#f0f921"
             ]
            ],
            "type": "heatmap"
           }
          ],
          "heatmapgl": [
           {
            "colorbar": {
             "outlinewidth": 0,
             "ticks": ""
            },
            "colorscale": [
             [
              0,
              "#0d0887"
             ],
             [
              0.1111111111111111,
              "#46039f"
             ],
             [
              0.2222222222222222,
              "#7201a8"
             ],
             [
              0.3333333333333333,
              "#9c179e"
             ],
             [
              0.4444444444444444,
              "#bd3786"
             ],
             [
              0.5555555555555556,
              "#d8576b"
             ],
             [
              0.6666666666666666,
              "#ed7953"
             ],
             [
              0.7777777777777778,
              "#fb9f3a"
             ],
             [
              0.8888888888888888,
              "#fdca26"
             ],
             [
              1,
              "#f0f921"
             ]
            ],
            "type": "heatmapgl"
           }
          ],
          "histogram": [
           {
            "marker": {
             "pattern": {
              "fillmode": "overlay",
              "size": 10,
              "solidity": 0.2
             }
            },
            "type": "histogram"
           }
          ],
          "histogram2d": [
           {
            "colorbar": {
             "outlinewidth": 0,
             "ticks": ""
            },
            "colorscale": [
             [
              0,
              "#0d0887"
             ],
             [
              0.1111111111111111,
              "#46039f"
             ],
             [
              0.2222222222222222,
              "#7201a8"
             ],
             [
              0.3333333333333333,
              "#9c179e"
             ],
             [
              0.4444444444444444,
              "#bd3786"
             ],
             [
              0.5555555555555556,
              "#d8576b"
             ],
             [
              0.6666666666666666,
              "#ed7953"
             ],
             [
              0.7777777777777778,
              "#fb9f3a"
             ],
             [
              0.8888888888888888,
              "#fdca26"
             ],
             [
              1,
              "#f0f921"
             ]
            ],
            "type": "histogram2d"
           }
          ],
          "histogram2dcontour": [
           {
            "colorbar": {
             "outlinewidth": 0,
             "ticks": ""
            },
            "colorscale": [
             [
              0,
              "#0d0887"
             ],
             [
              0.1111111111111111,
              "#46039f"
             ],
             [
              0.2222222222222222,
              "#7201a8"
             ],
             [
              0.3333333333333333,
              "#9c179e"
             ],
             [
              0.4444444444444444,
              "#bd3786"
             ],
             [
              0.5555555555555556,
              "#d8576b"
             ],
             [
              0.6666666666666666,
              "#ed7953"
             ],
             [
              0.7777777777777778,
              "#fb9f3a"
             ],
             [
              0.8888888888888888,
              "#fdca26"
             ],
             [
              1,
              "#f0f921"
             ]
            ],
            "type": "histogram2dcontour"
           }
          ],
          "mesh3d": [
           {
            "colorbar": {
             "outlinewidth": 0,
             "ticks": ""
            },
            "type": "mesh3d"
           }
          ],
          "parcoords": [
           {
            "line": {
             "colorbar": {
              "outlinewidth": 0,
              "ticks": ""
             }
            },
            "type": "parcoords"
           }
          ],
          "pie": [
           {
            "automargin": true,
            "type": "pie"
           }
          ],
          "scatter": [
           {
            "fillpattern": {
             "fillmode": "overlay",
             "size": 10,
             "solidity": 0.2
            },
            "type": "scatter"
           }
          ],
          "scatter3d": [
           {
            "line": {
             "colorbar": {
              "outlinewidth": 0,
              "ticks": ""
             }
            },
            "marker": {
             "colorbar": {
              "outlinewidth": 0,
              "ticks": ""
             }
            },
            "type": "scatter3d"
           }
          ],
          "scattercarpet": [
           {
            "marker": {
             "colorbar": {
              "outlinewidth": 0,
              "ticks": ""
             }
            },
            "type": "scattercarpet"
           }
          ],
          "scattergeo": [
           {
            "marker": {
             "colorbar": {
              "outlinewidth": 0,
              "ticks": ""
             }
            },
            "type": "scattergeo"
           }
          ],
          "scattergl": [
           {
            "marker": {
             "colorbar": {
              "outlinewidth": 0,
              "ticks": ""
             }
            },
            "type": "scattergl"
           }
          ],
          "scattermapbox": [
           {
            "marker": {
             "colorbar": {
              "outlinewidth": 0,
              "ticks": ""
             }
            },
            "type": "scattermapbox"
           }
          ],
          "scatterpolar": [
           {
            "marker": {
             "colorbar": {
              "outlinewidth": 0,
              "ticks": ""
             }
            },
            "type": "scatterpolar"
           }
          ],
          "scatterpolargl": [
           {
            "marker": {
             "colorbar": {
              "outlinewidth": 0,
              "ticks": ""
             }
            },
            "type": "scatterpolargl"
           }
          ],
          "scatterternary": [
           {
            "marker": {
             "colorbar": {
              "outlinewidth": 0,
              "ticks": ""
             }
            },
            "type": "scatterternary"
           }
          ],
          "surface": [
           {
            "colorbar": {
             "outlinewidth": 0,
             "ticks": ""
            },
            "colorscale": [
             [
              0,
              "#0d0887"
             ],
             [
              0.1111111111111111,
              "#46039f"
             ],
             [
              0.2222222222222222,
              "#7201a8"
             ],
             [
              0.3333333333333333,
              "#9c179e"
             ],
             [
              0.4444444444444444,
              "#bd3786"
             ],
             [
              0.5555555555555556,
              "#d8576b"
             ],
             [
              0.6666666666666666,
              "#ed7953"
             ],
             [
              0.7777777777777778,
              "#fb9f3a"
             ],
             [
              0.8888888888888888,
              "#fdca26"
             ],
             [
              1,
              "#f0f921"
             ]
            ],
            "type": "surface"
           }
          ],
          "table": [
           {
            "cells": {
             "fill": {
              "color": "#EBF0F8"
             },
             "line": {
              "color": "white"
             }
            },
            "header": {
             "fill": {
              "color": "#C8D4E3"
             },
             "line": {
              "color": "white"
             }
            },
            "type": "table"
           }
          ]
         },
         "layout": {
          "annotationdefaults": {
           "arrowcolor": "#2a3f5f",
           "arrowhead": 0,
           "arrowwidth": 1
          },
          "autotypenumbers": "strict",
          "coloraxis": {
           "colorbar": {
            "outlinewidth": 0,
            "ticks": ""
           }
          },
          "colorscale": {
           "diverging": [
            [
             0,
             "#8e0152"
            ],
            [
             0.1,
             "#c51b7d"
            ],
            [
             0.2,
             "#de77ae"
            ],
            [
             0.3,
             "#f1b6da"
            ],
            [
             0.4,
             "#fde0ef"
            ],
            [
             0.5,
             "#f7f7f7"
            ],
            [
             0.6,
             "#e6f5d0"
            ],
            [
             0.7,
             "#b8e186"
            ],
            [
             0.8,
             "#7fbc41"
            ],
            [
             0.9,
             "#4d9221"
            ],
            [
             1,
             "#276419"
            ]
           ],
           "sequential": [
            [
             0,
             "#0d0887"
            ],
            [
             0.1111111111111111,
             "#46039f"
            ],
            [
             0.2222222222222222,
             "#7201a8"
            ],
            [
             0.3333333333333333,
             "#9c179e"
            ],
            [
             0.4444444444444444,
             "#bd3786"
            ],
            [
             0.5555555555555556,
             "#d8576b"
            ],
            [
             0.6666666666666666,
             "#ed7953"
            ],
            [
             0.7777777777777778,
             "#fb9f3a"
            ],
            [
             0.8888888888888888,
             "#fdca26"
            ],
            [
             1,
             "#f0f921"
            ]
           ],
           "sequentialminus": [
            [
             0,
             "#0d0887"
            ],
            [
             0.1111111111111111,
             "#46039f"
            ],
            [
             0.2222222222222222,
             "#7201a8"
            ],
            [
             0.3333333333333333,
             "#9c179e"
            ],
            [
             0.4444444444444444,
             "#bd3786"
            ],
            [
             0.5555555555555556,
             "#d8576b"
            ],
            [
             0.6666666666666666,
             "#ed7953"
            ],
            [
             0.7777777777777778,
             "#fb9f3a"
            ],
            [
             0.8888888888888888,
             "#fdca26"
            ],
            [
             1,
             "#f0f921"
            ]
           ]
          },
          "colorway": [
           "#636efa",
           "#EF553B",
           "#00cc96",
           "#ab63fa",
           "#FFA15A",
           "#19d3f3",
           "#FF6692",
           "#B6E880",
           "#FF97FF",
           "#FECB52"
          ],
          "font": {
           "color": "#2a3f5f"
          },
          "geo": {
           "bgcolor": "white",
           "lakecolor": "white",
           "landcolor": "white",
           "showlakes": true,
           "showland": true,
           "subunitcolor": "#C8D4E3"
          },
          "hoverlabel": {
           "align": "left"
          },
          "hovermode": "closest",
          "mapbox": {
           "style": "light"
          },
          "paper_bgcolor": "white",
          "plot_bgcolor": "white",
          "polar": {
           "angularaxis": {
            "gridcolor": "#EBF0F8",
            "linecolor": "#EBF0F8",
            "ticks": ""
           },
           "bgcolor": "white",
           "radialaxis": {
            "gridcolor": "#EBF0F8",
            "linecolor": "#EBF0F8",
            "ticks": ""
           }
          },
          "scene": {
           "xaxis": {
            "backgroundcolor": "white",
            "gridcolor": "#DFE8F3",
            "gridwidth": 2,
            "linecolor": "#EBF0F8",
            "showbackground": true,
            "ticks": "",
            "zerolinecolor": "#EBF0F8"
           },
           "yaxis": {
            "backgroundcolor": "white",
            "gridcolor": "#DFE8F3",
            "gridwidth": 2,
            "linecolor": "#EBF0F8",
            "showbackground": true,
            "ticks": "",
            "zerolinecolor": "#EBF0F8"
           },
           "zaxis": {
            "backgroundcolor": "white",
            "gridcolor": "#DFE8F3",
            "gridwidth": 2,
            "linecolor": "#EBF0F8",
            "showbackground": true,
            "ticks": "",
            "zerolinecolor": "#EBF0F8"
           }
          },
          "shapedefaults": {
           "line": {
            "color": "#2a3f5f"
           }
          },
          "ternary": {
           "aaxis": {
            "gridcolor": "#DFE8F3",
            "linecolor": "#A2B1C6",
            "ticks": ""
           },
           "baxis": {
            "gridcolor": "#DFE8F3",
            "linecolor": "#A2B1C6",
            "ticks": ""
           },
           "bgcolor": "white",
           "caxis": {
            "gridcolor": "#DFE8F3",
            "linecolor": "#A2B1C6",
            "ticks": ""
           }
          },
          "title": {
           "x": 0.05
          },
          "xaxis": {
           "automargin": true,
           "gridcolor": "#EBF0F8",
           "linecolor": "#EBF0F8",
           "ticks": "",
           "title": {
            "standoff": 15
           },
           "zerolinecolor": "#EBF0F8",
           "zerolinewidth": 2
          },
          "yaxis": {
           "automargin": true,
           "gridcolor": "#EBF0F8",
           "linecolor": "#EBF0F8",
           "ticks": "",
           "title": {
            "standoff": 15
           },
           "zerolinecolor": "#EBF0F8",
           "zerolinewidth": 2
          }
         }
        },
        "title": {
         "text": "Treemap of Weapon-Related Crimes and Arrests"
        }
       }
      }
     },
     "metadata": {},
     "output_type": "display_data"
    }
   ],
   "source": [
    "import plotly.express as px\n",
    "import pandas as pd\n",
    "\n",
    "# Filter the data to include only crimes with weapons involved\n",
    "weapon_crime_data = crime_data_cleaned[crime_data_cleaned['Weapon Involved']]\n",
    "\n",
    "# Aggregating the data for treemap\n",
    "weapon_arrest_data = weapon_crime_data.groupby('Crm Cd Desc').agg(\n",
    "    Total_Crimes=('Crm Cd Desc', 'count'),\n",
    "    Weapon_Involved=('Weapon Involved', 'sum'),\n",
    "    Arrest_Made=('Arrest Made', 'sum')\n",
    ").reset_index()\n",
    "\n",
    "# Create Treemap\n",
    "fig = px.treemap(\n",
    "    weapon_arrest_data,\n",
    "    path=['Crm Cd Desc'],  # Hierarchical levels: Crime Type\n",
    "    values='Weapon_Involved',  # Size of each block based on weapon involvement\n",
    "    color='Arrest_Made',  # Color intensity based on total arrests\n",
    "    hover_data={'Total_Crimes': True, 'Weapon_Involved': True, 'Arrest_Made': True},\n",
    "    title='Treemap of Weapon-Related Crimes and Arrests',\n",
    "    color_continuous_scale='Viridis',\n",
    "    labels={\n",
    "        'Crm Cd Desc': 'Crime Type',\n",
    "        'Total_Crimes': 'Total Crimes',\n",
    "        'Weapon_Involved': 'Weapon-Related Crimes',\n",
    "        'Arrest_Made': 'Total Arrests'\n",
    "    }\n",
    ")\n",
    "\n",
    "# Update layout\n",
    "fig.update_layout(\n",
    "    margin=dict(t=50, l=25, r=25, b=25),\n",
    "    template='plotly_white'\n",
    ")\n",
    "\n",
    "fig.show()\n"
   ]
  },
  {
   "cell_type": "markdown",
   "metadata": {},
   "source": [
    "### Conclusion \n",
    "\n",
    "The analysis presented in this file provides a comprehensive overview of crime trends, types, and enforcement outcomes. Here are the key takeaways:\n",
    "\n",
    "1. **Crime Distribution Patterns**:\n",
    "   - Crimes vary significantly across days of the week, with clear peaks and troughs reflecting societal routines and behaviors.\n",
    "   - Certain types of crimes, such as **Theft of Identity**, dominate the dataset, highlighting areas that may need enhanced preventative measures.\n",
    "\n",
    "2. **Weapon Involvement**:\n",
    "   - The inclusion of weapons in crimes adds a layer of complexity and danger, with certain crime types (e.g., violent assaults) showing a higher prevalence of weapon use.\n",
    "   - This underscores the need for targeted policing strategies and preventative measures for weapon-related crimes.\n",
    "\n",
    "3. **Arrest Trends**:\n",
    "   - The analysis revealed disparities in arrest rates across crime types. Some crimes see frequent arrests (indicating effective enforcement), while others exhibit low arrest rates, signaling potential challenges in investigation or evidence collection.\n",
    "\n",
    "4. **Visualization Insights**:\n",
    "   - The use of **sunburst charts** and **treemaps** allowed for a nuanced view of crime distribution, weapon involvement, and arrest outcomes, providing actionable insights at multiple levels of granularity.\n",
    "\n",
    "5. **Policy Implications**:\n",
    "   - High-frequency crimes like **Theft of Identity** require systemic interventions, such as improved cybersecurity or fraud detection systems.\n",
    "   - Resource allocation should focus on addressing crimes with high weapon involvement and low arrest rates to enhance public safety.\n",
    "\n",
    "### Final Thoughts\n",
    "This analysis serves as a data-driven guide for stakeholders, including policymakers and law enforcement agencies, to prioritize resources and develop strategies that address the most pressing crime-related challenges. Further research could delve into the underlying causes of these patterns and explore regional or temporal trends to refine intervention efforts."
   ]
  },
  {
   "cell_type": "code",
   "execution_count": null,
   "metadata": {},
   "outputs": [],
   "source": []
  }
 ],
 "metadata": {
  "kernelspec": {
   "display_name": "base",
   "language": "python",
   "name": "python3"
  },
  "language_info": {
   "codemirror_mode": {
    "name": "ipython",
    "version": 3
   },
   "file_extension": ".py",
   "mimetype": "text/x-python",
   "name": "python",
   "nbconvert_exporter": "python",
   "pygments_lexer": "ipython3",
   "version": "3.12.4"
  }
 },
 "nbformat": 4,
 "nbformat_minor": 2
}
